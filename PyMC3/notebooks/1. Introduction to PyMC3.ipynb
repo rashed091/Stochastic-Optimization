{
 "cells": [
  {
   "cell_type": "markdown",
   "metadata": {},
   "source": [
    "# Introduction to PyMC3\n",
    "\n",
    "\n",
    "Probabilistic programming (PP) allows flexible specification of Bayesian statistical models in code. PyMC3 is a new, open-source PP framework with an intuitive and readable, yet powerful, syntax that is close to the natural syntax statisticians use to describe models. It features next-generation Markov chain Monte Carlo (MCMC) sampling algorithms such as the No-U-Turn Sampler (NUTS; Hoffman, 2014), a self-tuning variant of Hamiltonian Monte Carlo (HMC; Duane, 1987). This class of samplers works well on high dimensional and complex posterior distributions and allows many complex models to be fit without specialized knowledge about fitting algorithms. HMC and NUTS take advantage of gradient information from the likelihood to achieve much faster convergence than traditional sampling methods, especially for larger models. NUTS also has several self-tuning strategies for adaptively setting the tunable parameters of Hamiltonian Monte Carlo, which means you usually don't need to have specialized knowledge about how the algorithms work. PyMC3, Stan (Stan Development Team, 2014), and the LaplacesDemon package for R are currently the only PP packages to offer HMC.\n",
    "\n",
    "### PyMC3 Features\n",
    "\n",
    "Probabilistic programming in Python confers a number of advantages including multi-platform compatibility, an expressive yet clean and readable syntax, easy integration with other scientific libraries, and extensibility via C, C++, Fortran or Cython. These features make it relatively straightforward to write and use custom statistical distributions, samplers and transformation functions, as required by Bayesian analysis.\n",
    "\n",
    "PyMC3's feature set helps to make Bayesian analysis as painless as possible. Here is a short list of some of its features:\n",
    "\n",
    "-   Fits Bayesian statistical models with Markov chain Monte Carlo, variational inference and\n",
    "    other algorithms.\n",
    "-   Includes a large suite of well-documented statistical distributions.\n",
    "-   Creates summaries including tables and plots.\n",
    "-   Traces can be saved to the disk as plain text, SQLite or pandas dataframes.\n",
    "-   Several convergence diagnostics and model checking methods are available.\n",
    "-   Extensible: easily incorporates custom step methods and unusual probability distributions.\n",
    "-   MCMC loops can be embedded in larger programs, and results can be analyzed with the full power of Python.\n",
    "\n",
    "Here, we present a primer on the use of PyMC3 for solving general Bayesian statistical inference and prediction problems. We will first see the basics of how to use PyMC3, motivated by a simple example: installation, data creation, model definition, model fitting and posterior analysis. Then we will cover two case studies and use them to show how to define and fit more sophisticated models. Finally we will show how to extend PyMC3 and discuss other useful features: the Generalized Linear Models subpackage, custom distributions, custom transformations and alternative storage backends."
   ]
  },
  {
   "cell_type": "markdown",
   "metadata": {},
   "source": [
    "## Motivating Example: Coal mining disasters\n",
    "\n",
    "Consider the following time series of recorded coal mining disasters in the UK from 1851 to 1962 (Jarrett, 1979). The number of disasters is thought to have been affected by changes in safety regulations during this period.\n",
    "\n",
    "Let's build a model for this series and attempt to estimate when the change occurred."
   ]
  },
  {
   "cell_type": "code",
   "execution_count": 1,
   "metadata": {},
   "outputs": [
    {
     "data": {
      "image/png": "[encoded data removed]",
      "text/plain": [
       "<Figure size 900x252 with 1 Axes>"
      ]
     },
     "metadata": {},
     "output_type": "display_data"
    }
   ],
   "source": [
    "%matplotlib inline\n",
    "import numpy as np\n",
    "import matplotlib.pyplot as plt\n",
    "import warnings\n",
    "warnings.filterwarnings(\"ignore\", category=UserWarning)\n",
    "\n",
    "disasters_data = np.array([4, 5, 4, 0, 1, 4, 3, 4, 0, 6, 3, 3, 4, 0, 2, 6,\n",
    "                         3, 3, 5, 4, 5, 3, 1, 4, 4, 1, 5, 5, 3, 4, 2, 5,\n",
    "                         2, 2, 3, 4, 2, 1, 3, 2, 2, 1, 1, 1, 1, 3, 0, 0,\n",
    "                         1, 0, 1, 1, 0, 0, 3, 1, 0, 3, 2, 2, 0, 1, 1, 1,\n",
    "                         0, 1, 0, 1, 0, 0, 0, 2, 1, 0, 0, 0, 1, 1, 0, 2,\n",
    "                         3, 3, 1, 1, 2, 1, 1, 1, 1, 2, 4, 2, 0, 0, 1, 4,\n",
    "                         0, 0, 0, 1, 0, 0, 0, 0, 0, 1, 0, 0, 1, 0, 1])\n",
    "\n",
    "n_years = len(disasters_data)\n",
    "\n",
    "plt.figure(figsize=(12.5, 3.5))\n",
    "plt.bar(np.arange(1851, 1962), disasters_data, color=\"#348ABD\")\n",
    "plt.xlabel(\"Year\")\n",
    "plt.ylabel(\"Disasters\")\n",
    "plt.title(\"UK coal mining disasters, 1851-1962\")\n",
    "plt.xlim(1851, 1962);"
   ]
  },
  {
   "cell_type": "markdown",
   "metadata": {},
   "source": [
    "We represent our conceptual model formally as a statistical model:\n",
    "\n",
    "$$\\begin{array}{ccc}  \n",
    "(y_t | \\tau, \\lambda_1, \\lambda_2) \\sim\\text{Poisson}\\left(r_t\\right), & r_t=\\left\\{\n",
    "\\begin{array}{lll}             \n",
    "\\lambda_1 &\\text{if}& t< \\tau\\\\ \n",
    "\\lambda_2 &\\text{if}& t\\ge \\tau             \n",
    "\\end{array}\\right.,&t\\in[t_l,t_h]\\\\         \n",
    "\\tau \\sim \\text{DiscreteUniform}(t_l, t_h)\\\\         \n",
    "\\lambda_1\\sim \\text{Exponential}(a)\\\\         \n",
    "\\lambda_2\\sim \\text{Exponential}(b)     \n",
    "\\end{array}$$\n",
    "\n",
    "Because we have defined $y$ by its dependence on $\\tau$, $\\lambda_1$ and $\\lambda_2$, the latter three are known as the *parents* of $y$, and $y$ is called their *child*. Similarly, the parents of $\\tau$ are $t_l$ and $t_h$, and $\\tau$ is the child of $t_l$ and $t_h$.\n",
    "\n",
    "## Implementing a PyMC Model\n",
    "\n",
    "At the model-specification stage (before the data are observed), $y$, $\\tau$, $\\lambda_1$, and $\\lambda_2$ are all random variables. Bayesian \"random\" variables have not necessarily arisen from a physical random process. The Bayesian interpretation of probability is **epistemic**, meaning random variable $x$'s probability distribution $p(x)$ represents our knowledge and uncertainty about $x$'s value. Candidate values of $x$ for which $p(x)$ is high are relatively more probable, given what we know. \n",
    "\n",
    "We can generally divide the variables in a Bayesian model into two types: **stochastic** and **deterministic**. The only deterministic variable in this model is $r$. If we knew the values of $r$'s parents, we could compute the value of $r$ exactly. A deterministic like $r$ is defined by a mathematical function that returns its value given values for its parents. Deterministic variables are sometimes called the *systemic* part of the model. The nomenclature is a bit confusing, because these objects usually represent random variables; since the parents of $r$ are random, $r$ is random also.\n",
    "\n",
    "On the other hand, even if the values of the parents of variables `switchpoint`, `disasters` (before observing the data), `early_mean` or `late_mean` were known, we would still be uncertain of their values. These variables are stochastic, characterized by probability distributions that express how plausible their candidate values are, given values for their parents.\n",
    "\n",
    "Let's begin by defining the unknown switchpoint as a discrete uniform random variable:"
   ]
  },
  {
   "cell_type": "code",
   "execution_count": 2,
   "metadata": {},
   "outputs": [],
   "source": [
    "from pymc3 import DiscreteUniform, Model\n",
    "\n",
    "with Model() as disaster_model:\n",
    "\n",
    "    switchpoint = DiscreteUniform('switchpoint', lower=0, upper=n_years)"
   ]
  },
  {
   "cell_type": "markdown",
   "metadata": {},
   "source": [
    "We have done two things here. First, we have created a `Model` object; a `Model` is a Python object that encapsulates all of the variables that comprise our theoretical model, keeping them in a single container so that they may be used as a unit. After a `Model` is created, we can populate it with all of the model components that we specified when we wrote the model down. \n",
    "\n",
    "Notice that the `Model` above was declared using a `with` statement. This expression is used to define a Python idiom known as a **context manager**. Context managers, in general, are used to manage resources of some kind within a program. In this case, our resource is a `Model`, and we would like to add variables to it so that we can fit our statistical model. The key characteristic of the context manager is that the resources it manages are only defined within the indented block corresponding to the `with` statement. PyMC uses this idiom to automatically add defined variables to a model. Thus, any variable we define is automatically added to the `Model`, without having to explicitly add it. This avoids the repetitive syntax of `add` methods/functions that you see in some machine learning packages:\n",
    "\n",
    "```python\n",
    "model.add(a_variable)\n",
    "model.add(another_variable)\n",
    "model.add(yet_another_variable)\n",
    "model.add(and_again)\n",
    "model.add(please_kill_me_now)\n",
    "...\n",
    "```\n",
    "\n",
    "In fact, PyMC variables cannot be defined without a corresponding `Model`:"
   ]
  },
  {
   "cell_type": "code",
   "execution_count": 3,
   "metadata": {},
   "outputs": [
    {
     "ename": "TypeError",
     "evalue": "No model on context stack, which is needed to instantiate distributions. Add variable inside a 'with model:' block, or use the '.dist' syntax for a standalone distribution.",
     "output_type": "error",
     "traceback": [
      "\u001b[0;31m---------------------------------------------------------------------------\u001b[0m",
      "\u001b[0;31mIndexError\u001b[0m                                Traceback (most recent call last)",
      "\u001b[0;32m~/Repos/pymc3/pymc3/model.py\u001b[0m in \u001b[0;36mget_context\u001b[0;34m(cls)\u001b[0m\n\u001b[1;32m    179\u001b[0m         \u001b[0;32mtry\u001b[0m\u001b[0;34m:\u001b[0m\u001b[0;34m\u001b[0m\u001b[0m\n\u001b[0;32m--> 180\u001b[0;31m             \u001b[0;32mreturn\u001b[0m \u001b[0mcls\u001b[0m\u001b[0;34m.\u001b[0m\u001b[0mget_contexts\u001b[0m\u001b[0;34m(\u001b[0m\u001b[0;34m)\u001b[0m\u001b[0;34m[\u001b[0m\u001b[0;34m-\u001b[0m\u001b[0;36m1\u001b[0m\u001b[0;34m]\u001b[0m\u001b[0;34m\u001b[0m\u001b[0m\n\u001b[0m\u001b[1;32m    181\u001b[0m         \u001b[0;32mexcept\u001b[0m \u001b[0mIndexError\u001b[0m\u001b[0;34m:\u001b[0m\u001b[0;34m\u001b[0m\u001b[0m\n",
      "\u001b[0;31mIndexError\u001b[0m: list index out of range",
      "\nDuring handling of the above exception, another exception occurred:\n",
      "\u001b[0;31mTypeError\u001b[0m                                 Traceback (most recent call last)",
      "\u001b[0;32m~/Repos/pymc3/pymc3/distributions/distribution.py\u001b[0m in \u001b[0;36m__new__\u001b[0;34m(cls, name, *args, **kwargs)\u001b[0m\n\u001b[1;32m     25\u001b[0m         \u001b[0;32mtry\u001b[0m\u001b[0;34m:\u001b[0m\u001b[0;34m\u001b[0m\u001b[0m\n\u001b[0;32m---> 26\u001b[0;31m             \u001b[0mmodel\u001b[0m \u001b[0;34m=\u001b[0m \u001b[0mModel\u001b[0m\u001b[0;34m.\u001b[0m\u001b[0mget_context\u001b[0m\u001b[0;34m(\u001b[0m\u001b[0;34m)\u001b[0m\u001b[0;34m\u001b[0m\u001b[0m\n\u001b[0m\u001b[1;32m     27\u001b[0m         \u001b[0;32mexcept\u001b[0m \u001b[0mTypeError\u001b[0m\u001b[0;34m:\u001b[0m\u001b[0;34m\u001b[0m\u001b[0m\n",
      "\u001b[0;32m~/Repos/pymc3/pymc3/model.py\u001b[0m in \u001b[0;36mget_context\u001b[0;34m(cls)\u001b[0m\n\u001b[1;32m    181\u001b[0m         \u001b[0;32mexcept\u001b[0m \u001b[0mIndexError\u001b[0m\u001b[0;34m:\u001b[0m\u001b[0;34m\u001b[0m\u001b[0m\n\u001b[0;32m--> 182\u001b[0;31m             \u001b[0;32mraise\u001b[0m \u001b[0mTypeError\u001b[0m\u001b[0;34m(\u001b[0m\u001b[0;34m\"No context on context stack\"\u001b[0m\u001b[0;34m)\u001b[0m\u001b[0;34m\u001b[0m\u001b[0m\n\u001b[0m\u001b[1;32m    183\u001b[0m \u001b[0;34m\u001b[0m\u001b[0m\n",
      "\u001b[0;31mTypeError\u001b[0m: No context on context stack",
      "\nDuring handling of the above exception, another exception occurred:\n",
      "\u001b[0;31mTypeError\u001b[0m                                 Traceback (most recent call last)",
      "\u001b[0;32m<ipython-input-3-07eea688f746>\u001b[0m in \u001b[0;36m<module>\u001b[0;34m()\u001b[0m\n\u001b[0;32m----> 1\u001b[0;31m \u001b[0moops\u001b[0m \u001b[0;34m=\u001b[0m \u001b[0mDiscreteUniform\u001b[0m\u001b[0;34m(\u001b[0m\u001b[0;34m'oops'\u001b[0m\u001b[0;34m,\u001b[0m \u001b[0mlower\u001b[0m\u001b[0;34m=\u001b[0m\u001b[0;36m0\u001b[0m\u001b[0;34m,\u001b[0m \u001b[0mupper\u001b[0m\u001b[0;34m=\u001b[0m\u001b[0;36m10\u001b[0m\u001b[0;34m)\u001b[0m\u001b[0;34m\u001b[0m\u001b[0m\n\u001b[0m",
      "\u001b[0;32m~/Repos/pymc3/pymc3/distributions/distribution.py\u001b[0m in \u001b[0;36m__new__\u001b[0;34m(cls, name, *args, **kwargs)\u001b[0m\n\u001b[1;32m     26\u001b[0m             \u001b[0mmodel\u001b[0m \u001b[0;34m=\u001b[0m \u001b[0mModel\u001b[0m\u001b[0;34m.\u001b[0m\u001b[0mget_context\u001b[0m\u001b[0;34m(\u001b[0m\u001b[0;34m)\u001b[0m\u001b[0;34m\u001b[0m\u001b[0m\n\u001b[1;32m     27\u001b[0m         \u001b[0;32mexcept\u001b[0m \u001b[0mTypeError\u001b[0m\u001b[0;34m:\u001b[0m\u001b[0;34m\u001b[0m\u001b[0m\n\u001b[0;32m---> 28\u001b[0;31m             raise TypeError(\"No model on context stack, which is needed to \"\n\u001b[0m\u001b[1;32m     29\u001b[0m                             \u001b[0;34m\"instantiate distributions. Add variable inside \"\u001b[0m\u001b[0;34m\u001b[0m\u001b[0m\n\u001b[1;32m     30\u001b[0m                             \u001b[0;34m\"a 'with model:' block, or use the '.dist' syntax \"\u001b[0m\u001b[0;34m\u001b[0m\u001b[0m\n",
      "\u001b[0;31mTypeError\u001b[0m: No model on context stack, which is needed to instantiate distributions. Add variable inside a 'with model:' block, or use the '.dist' syntax for a standalone distribution."
     ]
    }
   ],
   "source": [
    "oops = DiscreteUniform('oops', lower=0, upper=10)"
   ]
  },
  {
   "cell_type": "markdown",
   "metadata": {},
   "source": [
    "However, variables can be explicitly added to models without the use of a context manager, via the variable's optional `model` argument.\n",
    "\n",
    "```python\n",
    "disaster_model = Model()\n",
    "switchpoint = DiscreteUniform('switchpoint', lower=0, upper=110, model=disaster_model)\n",
    "```"
   ]
  },
  {
   "cell_type": "markdown",
   "metadata": {},
   "source": [
    "Or, if we just want a discrete uniform distribution, and do not need to use it in a PyMC3 model necessarily, we can create one using the `dist` classmethod."
   ]
  },
  {
   "cell_type": "code",
   "execution_count": 4,
   "metadata": {},
   "outputs": [
    {
     "data": {
      "text/plain": [
       "pymc3.distributions.discrete.DiscreteUniform"
      ]
     },
     "execution_count": 4,
     "metadata": {},
     "output_type": "execute_result"
    }
   ],
   "source": [
    "x = DiscreteUniform.dist(lower=0, upper=100)\n",
    "type(x)"
   ]
  },
  {
   "cell_type": "markdown",
   "metadata": {},
   "source": [
    "`DiscreteUniform` is an object that represents uniformly-distributed discrete variables. Use of this distribution\n",
    "suggests that we have no preference *a priori* regarding the location of the switchpoint; all values are equally likely. \n",
    "\n",
    "PyMC3 includes most of the common random variable **distributions** used for statistical modeling."
   ]
  },
  {
   "cell_type": "code",
   "execution_count": 5,
   "metadata": {},
   "outputs": [
    {
     "data": {
      "text/plain": [
       "['Uniform',\n",
       " 'Flat',\n",
       " 'HalfFlat',\n",
       " 'Normal',\n",
       " 'Beta',\n",
       " 'Kumaraswamy',\n",
       " 'Exponential',\n",
       " 'Laplace',\n",
       " 'StudentT',\n",
       " 'Cauchy',\n",
       " 'HalfCauchy',\n",
       " 'Gamma',\n",
       " 'Weibull',\n",
       " 'Bound',\n",
       " 'Lognormal',\n",
       " 'HalfStudentT',\n",
       " 'ChiSquared',\n",
       " 'HalfNormal',\n",
       " 'Wald',\n",
       " 'Pareto',\n",
       " 'InverseGamma',\n",
       " 'ExGaussian',\n",
       " 'VonMises',\n",
       " 'Binomial',\n",
       " 'BetaBinomial',\n",
       " 'Bernoulli',\n",
       " 'Poisson',\n",
       " 'NegativeBinomial',\n",
       " 'ConstantDist',\n",
       " 'Constant',\n",
       " 'ZeroInflatedPoisson',\n",
       " 'ZeroInflatedNegativeBinomial',\n",
       " 'ZeroInflatedBinomial',\n",
       " 'DiscreteUniform',\n",
       " 'Geometric',\n",
       " 'Categorical',\n",
       " 'OrderedLogistic',\n",
       " 'DensityDist',\n",
       " 'Distribution',\n",
       " 'Continuous',\n",
       " 'Discrete',\n",
       " 'NoDistribution',\n",
       " 'TensorType',\n",
       " 'MvNormal',\n",
       " 'MatrixNormal',\n",
       " 'KroneckerNormal',\n",
       " 'MvStudentT',\n",
       " 'Dirichlet',\n",
       " 'Multinomial',\n",
       " 'Wishart',\n",
       " 'WishartBartlett',\n",
       " 'LKJCholeskyCov',\n",
       " 'LKJCorr',\n",
       " 'AR1',\n",
       " 'AR',\n",
       " 'GaussianRandomWalk',\n",
       " 'MvGaussianRandomWalk',\n",
       " 'MvStudentTRandomWalk',\n",
       " 'GARCH11',\n",
       " 'SkewNormal',\n",
       " 'Mixture',\n",
       " 'NormalMixture',\n",
       " 'Triangular',\n",
       " 'DiscreteWeibull',\n",
       " 'Gumbel',\n",
       " 'Logistic',\n",
       " 'LogitNormal',\n",
       " 'Interpolated',\n",
       " 'Bound']"
      ]
     },
     "execution_count": 5,
     "metadata": {},
     "output_type": "execute_result"
    }
   ],
   "source": [
    "from pymc3 import distributions\n",
    "distributions.__all__"
   ]
  },
  {
   "cell_type": "markdown",
   "metadata": {},
   "source": [
    "By having a library of variables that represent statistical distributions, users are relieved of having to code distrbutions themselves. "
   ]
  },
  {
   "cell_type": "markdown",
   "metadata": {},
   "source": [
    "Similarly, we can create the exponentially-distributed variables `early_mean` and `late_mean` for the early and late Poisson rates, respectively (also in the context of the model `distater_model`):"
   ]
  },
  {
   "cell_type": "code",
   "execution_count": 6,
   "metadata": {},
   "outputs": [],
   "source": [
    "from pymc3 import Exponential\n",
    "\n",
    "with disaster_model:\n",
    "    \n",
    "    early_mean = Exponential('early_mean', 1)\n",
    "    late_mean = Exponential('late_mean', 1)"
   ]
  },
  {
   "cell_type": "markdown",
   "metadata": {},
   "source": [
    "Next, we define the variable `rate`, which selects the early rate `early_mean` for times before `switchpoint` and the late rate `late_mean` for times after `switchpoint`. We create `rate` using the `switch` function, which returns `early_mean` when the switchpoint is larger than (or equal to) a particular year, and `late_mean` otherwise."
   ]
  },
  {
   "cell_type": "code",
   "execution_count": 7,
   "metadata": {},
   "outputs": [],
   "source": [
    "from pymc3.math import switch\n",
    "\n",
    "with disaster_model:\n",
    "    \n",
    "    rate = switch(switchpoint <= np.arange(n_years), early_mean, late_mean)"
   ]
  },
  {
   "cell_type": "markdown",
   "metadata": {},
   "source": [
    "The last step is to define the **data likelihood**, or sampling distribution. In this case, our measured outcome is the number of disasters in each year, `disasters`. This is a stochastic variable but unlike `early_mean` and `late_mean` we have *observed* its value. To express this, we set the argument `observed` to the observed sequence of disasters. This tells PyMC that this distribution's value is fixed, and should not be changed:"
   ]
  },
  {
   "cell_type": "code",
   "execution_count": 8,
   "metadata": {},
   "outputs": [],
   "source": [
    "from pymc3 import Poisson\n",
    "\n",
    "with disaster_model:\n",
    "    \n",
    "    disasters = Poisson('disasters', mu=rate, observed=disasters_data)"
   ]
  },
  {
   "cell_type": "markdown",
   "metadata": {},
   "source": [
    "> ### Why are data and unknown variables represented by the same object?\n",
    "\n",
    ">Since its represented by PyMC random variable object, `disasters` is defined by its dependence on its parent `rate` even though its value is **fixed**. This isn't just a quirk of PyMC's syntax; Bayesian hierarchical notation itself makes no distinction between random variables and data. The reason is simple: to use Bayes' theorem to compute the posterior, we require the likelihood. Even though `disasters`'s value is known and fixed, we need to formally assign it a *probability distribution* as if it were a random variable. Remember, the likelihood and the probability function are essentially the same, except that the former is regarded as a function of the parameters and the latter as a function of the data. This point can be counterintuitive at first, as many peoples' instinct is to regard data as fixed a priori and unknown variables as dependent on the data. \n",
    "\n",
    "> One way to understand this is to think of statistical models as predictive models for data, or as models of the processes that gave rise to data. Before observing the value of `disasters`, we could have sampled from its prior predictive distribution $p(y)$ (*i.e.* the marginal distribution of the data) as follows:\n",
    "\n",
    "> -   Sample `early_mean`, `switchpoint` and `late_mean` from their\n",
    ">     priors.\n",
    "> -   Sample `disasters` conditional on these values.\n",
    "\n",
    "> Even after we observe the value of `disasters`, we need to use this process model to make inferences about `early_mean` , `switchpoint` and `late_mean` because its the only information we have about how the variables are related.\n",
    "\n",
    "> We will see later that we can sample from this fixed stochastic random variable, to obtain predictions after having observed our data."
   ]
  },
  {
   "cell_type": "markdown",
   "metadata": {},
   "source": [
    "The model that we specified at the top of the page has now been fully implemented in PyMC3. Let's have a look at the model's attributes to see what we have.\n",
    "\n",
    "The stochastic nodes in the model are identified in the `vars` (*i.e.* variables) attribute:"
   ]
  },
  {
   "cell_type": "code",
   "execution_count": 9,
   "metadata": {
    "scrolled": true
   },
   "outputs": [
    {
     "data": {
      "text/plain": [
       "[switchpoint, early_mean_log__, late_mean_log__]"
      ]
     },
     "execution_count": 9,
     "metadata": {},
     "output_type": "execute_result"
    }
   ],
   "source": [
    "disaster_model.vars"
   ]
  },
  {
   "cell_type": "markdown",
   "metadata": {},
   "source": [
    "The last two variables are the log-transformed versions of the early and late rate parameters. In PyMC3, variables with purely positive priors like `Exponential` are **transformed** with a log function. This makes sampling more robust. Behind the scenes, a variable in the unconstrained space (named `<variable name>_log_`) is added to the model for sampling. In this model this happens behind the scenes. Variables with priors that constrain them on two sides, like `Beta` or `Uniform` (continuous), are also transformed to be unconstrained but with a log odds transform.\n",
    "\n",
    "The original variables have become deterministic nodes in the model, since they only represent values that have been back-transformed from the transformed variable, which has been subject to fitting or sampling."
   ]
  },
  {
   "cell_type": "code",
   "execution_count": 10,
   "metadata": {},
   "outputs": [
    {
     "data": {
      "text/plain": [
       "[early_mean, late_mean]"
      ]
     },
     "execution_count": 10,
     "metadata": {},
     "output_type": "execute_result"
    }
   ],
   "source": [
    "disaster_model.deterministics"
   ]
  },
  {
   "cell_type": "markdown",
   "metadata": {},
   "source": [
    "You might wonder why `rate`, which is a deterministic component of the model, is not in this list. This is because, unlike the other components of the model, `rate` has not been given a name and given a formal PyMC data structure. It is essentially an **intermediate calculation** in the model, implying that we are not interested in its value when it comes to summarizing the output from the model. Most PyMC objects have a name assigned; these names are used for storage and post-processing:\n",
    "\n",
    "-   as keys in on-disk databases,\n",
    "-   as axis labels in plots of traces,\n",
    "-   as table labels in summary statistics.\n",
    "\n",
    "If we wish to include `rate` in our output, we need to make it a `Deterministic` object, and give it a name:"
   ]
  },
  {
   "cell_type": "code",
   "execution_count": 11,
   "metadata": {},
   "outputs": [],
   "source": [
    "from pymc3 import Deterministic\n",
    "\n",
    "with disaster_model:\n",
    "    \n",
    "    rate = Deterministic('rate', switch(switchpoint <= np.arange(n_years), early_mean, late_mean))"
   ]
  },
  {
   "cell_type": "markdown",
   "metadata": {},
   "source": [
    "Now, `rate` is included in the `Model`'s deterministics list, and the model will retain its samples during MCMC sampling, for example."
   ]
  },
  {
   "cell_type": "code",
   "execution_count": 12,
   "metadata": {},
   "outputs": [
    {
     "data": {
      "text/plain": [
       "[early_mean, late_mean, rate]"
      ]
     },
     "execution_count": 12,
     "metadata": {},
     "output_type": "execute_result"
    }
   ],
   "source": [
    "disaster_model.deterministics"
   ]
  },
  {
   "cell_type": "markdown",
   "metadata": {},
   "source": [
    "## PyMC3 Variables\n",
    "\n",
    "Each of the built-in statistical variables are subclasses of the generic `Distribution` class in PyMC3. The `Distribution` carries relevant **attributes** about the probability distribution, such as the data type (called `dtype`), any relevant transformations (`transform`, see below), and initial values (`init_value`)."
   ]
  },
  {
   "cell_type": "code",
   "execution_count": 13,
   "metadata": {},
   "outputs": [
    {
     "data": {
      "text/plain": [
       "'int64'"
      ]
     },
     "execution_count": 13,
     "metadata": {},
     "output_type": "execute_result"
    }
   ],
   "source": [
    "disasters.dtype"
   ]
  },
  {
   "cell_type": "code",
   "execution_count": 14,
   "metadata": {},
   "outputs": [
    {
     "data": {
      "text/plain": [
       "array(0.69314718)"
      ]
     },
     "execution_count": 14,
     "metadata": {},
     "output_type": "execute_result"
    }
   ],
   "source": [
    "early_mean.init_value"
   ]
  },
  {
   "cell_type": "markdown",
   "metadata": {},
   "source": [
    "PyMC's built-in distribution variables can also be used to generate **random values** from that variable. For example, the `switchpoint`, which is a discrete uniform random variable, can generate random draws:"
   ]
  },
  {
   "cell_type": "code",
   "execution_count": 15,
   "metadata": {},
   "outputs": [
    {
     "data": {
      "image/png": "[encoded data removed]",
      "text/plain": [
       "<Figure size 432x288 with 1 Axes>"
      ]
     },
     "metadata": {},
     "output_type": "display_data"
    }
   ],
   "source": [
    "plt.hist(switchpoint.random(size=100000));"
   ]
  },
  {
   "cell_type": "markdown",
   "metadata": {},
   "source": [
    "As we noted earlier, some variables have undergone **transformations** prior to sampling. Such variables will have `transformed` attributes that points to the variable that it has been transformed to."
   ]
  },
  {
   "cell_type": "code",
   "execution_count": 16,
   "metadata": {},
   "outputs": [
    {
     "data": {
      "text/plain": [
       "early_mean_log__"
      ]
     },
     "execution_count": 16,
     "metadata": {},
     "output_type": "execute_result"
    }
   ],
   "source": [
    "early_mean.transformed"
   ]
  },
  {
   "cell_type": "markdown",
   "metadata": {},
   "source": [
    "Variables will usually have an associated distribution, as determined by the constructor used to create it. For example, the `switchpoint` variable was created by calling `DiscreteUniform()`. Hence, its distribution is `DiscreteUniform`:"
   ]
  },
  {
   "cell_type": "code",
   "execution_count": 17,
   "metadata": {},
   "outputs": [
    {
     "data": {
      "text/plain": [
       "pymc3.distributions.discrete.DiscreteUniform"
      ]
     },
     "execution_count": 17,
     "metadata": {},
     "output_type": "execute_result"
    }
   ],
   "source": [
    "type(switchpoint.distribution)"
   ]
  },
  {
   "cell_type": "markdown",
   "metadata": {},
   "source": [
    "As with all Python objects, the underlying type of a variable can be exposed with the `type()` function:"
   ]
  },
  {
   "cell_type": "code",
   "execution_count": 18,
   "metadata": {},
   "outputs": [
    {
     "data": {
      "text/plain": [
       "pymc3.model.FreeRV"
      ]
     },
     "execution_count": 18,
     "metadata": {},
     "output_type": "execute_result"
    }
   ],
   "source": [
    "type(switchpoint)"
   ]
  },
  {
   "cell_type": "code",
   "execution_count": 19,
   "metadata": {},
   "outputs": [
    {
     "data": {
      "text/plain": [
       "pymc3.model.ObservedRV"
      ]
     },
     "execution_count": 19,
     "metadata": {},
     "output_type": "execute_result"
    }
   ],
   "source": [
    "type(disasters)"
   ]
  },
  {
   "cell_type": "markdown",
   "metadata": {},
   "source": [
    "We will learn more about these types in an upcoming section."
   ]
  },
  {
   "cell_type": "markdown",
   "metadata": {},
   "source": [
    "## Variable log-probabilities\n",
    "\n",
    "All PyMC3 stochastic variables can evaluate their probability mass or density functions at a particular value, given the values of their parents. The **logarithm** of a stochastic object's probability mass or density can be\n",
    "accessed via the `logp` method. "
   ]
  },
  {
   "cell_type": "code",
   "execution_count": 20,
   "metadata": {
    "scrolled": true
   },
   "outputs": [
    {
     "data": {
      "text/plain": [
       "array(-4.71849887)"
      ]
     },
     "execution_count": 20,
     "metadata": {},
     "output_type": "execute_result"
    }
   ],
   "source": [
    "switchpoint.logp({'switchpoint':15, 'early_mean_log__':1, 'late_mean_log__':1})"
   ]
  },
  {
   "cell_type": "markdown",
   "metadata": {},
   "source": [
    "For **vector-valued** variables like `disasters`, the `logp` attribute returns the **sum** of the logarithms of\n",
    "the joint probability or density of all elements of the value."
   ]
  },
  {
   "cell_type": "code",
   "execution_count": 21,
   "metadata": {},
   "outputs": [
    {
     "data": {
      "text/plain": [
       "array(-225.5380749)"
      ]
     },
     "execution_count": 21,
     "metadata": {},
     "output_type": "execute_result"
    }
   ],
   "source": [
    "disasters.logp({'switchpoint':5, 'early_mean_log__':1, 'late_mean_log__':1})"
   ]
  },
  {
   "cell_type": "markdown",
   "metadata": {},
   "source": [
    "### Custom variables\n",
    "\n",
    "Though we created the variables in `disaster_model` using well-known probability distributions that are available in PyMC3, its possible to create custom distributions by **wrapping** functions that compute an arbitrary log-probability using the `DensityDist` function. For example, our initial example showed an exponential survival function, which accounts for censored data. If we pass this function as the `logp` argument for `DensityDist`, we can use it as the data likelihood in a survival model:\n",
    "\n",
    "```python\n",
    "def logp(failure, value):\n",
    "    return (failure * log(lam) - lam * value).sum()\n",
    "\n",
    "x = DensityDist('x', logp, observed={'failure':failure, 'value':t})\n",
    "```\n",
    "\n",
    "Users are thus not\n",
    "limited to the set of of statistical distributions provided by PyMC."
   ]
  },
  {
   "cell_type": "markdown",
   "metadata": {},
   "source": [
    "## Fitting the model with MCMC\n",
    "\n",
    "PyMC3's `sample` function will fit probability models (linked collections of variables) like ours using Markov chain Monte Carlo (MCMC) sampling. Unless we manually assign particular algorithms to variables in our model, PyMC will assign algorithms that it deems appropriate (it usually does a decent job of this):"
   ]
  },
  {
   "cell_type": "code",
   "execution_count": 22,
   "metadata": {},
   "outputs": [
    {
     "name": "stderr",
     "output_type": "stream",
     "text": [
      "Multiprocess sampling (2 chains in 2 jobs)\n",
      "CompoundStep\n",
      ">Metropolis: [switchpoint]\n",
      ">NUTS: [late_mean, early_mean]\n",
      "Sampling 2 chains: 100%|██████████| 4000/4000 [00:03<00:00, 1218.95draws/s]\n",
      "The number of effective samples is smaller than 25% for some parameters.\n"
     ]
    }
   ],
   "source": [
    "from pymc3 import sample\n",
    "\n",
    "with disaster_model:\n",
    "    trace = sample(1000, tune=1000, init=None)"
   ]
  },
  {
   "cell_type": "markdown",
   "metadata": {},
   "source": [
    "This returns the Markov chain of draws from the model in a data structure called a **trace**."
   ]
  },
  {
   "cell_type": "code",
   "execution_count": 23,
   "metadata": {},
   "outputs": [
    {
     "data": {
      "text/plain": [
       "<MultiTrace: 2 chains, 1000 iterations, 6 variables>"
      ]
     },
     "execution_count": 23,
     "metadata": {},
     "output_type": "execute_result"
    }
   ],
   "source": [
    "trace"
   ]
  },
  {
   "cell_type": "markdown",
   "metadata": {},
   "source": [
    "The `sample()` function always takes at least one argument, `draws`, which specifies how many samples to draw. However, there are a number of additional optional arguments that are worth knowing about:"
   ]
  },
  {
   "cell_type": "code",
   "execution_count": 24,
   "metadata": {},
   "outputs": [
    {
     "name": "stdout",
     "output_type": "stream",
     "text": [
      "Help on function sample in module pymc3.sampling:\n",
      "\n",
      "sample(draws=500, step=None, init='auto', n_init=200000, start=None, trace=None, chain_idx=0, chains=None, cores=None, tune=500, nuts_kwargs=None, step_kwargs=None, progressbar=True, model=None, random_seed=None, live_plot=False, discard_tuned_samples=True, live_plot_kwargs=None, compute_convergence_checks=True, use_mmap=False, **kwargs)\n",
      "    Draw samples from the posterior using the given step methods.\n",
      "    \n",
      "    Multiple step methods are supported via compound step methods.\n",
      "    \n",
      "    Parameters\n",
      "    ----------\n",
      "    draws : int\n",
      "        The number of samples to draw. Defaults to 500. The number of tuned samples are discarded\n",
      "        by default. See discard_tuned_samples.\n",
      "    step : function or iterable of functions\n",
      "        A step function or collection of functions. If there are variables without a step methods,\n",
      "        step methods for those variables will be assigned automatically.\n",
      "    init : str\n",
      "        Initialization method to use for auto-assigned NUTS samplers.\n",
      "    \n",
      "        * auto : Choose a default initialization method automatically.\n",
      "          Currently, this is `'jitter+adapt_diag'`, but this can change in the future.\n",
      "          If you depend on the exact behaviour, choose an initialization method explicitly.\n",
      "        * adapt_diag : Start with a identity mass matrix and then adapt a diagonal based on the\n",
      "          variance of the tuning samples. All chains use the test value (usually the prior mean)\n",
      "          as starting point.\n",
      "        * jitter+adapt_diag : Same as `adapt_diag`, but add uniform jitter in [-1, 1] to the\n",
      "          starting point in each chain.\n",
      "        * advi+adapt_diag : Run ADVI and then adapt the resulting diagonal mass matrix based on the\n",
      "          sample variance of the tuning samples.\n",
      "        * advi+adapt_diag_grad : Run ADVI and then adapt the resulting diagonal mass matrix based\n",
      "          on the variance of the gradients during tuning. This is **experimental** and might be\n",
      "          removed in a future release.\n",
      "        * advi : Run ADVI to estimate posterior mean and diagonal mass matrix.\n",
      "        * advi_map: Initialize ADVI with MAP and use MAP as starting point.\n",
      "        * map : Use the MAP as starting point. This is discouraged.\n",
      "        * nuts : Run NUTS and estimate posterior mean and mass matrix from the trace.\n",
      "    n_init : int\n",
      "        Number of iterations of initializer. Only works for 'nuts' and 'ADVI'.\n",
      "        If 'ADVI', number of iterations, if 'nuts', number of draws.\n",
      "    start : dict, or array of dict\n",
      "        Starting point in parameter space (or partial point)\n",
      "        Defaults to trace.point(-1)) if there is a trace provided and model.test_point if not\n",
      "        (defaults to empty dict). Initialization methods for NUTS (see `init` keyword) can\n",
      "        overwrite the default. For 'SMC' if should be a list of dict with length `chains`.\n",
      "    trace : backend, list, or MultiTrace\n",
      "        This should be a backend instance, a list of variables to track, or a MultiTrace object\n",
      "        with past values. If a MultiTrace object is given, it must contain samples for the chain\n",
      "        number `chain`. If None or a list of variables, the NDArray backend is used.\n",
      "        Passing either \"text\" or \"sqlite\" is taken as a shortcut to set up the corresponding\n",
      "        backend (with \"mcmc\" used as the base name). Ignored when using 'SMC'.\n",
      "    chain_idx : int\n",
      "        Chain number used to store sample in backend. If `chains` is greater than one, chain\n",
      "        numbers will start here. Ignored when using 'SMC'.\n",
      "    chains : int\n",
      "        The number of chains to sample. Running independent chains is important for some\n",
      "        convergence statistics and can also reveal multiple modes in the posterior. If `None`,\n",
      "        then set to either `chains` or 2, whichever is larger. For SMC the default value is 100.\n",
      "    cores : int\n",
      "        The number of chains to run in parallel. If `None`, set to the number of CPUs in the\n",
      "        system, but at most 4 (for 'SMC' defaults to 1). Keep in mind that some chains might\n",
      "        themselves be multithreaded via openmp or BLAS. In those cases it might be faster to set\n",
      "        this to 1.\n",
      "    tune : int\n",
      "        Number of iterations to tune, defaults to 500. Ignored when using 'SMC'. Samplers adjust\n",
      "        the step sizes, scalings or similar during tuning. Tuning samples will be drawn in addition\n",
      "        to the number specified in the `draws` argument, and will be discarded unless\n",
      "        `discard_tuned_samples` is set to False.\n",
      "    nuts_kwargs : dict\n",
      "        Options for the NUTS sampler. See the docstring of NUTS for a complete list of options.\n",
      "        Common options are:\n",
      "    \n",
      "        * target_accept: float in [0, 1]. The step size is tuned such that we approximate this\n",
      "          acceptance rate. Higher values like 0.9 or 0.95 often work better for problematic\n",
      "          posteriors.\n",
      "        * max_treedepth: The maximum depth of the trajectory tree.\n",
      "        * step_scale: float, default 0.25\n",
      "          The initial guess for the step size scaled down by `1/n**(1/4)`.\n",
      "    \n",
      "        If you want to pass options to other step methods, please use `step_kwargs`.\n",
      "    step_kwargs : dict\n",
      "        Options for step methods. Keys are the lower case names of the step method, values are\n",
      "        dicts of keyword arguments. You can find a full list of arguments in the docstring of the\n",
      "        step methods. If you want to pass arguments only to nuts, you can use `nuts_kwargs`.\n",
      "    progressbar : bool\n",
      "        Whether or not to display a progress bar in the command line. The bar shows the percentage\n",
      "        of completion, the sampling speed in samples per second (SPS), and the estimated remaining\n",
      "        time until completion (\"expected time of arrival\"; ETA).\n",
      "    model : Model (optional if in `with` context)\n",
      "    random_seed : int or list of ints\n",
      "        A list is accepted if `cores` is greater than one.\n",
      "    live_plot : bool\n",
      "        Flag for live plotting the trace while sampling. Ignored when using 'SMC'.\n",
      "    live_plot_kwargs : dict\n",
      "        Options for traceplot. Example: live_plot_kwargs={'varnames': ['x']}.\n",
      "        Ignored when using 'SMC'\n",
      "    discard_tuned_samples : bool\n",
      "        Whether to discard posterior samples of the tune interval. Ignored when using 'SMC'\n",
      "    compute_convergence_checks : bool, default=True\n",
      "        Whether to compute sampler statistics like gelman-rubin and effective_n.\n",
      "        Ignored when using 'SMC'\n",
      "    use_mmap : bool, default=False\n",
      "        Whether to use joblib's memory mapping to share numpy arrays when sampling across multiple\n",
      "        cores. Ignored when using 'SMC'\n",
      "    \n",
      "    Returns\n",
      "    -------\n",
      "    trace : pymc3.backends.base.MultiTrace\n",
      "        A `MultiTrace` object that contains the samples.\n",
      "    \n",
      "    Examples\n",
      "    --------\n",
      "    .. code:: ipython\n",
      "    \n",
      "        >>> import pymc3 as pm\n",
      "        ... n = 100\n",
      "        ... h = 61\n",
      "        ... alpha = 2\n",
      "        ... beta = 2\n",
      "    \n",
      "    .. code:: ipython\n",
      "    \n",
      "        >>> with pm.Model() as model: # context management\n",
      "        ...     p = pm.Beta('p', alpha=alpha, beta=beta)\n",
      "        ...     y = pm.Binomial('y', n=n, p=p, observed=h)\n",
      "        ...     trace = pm.sample(2000, tune=1000, cores=4)\n",
      "        >>> pm.summary(trace)\n",
      "               mean        sd  mc_error   hpd_2.5  hpd_97.5\n",
      "        p  0.604625  0.047086   0.00078  0.510498  0.694774\n",
      "\n"
     ]
    }
   ],
   "source": [
    "help(sample)"
   ]
  },
  {
   "cell_type": "markdown",
   "metadata": {},
   "source": [
    "The `step` argument is what allows users to manually override the sampling algorithms used to fit the model. For example, if we wanted to use a **slice sampler** to sample the `early_mean` and `late_mean` variables, we could specify it:"
   ]
  },
  {
   "cell_type": "code",
   "execution_count": 25,
   "metadata": {},
   "outputs": [
    {
     "name": "stderr",
     "output_type": "stream",
     "text": [
      "Multiprocess sampling (2 chains in 2 jobs)\n",
      "CompoundStep\n",
      ">CompoundStep\n",
      ">>Slice: [late_mean]\n",
      ">>Slice: [early_mean]\n",
      ">Metropolis: [switchpoint]\n",
      "Sampling 2 chains: 100%|██████████| 3000/3000 [00:03<00:00, 896.62draws/s] \n",
      "The estimated number of effective samples is smaller than 200 for some parameters.\n"
     ]
    }
   ],
   "source": [
    "from pymc3 import Slice\n",
    "\n",
    "with disaster_model:\n",
    "    step_trace = sample(1000, step=Slice(vars=[early_mean, late_mean]))"
   ]
  },
  {
   "cell_type": "markdown",
   "metadata": {},
   "source": [
    "### Accessing the samples\n",
    "\n",
    "The output of the `sample` function is a `MultiTrace` object, which stores the sequence of samples for each variable in the model. These traces can be accessed using dict-style indexing:\n"
   ]
  },
  {
   "cell_type": "code",
   "execution_count": 26,
   "metadata": {
    "scrolled": false
   },
   "outputs": [
    {
     "data": {
      "text/plain": [
       "array([3.26874613, 3.42809196, 3.16928988, ..., 3.06240645, 3.16170419,\n",
       "       3.51794991])"
      ]
     },
     "execution_count": 26,
     "metadata": {},
     "output_type": "execute_result"
    }
   ],
   "source": [
    "trace['late_mean']"
   ]
  },
  {
   "cell_type": "markdown",
   "metadata": {},
   "source": [
    "The trace can also be sliced using the NumPy array slice `[start:stop:step]`. "
   ]
  },
  {
   "cell_type": "code",
   "execution_count": 27,
   "metadata": {},
   "outputs": [
    {
     "data": {
      "text/plain": [
       "array([2.97447298, 3.11460015, 2.831851  , 3.16668048, 3.16668048,\n",
       "       3.49222963, 2.94712347, 3.06240645, 3.16170419, 3.51794991])"
      ]
     },
     "execution_count": 27,
     "metadata": {},
     "output_type": "execute_result"
    }
   ],
   "source": [
    "trace['late_mean', -5:]"
   ]
  },
  {
   "cell_type": "code",
   "execution_count": 28,
   "metadata": {},
   "outputs": [
    {
     "data": {
      "text/plain": [
       "array([3.26874613, 2.91973659, 3.17526631, 2.76503636, 2.87706379,\n",
       "       3.34158282, 3.35396818, 3.19385285, 3.36100099, 3.51645156,\n",
       "       3.20165418, 3.0456917 , 2.92168053, 3.65456524, 3.36836191,\n",
       "       2.6841932 , 3.07438275, 3.24970453, 2.69547079, 3.11656309,\n",
       "       3.17364799, 3.29021183, 3.14849057, 3.42058457, 2.35619911,\n",
       "       3.04934059, 3.09514905, 3.44567694, 2.97896955, 3.28997285,\n",
       "       3.07017847, 3.03435351, 2.7181541 , 3.15190484, 2.61528101,\n",
       "       3.17890629, 3.18251915, 3.18761032, 3.28908812, 3.38675305,\n",
       "       3.03521698, 3.23314526, 3.18084139, 4.13724078, 2.94278165,\n",
       "       3.53541367, 2.97536233, 2.88749128, 3.16208867, 3.08385821,\n",
       "       2.76623048, 2.82485329, 2.5684252 , 3.05508109, 3.23619333,\n",
       "       3.00066207, 3.12960313, 2.6967913 , 2.95675763, 3.54338899,\n",
       "       2.96192627, 3.14833994, 3.05551567, 2.74487403, 3.14836937,\n",
       "       2.76858858, 2.52848421, 2.97213136, 2.70896758, 2.97448295,\n",
       "       2.75636344, 3.15431389, 3.28560228, 3.35411971, 2.83460759,\n",
       "       2.81347837, 2.84462482, 3.27034365, 3.1163522 , 2.92168831,\n",
       "       3.9409517 , 3.03741248, 2.80662273, 2.8541734 , 2.88940252,\n",
       "       2.55897468, 3.23524531, 2.93485317, 2.84136761, 2.23965675,\n",
       "       3.06713262, 3.11402834, 2.8900368 , 3.28388706, 3.46854522,\n",
       "       3.25153869, 2.84830007, 2.89470509, 3.50197137, 3.7047936 ,\n",
       "       3.46284851, 2.8421092 , 3.23758897, 3.02901836, 3.51621786,\n",
       "       3.35423477, 2.99615434, 2.93614895, 2.81753338, 2.97246202,\n",
       "       2.93272466, 3.12691895, 2.61340369, 2.93962708, 2.95175377,\n",
       "       3.0659829 , 2.63027639, 3.25550501, 2.93260752, 3.38578569,\n",
       "       3.34873542, 3.02487173, 2.80411817, 2.9553708 , 2.83258449,\n",
       "       3.1916157 , 3.43908588, 3.18767509, 3.75347886, 3.17079649,\n",
       "       3.35553586, 2.91274507, 2.73781014, 2.82540789, 3.11524413,\n",
       "       2.07864163, 3.18948309, 2.93485255, 2.87715779, 2.97144175,\n",
       "       3.09308447, 2.87169043, 3.47244433, 2.99196702, 2.65562606,\n",
       "       2.57945891, 2.85388131, 3.07429924, 2.84058528, 3.21003613,\n",
       "       2.83978869, 3.05843177, 3.10046192, 2.80955221, 3.15933338,\n",
       "       2.65282021, 3.14759023, 2.47916819, 3.4981181 , 2.8411392 ,\n",
       "       2.66232391, 2.73810318, 2.73045254, 3.16374478, 3.03126043,\n",
       "       3.00267951, 2.71597723, 3.1287329 , 3.48155017, 3.0360685 ,\n",
       "       2.95613813, 3.17730674, 2.96920106, 2.75006312, 2.98620799,\n",
       "       2.89154157, 3.376505  , 3.12629484, 2.61691987, 2.96232089,\n",
       "       3.6155034 , 3.42265654, 2.66538614, 3.10880975, 2.81663796,\n",
       "       3.01648757, 2.77819492, 2.66401842, 2.68532668, 3.33443559,\n",
       "       3.56575417, 2.72020014, 2.84240463, 2.50068615, 3.36118472,\n",
       "       3.00161883, 3.03316476, 2.71361156, 3.55242359, 3.17120868])"
      ]
     },
     "execution_count": 28,
     "metadata": {},
     "output_type": "execute_result"
    }
   ],
   "source": [
    "trace['late_mean', ::10]"
   ]
  },
  {
   "cell_type": "markdown",
   "metadata": {},
   "source": [
    "### Sampling output\n",
    "\n",
    "You can examine the marginal posterior of any variable by plotting a\n",
    "histogram of its trace:"
   ]
  },
  {
   "cell_type": "code",
   "execution_count": 29,
   "metadata": {},
   "outputs": [
    {
     "data": {
      "image/png": "[encoded data removed]",
      "text/plain": [
       "<Figure size 432x288 with 1 Axes>"
      ]
     },
     "metadata": {},
     "output_type": "display_data"
    }
   ],
   "source": [
    "plt.hist(trace['late_mean']);"
   ]
  },
  {
   "cell_type": "markdown",
   "metadata": {},
   "source": [
    "PyMC has its own plotting functionality dedicated to plotting MCMC output. For example, we can obtain a time series plot of the trace and a histogram using `traceplot`:"
   ]
  },
  {
   "cell_type": "code",
   "execution_count": 30,
   "metadata": {},
   "outputs": [
    {
     "data": {
      "image/png": "[encoded data removed]",
      "text/plain": [
       "<Figure size 864x432 with 6 Axes>"
      ]
     },
     "metadata": {},
     "output_type": "display_data"
    }
   ],
   "source": [
    "from pymc3 import traceplot\n",
    "\n",
    "traceplot(trace, varnames=['early_mean', 'late_mean', 'switchpoint']);"
   ]
  },
  {
   "cell_type": "markdown",
   "metadata": {},
   "source": [
    "The upper left-hand pane of each figure shows the temporal series of the\n",
    "samples from each parameter, while below is an autocorrelation plot of\n",
    "the samples. The right-hand pane shows a histogram of the trace. The\n",
    "trace is useful for evaluating and diagnosing the algorithm's\n",
    "performance, while the histogram is useful for\n",
    "visualizing the posterior.\n",
    "\n",
    "For a non-graphical summary of the posterior, simply call the `stats` method."
   ]
  },
  {
   "cell_type": "code",
   "execution_count": 31,
   "metadata": {},
   "outputs": [
    {
     "data": {
      "text/html": [
       "<div>\n",
       "<style scoped>\n",
       "    .dataframe tbody tr th:only-of-type {\n",
       "        vertical-align: middle;\n",
       "    }\n",
       "\n",
       "    .dataframe tbody tr th {\n",
       "        vertical-align: top;\n",
       "    }\n",
       "\n",
       "    .dataframe thead th {\n",
       "        text-align: right;\n",
       "    }\n",
       "</style>\n",
       "<table border=\"1\" class=\"dataframe\">\n",
       "  <thead>\n",
       "    <tr style=\"text-align: right;\">\n",
       "      <th></th>\n",
       "      <th>mean</th>\n",
       "      <th>sd</th>\n",
       "      <th>mc_error</th>\n",
       "      <th>hpd_2.5</th>\n",
       "      <th>hpd_97.5</th>\n",
       "      <th>n_eff</th>\n",
       "      <th>Rhat</th>\n",
       "    </tr>\n",
       "  </thead>\n",
       "  <tbody>\n",
       "    <tr>\n",
       "      <th>early_mean</th>\n",
       "      <td>0.933762</td>\n",
       "      <td>0.116557</td>\n",
       "      <td>0.002928</td>\n",
       "      <td>0.719178</td>\n",
       "      <td>1.161457</td>\n",
       "      <td>1589.720300</td>\n",
       "      <td>0.999527</td>\n",
       "    </tr>\n",
       "    <tr>\n",
       "      <th>late_mean</th>\n",
       "      <td>3.060220</td>\n",
       "      <td>0.292724</td>\n",
       "      <td>0.008127</td>\n",
       "      <td>2.500686</td>\n",
       "      <td>3.625193</td>\n",
       "      <td>1351.716934</td>\n",
       "      <td>0.999824</td>\n",
       "    </tr>\n",
       "  </tbody>\n",
       "</table>\n",
       "</div>"
      ],
      "text/plain": [
       "                mean        sd  mc_error   hpd_2.5  hpd_97.5        n_eff  \\\n",
       "early_mean  0.933762  0.116557  0.002928  0.719178  1.161457  1589.720300   \n",
       "late_mean   3.060220  0.292724  0.008127  2.500686  3.625193  1351.716934   \n",
       "\n",
       "                Rhat  \n",
       "early_mean  0.999527  \n",
       "late_mean   0.999824  "
      ]
     },
     "execution_count": 31,
     "metadata": {},
     "output_type": "execute_result"
    }
   ],
   "source": [
    "from pymc3 import summary\n",
    "\n",
    "summary(trace, varnames=['early_mean', 'late_mean'])"
   ]
  },
  {
   "cell_type": "markdown",
   "metadata": {},
   "source": [
    "## References\n",
    "\n",
    "1. Salvatier, J., Wiecki, T. V., & Fonnesbeck, C. (2016). Probabilistic programming in Python using PyMC3. PeerJ Computer Science, 2(2), e55. http://doi.org/10.7717/peerj-cs.55"
   ]
  }
 ],
 "metadata": {
  "anaconda-cloud": {},
  "kernelspec": {
   "display_name": "Python 3",
   "language": "python",
   "name": "python3"
  },
  "language_info": {
   "codemirror_mode": {
    "name": "ipython",
    "version": 3
   },
   "file_extension": ".py",
   "mimetype": "text/x-python",
   "name": "python",
   "nbconvert_exporter": "python",
   "pygments_lexer": "ipython3",
   "version": "3.7.3"
  },
  "latex_envs": {
   "bibliofile": "biblio.bib",
   "cite_by": "apalike",
   "current_citInitial": 1,
   "eqLabelWithNumbers": true,
   "eqNumInitial": 0
  }
 },
 "nbformat": 4,
 "nbformat_minor": 2
}
