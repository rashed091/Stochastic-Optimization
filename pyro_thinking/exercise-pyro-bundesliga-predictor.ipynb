{
 "cells": [
  {
   "cell_type": "markdown",
   "metadata": {
    "slideshow": {
     "slide_type": "-"
    }
   },
   "source": [
    "# Exercise - Bundesliga Game Prediction with Pyro\n"
   ]
  },
  {
   "cell_type": "markdown",
   "metadata": {
    "slideshow": {
     "slide_type": "-"
    }
   },
   "source": [
    "## Table of Contents\n",
    "* [Introduction](#Introduction)\n",
    "* [Requirements](#Requirements) \n",
    "  * [Knowledge](#Knowledge)\n",
    "  * [Modules](#Python-Modules)\n",
    "* [Exercises](#Exercises)\n",
    "  * [Loading and Preprocessing of Data](#Loading-and-Preprocessing-of-Data)\n",
    "  * [Poisson distribution](#Poisson-distribution)\n",
    "  * [Probabilistic Model](#Probabilistic-Model)\n",
    "  * [Implementation with PyMC](#Implementation-with-PyMC)\n",
    "  * [Sampling with PyMC3](#Sampling-with-PyMC3)\n",
    "  * [Plotting Results](#Plotting-Results)\n",
    "  * [Expected Winner](#Expected-Winner)\n",
    "  * [Distribution of Expected Goals](#Distribution-of-Expected-Goals)\n",
    "  * [Extension of the Model](#Extension-of-the-Model)\n",
    "  * [Summary and Further Modifications0](#Summary-and-Further-Modifications)\n",
    "* [Licenses](#Licenses)"
   ]
  },
  {
   "cell_type": "markdown",
   "metadata": {
    "slideshow": {
     "slide_type": "-"
    }
   },
   "source": [
    "## Introduction\n",
    "\n",
    "In this exercises you will define a simple model for predicting soccer games for the German \"Bundesliga\" (1st League) based on prior games using Pyro."
   ]
  },
  {
   "cell_type": "markdown",
   "metadata": {},
   "source": [
    "Remark: In order to detect errors in your own code, execute the notebook cells containing `assert` or `assert_almost_equal`. These statements raise exceptions, as long as the calculated result is not yet correct."
   ]
  },
  {
   "cell_type": "markdown",
   "metadata": {
    "slideshow": {
     "slide_type": "-"
    }
   },
   "source": [
    "## Requirements\n",
    "\n",
    "### Knowledge\n",
    "\n",
    "\n",
    "To complete this exercise notebook, you should possess knowledge about the following topics.\n",
    "\n",
    "- Basics of Bayesian Inference, see e.g. [Introduction into Bayesian Inference with PyMc3](http://christianherta.de/lehre/dataScience/bayesian/introduction_into_bayesian_inference_with_pymc.slides.php)\n",
    "- Knowledge about the Gaussian and Poisson distribution."
   ]
  },
  {
   "cell_type": "markdown",
   "metadata": {
    "slideshow": {
     "slide_type": "-"
    }
   },
   "source": [
    "### Python Modules"
   ]
  },
  {
   "cell_type": "code",
   "execution_count": null,
   "metadata": {},
   "outputs": [],
   "source": [
    "import numpy as np\n",
    "import pandas as pd\n",
    " \n",
    "import scipy.stats\n",
    "from scipy.stats import norm\n",
    "\n",
    "from matplotlib import pyplot as plt\n",
    "from IPython.core.pylabtools import figsize\n",
    "\n",
    "\n",
    "%matplotlib inline"
   ]
  },
  {
   "cell_type": "code",
   "execution_count": null,
   "metadata": {},
   "outputs": [],
   "source": [
    "import torch\n",
    "from torch.distributions import constraints\n",
    "\n",
    "import pyro\n",
    "import pyro.infer\n",
    "import pyro.optim\n",
    "import pyro.distributions as dist\n",
    "\n",
    "torch.manual_seed(101);"
   ]
  },
  {
   "cell_type": "markdown",
   "metadata": {
    "slideshow": {
     "slide_type": "-"
    }
   },
   "source": [
    "## Exercises\n",
    "\n",
    "We have the data of past \"Bundesliga\" games (1st soccer league in Germany) from 2017 and 2018. Specifically, each datapoint contains the names of the two teams (\"Verein\" in german) playing agains each other and the final score. \n",
    "\n",
    "One file contains the names of the teams, e.g. the first two lines (and header lines of `bundesliga_Verein.csv`:\n",
    "\n",
    "```\n",
    "V_ID;Name;Liga\n",
    "1;FC Bayern München;1\n",
    "2;FC Schalke 04;1\n",
    "...\n",
    "```\n",
    "\n",
    "The header line `V_ID;Name;Liga` translates into the columns `team_ID; name, league`\n",
    "\n",
    "The second file contains ~1.300 games, e.g.:\n",
    "\n",
    "```\n",
    "Spiel_ID;Spieltag;Datum;Uhrzeit;Heim;Gast;Tore_Heim;Tore_Gast\n",
    "1;1;2017-08-18;20:30:00;1;5;3;1\n",
    "2;1;2017-08-19;15:30:00;7;12;1;0\n",
    "...\n",
    "```\n",
    "\n",
    "The header line here means `game_ID;date_of_play;date;time;home_team_ID,guest_team_ID;score_home_team;score_guest_team`\n",
    "\n",
    "Based on this data, our goal is to predict the score of upcoming games."
   ]
  },
  {
   "cell_type": "markdown",
   "metadata": {},
   "source": [
    "### Loading and Preprocessing of Data \n",
    "\n",
    "First we'll loead the data from the corresponding csv-files and do some preprocessing. As the files not only contain games of the 1st league we have to filter them. We do the data loading and preprocessing using the `pandas` library's `dataframe` class."
   ]
  },
  {
   "cell_type": "code",
   "execution_count": null,
   "metadata": {
    "slideshow": {
     "slide_type": "notes"
    }
   },
   "outputs": [],
   "source": [
    "### Load the data to lookup team-id and corresponding team-name\n",
    "url_vereine_csv = \"https://gitlab.com/deep.TEACHING/educational-materials/raw/dev/notebooks/data/bundesliga_Verein.csv\"\n",
    "### Alternative URL:\n",
    "# url_vereine_csv = \"https://github.com/hsro-wif-prg2/hsro-wif-prg2.github.io/raw/master/examples/src/main/resources/bundesliga_Verein.csv\"\n",
    "clubs = pd.read_csv(url_vereine_csv, sep=';')\n",
    "\n",
    "### for convinience the club id should start with 0\n",
    "clubs.V_ID = clubs.V_ID - 1\n",
    "clubs = clubs.set_index(\"V_ID\")\n",
    "\n",
    "### just 1. league \n",
    "club_ids = clubs[clubs.Liga==1].index\n",
    "club_ids"
   ]
  },
  {
   "cell_type": "code",
   "execution_count": null,
   "metadata": {
    "slideshow": {
     "slide_type": "notes"
    }
   },
   "outputs": [],
   "source": [
    "### Now load the data about past games from 2017 and 2018\n",
    "url_spiele_csv = \"https://gitlab.com/deep.TEACHING/educational-materials/raw/dev/notebooks/data/bundesliga_Spiel.csv\"\n",
    "### Alternative URL:\n",
    "# url_spiele_csv = \"https://github.com/hsro-wif-prg2/hsro-wif-prg2.github.io/raw/master/examples/src/main/resources/bundesliga_Spiel.csv\"\n",
    "games = pd.read_csv(url_spiele_csv, sep=';')\n",
    "\n",
    "#del(games[\"Unnamed: 8\"]) ### not existent anymore?\n",
    "\n",
    "### for convinience the club id should start with 0\n",
    "games.Heim = games.Heim-1\n",
    "games.Gast = games.Gast-1"
   ]
  },
  {
   "cell_type": "code",
   "execution_count": null,
   "metadata": {
    "scrolled": true,
    "slideshow": {
     "slide_type": "notes"
    }
   },
   "outputs": [],
   "source": [
    "### Filter for games of teams in 1st league\n",
    "relevant_games = games[games.Heim.isin(club_ids)]\n",
    "\n",
    "### Have a look at the data\n",
    "relevant_games"
   ]
  },
  {
   "cell_type": "code",
   "execution_count": null,
   "metadata": {
    "slideshow": {
     "slide_type": "notes"
    }
   },
   "outputs": [],
   "source": [
    "### We'll use the games from 2017 for training the model\n",
    "actual_date = \"2018-01-01\"\n",
    "relevant_games = relevant_games[games.Datum < actual_date]\n",
    "print('Size of training set: ', len(relevant_games))"
   ]
  },
  {
   "cell_type": "code",
   "execution_count": null,
   "metadata": {},
   "outputs": [],
   "source": [
    "def get_goal_results(gh=\"Tore_Gast\"):\n",
    "    result = list()\n",
    "    for i in relevant_games.iterrows():\n",
    "        r = i[1]\n",
    "        result.append((r.Heim, r.Gast, r[gh]))\n",
    "    return result\n",
    "\n",
    "away_goals_ = get_goal_results(\"Tore_Gast\")\n",
    "home_goals_ = get_goal_results(\"Tore_Heim\")"
   ]
  },
  {
   "cell_type": "code",
   "execution_count": null,
   "metadata": {
    "scrolled": true,
    "slideshow": {
     "slide_type": "notes"
    }
   },
   "outputs": [],
   "source": [
    "### We are not interested in date and time data,\n",
    "### so we extract only team ids and score:\n",
    "\n",
    "def get_goal_results(gh=\"Tore_Gast\"):\n",
    "    result = list()\n",
    "    for i in relevant_games.iterrows():\n",
    "        ### index 0 contains pandas-dataframe id, \n",
    "        ### which we are not interested in.\n",
    "        r = i[1]\n",
    "        result.append((r.Heim, r.Gast, r[gh]))\n",
    "    return result\n",
    "\n",
    "### Lists of tuples\n",
    "away_goals_ = get_goal_results(\"Tore_Gast\")\n",
    "home_goals_ = get_goal_results(\"Tore_Heim\")\n",
    "\n",
    "### Print one example\n",
    "print('First tuple of list \\'away_goals_\\':')\n",
    "print('(id_home, id_guest, goals_guest)')\n",
    "print(away_goals_[0])\n",
    "\n",
    "print('\\nFirst tuple of list \\'away_goals_\\':')\n",
    "print('(id_home, id_guest, goals_home)')\n",
    "print(home_goals_[0])"
   ]
  },
  {
   "cell_type": "markdown",
   "metadata": {
    "slideshow": {
     "slide_type": "slide"
    }
   },
   "source": [
    "### Poisson distribution\n",
    "\n",
    "As the number of goals $k$ a team scores is not continous but a discrete value, it can be modeled with a Poisson distribution $P_\\lambda (k)$:\n",
    "\n",
    "Probability for outcome $k \\in \\{0, 1, 2, \\dots\\}$\n",
    " \n",
    "$$\n",
    "P_\\lambda (Z=k) = \\frac{\\lambda^k}{k!}\\, \\mathrm{e}^{-\\lambda}\n",
    "$$\n",
    "\n",
    "with parameter $\\lambda>0$\n",
    "\n",
    "**Notes:**\n",
    "- If a random variable $Z$ has a Poisson mass distribution, we denote this by writing\n",
    "\n",
    "$$Z \\sim \\text{Poi}(\\lambda) $$\n",
    "\n",
    "- $\\lambda$ is also the expectation and variance of the Poisson distribution\n",
    "\n",
    "$$E\\left[ \\;Z\\; | \\; \\lambda \\;\\right] = \\sigma^2 \\left[ \\;Z\\; | \\; \\lambda \\; \\right] = \\lambda $$\n",
    "\n",
    "- PMFs (probability mass functions) for discrete variables sum up to $1.0$"
   ]
  },
  {
   "cell_type": "markdown",
   "metadata": {
    "slideshow": {
     "slide_type": "slide"
    }
   },
   "source": [
    "### Graphical Representation of the Model"
   ]
  },
  {
   "cell_type": "code",
   "execution_count": null,
   "metadata": {
    "slideshow": {
     "slide_type": "slide"
    }
   },
   "outputs": [],
   "source": [
    "import daft\n",
    "def plot_model():\n",
    "    pgm = daft.PGM([6.3, 4.05], origin=[-1., -1.])\n",
    "    pgm.add_node(daft.Node(\"mu_o\", r\"$\\mu_o$\", .5, .5, fixed=True))\n",
    "    pgm.add_node(daft.Node(\"tau_o\", r\"$\\tau_o$\", .5, 1.5, fixed=True))    \n",
    "    pgm.add_node(daft.Node(\"o_i\", r\"o$_i$\", 1.5, 1))\n",
    "    \n",
    "    pgm.add_node(daft.Node(\"tau_d\", r\"$\\tau_d$\", 2., 3., fixed=True))\n",
    "    pgm.add_node(daft.Node(\"mu_d\", r\"$\\mu_d$\", 3., 3., fixed=True))\n",
    "    pgm.add_node(daft.Node(\"d_j\", r\"d$_j$\", 2.5, 2.2))\n",
    "    \n",
    "    pgm.add_node(daft.Node(\"g\", r\"g$_{ij}$\", 2.5, 1., observed=True))\n",
    "\n",
    "    \n",
    "    # Add in the edges.\n",
    "    pgm.add_edge(\"mu_o\", \"o_i\")\n",
    "    pgm.add_edge(\"tau_o\", \"o_i\")\n",
    "    pgm.add_edge(\"mu_d\", \"d_j\")\n",
    "    pgm.add_edge(\"tau_d\", \"d_j\")\n",
    "    pgm.add_edge(\"o_i\", \"g\")\n",
    "    pgm.add_edge(\"d_j\", \"g\")\n",
    "    # And plates.\n",
    "    pgm.add_plate(daft.Plate([2., 0.2, 1., 2.5], label=r\"$j$\", shift=0.))\n",
    "    pgm.add_plate(daft.Plate([1., 0.5, 2.2, 1.1], label=r\"$i$\", shift=0.))\n",
    "    pgm.render()"
   ]
  },
  {
   "cell_type": "code",
   "execution_count": null,
   "metadata": {
    "slideshow": {
     "slide_type": "fragment"
    }
   },
   "outputs": [],
   "source": [
    "plot_model()"
   ]
  },
  {
   "cell_type": "markdown",
   "metadata": {
    "slideshow": {
     "slide_type": "slide"
    }
   },
   "source": [
    "### Implementation with Pyro\n",
    "\n",
    "Let us define the model with Pyro:\n",
    "- First we define our normal distributions for offence strengths and defence strengths (one for **each** team)\n",
    "\n",
    "For eacht tuple in `home_goals_`:\n",
    "- We iterate through our list of tuples `home_goals_`\n",
    "- Doing this we generate a list of goals scored at home\n",
    "- We also generate a list for the `home_rate`, which is a result of offence-defence.\n",
    "- Afterwards we define the poisson distribution with goals scored and the mean\n",
    "  \n",
    "**Task:**\n",
    "\n",
    "Below you see the code to iterate through the list `home_goals_`. Your task is to add the code to do the same for `away_goals_`."
   ]
  },
  {
   "cell_type": "code",
   "execution_count": null,
   "metadata": {},
   "outputs": [],
   "source": [
    "### Number of clubs\n",
    "nb_clubs = len(club_ids)\n",
    "\n",
    "### offence-defence could be negative, but number of goals scored cannot.\n",
    "### When dealing with distributions for continous variables, \n",
    "### e.g. gaussian (normal), theres never probability of exactly 0,\n",
    "### so for zero we'll use something very small instead\n",
    "low_ = 1e-10"
   ]
  },
  {
   "cell_type": "code",
   "execution_count": null,
   "metadata": {},
   "outputs": [],
   "source": [
    "def model_games(home_goals_, away_goals_, nb_clubs = nb_clubs, prior_diff=1.5):\n",
    "    assert len(home_goals_) == len(away_goals_)\n",
    "    nb_games= len(home_goals_)\n",
    "   \n",
    "    mu_offence_prior = torch.zeros(nb_clubs) + prior_diff\n",
    "    mu_defence_prior = torch.zeros(nb_clubs)\n",
    "    sigma_offence_prior = torch.ones(nb_clubs)\n",
    "    sigma_defence_prior = torch.ones(nb_clubs)\n",
    "    \n",
    "    offence = pyro.sample(\"offence\", dist.Normal(mu_offence_prior, sigma_offence_prior)) \n",
    "    defence = pyro.sample(\"defence\", dist.Normal(mu_defence_prior, sigma_defence_prior))\n",
    "    \n",
    "    ### data\n",
    "    home_goals = []\n",
    "    # this must be a torch tensor (for backprop!!!)\n",
    "    home_rates = torch.zeros(nb_games) \n",
    "    \n",
    "    ### HOME\n",
    "    for i, (heim, gast, goals) in enumerate(home_goals_):\n",
    "        home_rate = offence[heim] - defence[gast]\n",
    "        if home_rate < low_:\n",
    "            home_rate = low_\n",
    "        home_goals.append(goals)\n",
    "        home_rates[i] = home_rate\n",
    "    home_goals = torch.tensor(home_goals, dtype=torch.float32)\n",
    "    \n",
    "    with pyro.plate('observe_data', size=nb_games, subsample_size=100) as ind:   \n",
    "        pyro.sample(\"home_goals\", dist.Poisson(home_rates.index_select(0, ind)), obs=home_goals.index_select(0, ind))\n",
    "   \n",
    "    ### AWAY\n",
    "    \n",
    "    ######################\n",
    "    ### YOUR CODE HERE ###\n",
    "    ######################\n",
    "\n",
    "    return offence, defence"
   ]
  },
  {
   "cell_type": "code",
   "execution_count": null,
   "metadata": {},
   "outputs": [],
   "source": [
    "def guide_games(home_goals_, away_goals_, nb_clubs = nb_clubs, prior_diff=1.5):\n",
    "    # register the  variational parameters with Pyro.   \n",
    "    mu_offence = pyro.param(\"mu_offence\", torch.zeros(nb_clubs) + prior_diff)\n",
    "    mu_defence = pyro.param(\"mu_defence\", torch.zeros(nb_clubs))\n",
    "    sigma_offence = pyro.param(\"sigma_offence\", torch.ones(nb_clubs)*2.)\n",
    "    sigma_defence = pyro.param(\"sigma_defence\", torch.ones(nb_clubs)*2.)\n",
    "        \n",
    "    offence = pyro.sample(\"offence\", dist.Normal(mu_offence, sigma_offence)) \n",
    "    defence = pyro.sample(\"defence\", dist.Normal(mu_defence, sigma_defence))\n",
    "    #print(mu_offence)\n",
    "    return offence, defence"
   ]
  },
  {
   "cell_type": "markdown",
   "metadata": {
    "slideshow": {
     "slide_type": "slide"
    }
   },
   "source": [
    "### Inference with Pyro\n",
    "\n",
    "Now we can simple infere the parameters of our model."
   ]
  },
  {
   "cell_type": "code",
   "execution_count": null,
   "metadata": {},
   "outputs": [],
   "source": [
    "pyro.clear_param_store()\n",
    "\n",
    "adam_params = {\"lr\": 0.005, \"betas\": (0.95, 0.999)}\n",
    "from pyro.optim import Adam\n",
    "optimizer = Adam(adam_params)\n",
    "\n",
    "svi = pyro.infer.SVI(model=model_games,\n",
    "                     guide=guide_games,\n",
    "                     optim=optimizer,\n",
    "                     loss=pyro.infer.Trace_ELBO())\n"
   ]
  },
  {
   "cell_type": "code",
   "execution_count": null,
   "metadata": {},
   "outputs": [],
   "source": [
    "losses = []\n",
    "for t in range(10000):\n",
    "    loss = svi.step(home_goals_, away_goals_)\n",
    "    losses.append(loss)\n",
    "    if t%100==0:\n",
    "        print (t, \"\\t\", loss)"
   ]
  },
  {
   "cell_type": "code",
   "execution_count": null,
   "metadata": {
    "scrolled": true
   },
   "outputs": [],
   "source": [
    "plt.plot(losses)\n",
    "plt.title(\"ELBO\")\n",
    "plt.xlabel(\"step\")\n",
    "plt.ylabel(\"loss\");"
   ]
  },
  {
   "cell_type": "markdown",
   "metadata": {},
   "source": [
    "The first thing we could do is to get the mean offence and defence strength of for the individula team. If your code so far is corret the output of the follwoing two cells should look similar to the following:\n",
    "\n",
    "```\n",
    "Mean offence strenght per team:\n",
    "FC Bayern München   2.125811790340167\n",
    "FC Schalke 04   1.7037162684586846\n",
    "Borussia Dortmund   2.257390525324742\n",
    "RB Leipzig   1.6020905056271877\n",
    "Bayer Leverkusen   2.0050107075685344\n",
    "...\n",
    "```\n",
    "\n",
    "```\n",
    "Mean defence strenght per team:\n",
    "FC Bayern München   0.7821524828924918\n",
    "FC Schalke 04   0.054772520741117325\n",
    "Borussia Dortmund   -0.06449457068251914\n",
    "RB Leipzig   -0.006551429185531419\n",
    "Bayer Leverkusen   0.06109513176503763\n",
    "...\n",
    "```\n"
   ]
  },
  {
   "cell_type": "code",
   "execution_count": null,
   "metadata": {},
   "outputs": [],
   "source": [
    "# grab the learned variational parameters\n",
    "mu_offence_param = pyro.param(\"mu_offence\").data\n",
    "mu_defence_param = pyro.param(\"mu_defence\").data\n",
    "sigma_offence_param = pyro.param(\"sigma_offence\").data\n",
    "sigma_defence_param = pyro.param(\"sigma_defence\").data"
   ]
  },
  {
   "cell_type": "code",
   "execution_count": null,
   "metadata": {},
   "outputs": [],
   "source": [
    "print('Mean offence strenght per team:')\n",
    "for i, mu in enumerate(mu_offence_param):\n",
    "    print (clubs.get_value(i, \"Name\"), \": \", float(mu))"
   ]
  },
  {
   "cell_type": "code",
   "execution_count": null,
   "metadata": {},
   "outputs": [],
   "source": [
    "print('Mean defence strenght per team:')\n",
    "for i, mu in enumerate(mu_defence_param):\n",
    "    print (clubs.get_value(i, \"Name\"), \": \", float(mu))"
   ]
  },
  {
   "cell_type": "markdown",
   "metadata": {},
   "source": [
    "Of course we can also get the standard deviation $\\sigma$:"
   ]
  },
  {
   "cell_type": "code",
   "execution_count": null,
   "metadata": {},
   "outputs": [],
   "source": [
    "print('STD of offence strenght per team:')\n",
    "for i, s in enumerate(sigma_offence_param):\n",
    "    print (clubs.get_value(i, \"Name\"), \": \", float(s))"
   ]
  },
  {
   "cell_type": "code",
   "execution_count": null,
   "metadata": {},
   "outputs": [],
   "source": [
    "print('STD of defence strenght per team:')\n",
    "for i, s in enumerate(sigma_defence_param):\n",
    "    print (clubs.get_value(i, \"Name\"), \": \", float(s))"
   ]
  },
  {
   "cell_type": "markdown",
   "metadata": {
    "slideshow": {
     "slide_type": "slide"
    }
   },
   "source": [
    "### Plotting Results\n",
    "\n",
    "Combining the mean $\\mu$ and standard deviation $\\sigma$, we can now plot the posterior normal distributions.\n",
    "\n",
    "The plot should look similar to the following (only the first 3 are here shown as picture):\n",
    "\n",
    "\n",
    "![internet connection needed](https://gitlab.com/deep.TEACHING/educational-materials/raw/dev/media/klaus/bundesliga_pdf_pyro.png)\n"
   ]
  },
  {
   "cell_type": "code",
   "execution_count": null,
   "metadata": {},
   "outputs": [],
   "source": [
    "nb_clubs = club_ids.max() + 1\n",
    "bins=40\n",
    "fig, axes = plt.subplots(nrows=nb_clubs, ncols=2, figsize=(10, 50))\n",
    "x_offence = np.arange(0,5,0.01)\n",
    "x_defence = np.arange(-3,2,0.01)\n",
    "for i in club_ids: \n",
    "    title = \"Offence of \" + clubs[clubs.index==i][\"Name\"][i]\n",
    "    axes[i, 0].set_title(title)   \n",
    "    axes[i, 0].plot(x_offence, norm.pdf(x_offence, mu_offence_param[i], sigma_offence_param[i]))\n",
    "    \n",
    "    axes[i, 1].plot(x_defence, norm.pdf(x_defence, mu_defence_param[i], sigma_defence_param[i]))\n",
    "    title = \"Defence of \" + clubs[clubs.index==i][\"Name\"][i]\n",
    "    axes[i, 1].set_title(title)\n",
    "\n",
    "#fig.suptitle(\"Offence and defence distribution of the clubs.\")\n",
    "fig.subplots_adjust(hspace=0.5)\n",
    "fig.tight_layout()"
   ]
  },
  {
   "cell_type": "markdown",
   "metadata": {},
   "source": [
    "### Expected Winner\n",
    "\n",
    "**Task:**\n",
    "\n",
    "Use the model for an estimate the probability that team 1 wins again team 2 (or a tie)?\n",
    "\n",
    "Implement the function `get_probs_winner(id_team1, id_team2)`.\n",
    "\n",
    "\n",
    "**Hint:**\n",
    "\n",
    "Use sampling from the (variational) probability densities:\n",
    "\n",
    "* First implement `get_diffs(team_i, team_j)` which calculates:\n",
    "  * $diff_{ij} = offence_i-defence_j$\n",
    "  * And $diff_{ji} = offence_j-defence_i$\n",
    "  * Example output:\n",
    "      * ```python\n",
    "        goals_ij, goals_ji = get_diffs(0, 17)\n",
    "        print('diff 1:')\n",
    "        print(goals_ij, goals_ij.shape)\n",
    "        print('diff 2:')\n",
    "        print(goals_ji, goals_ji.shape)\n",
    "      ```\n",
    "      ```\n",
    "        diff 1:\n",
    "        [1.56857698 2.07895304 2.04293421 ... 2.22588423 2.08634941 2.20760956] (4000,)\n",
    "        diff 2:\n",
    "        [0.1226164  0.0446999  0.78191971 ... 0.29486617 0.50708817 0.3921155 ] (4000,)\n",
    "        ```\n",
    "\n",
    "* Second, implement `get_probs_winner(team1, team2)`, which uses `get_diffs(team_i, team_j)` inside:\n",
    "  * Sample from a poisson distribution the number of goals for each value in $diff_{ij}$ and each value in $diff_{ji}$ to get the number of goals scored:\n",
    "    * $goals_{ij} = Poisson \\left(\\lambda = (diff_{ij}) \\right)$\n",
    "    * $goals_{ji} = Poisson \\left(\\lambda = (diff_{ji}) \\right)$\n",
    "  * Then compare the each $goals_{ij}$ an $goals_{ji}$.\n",
    "  * Example output:\n",
    "    * ```python\n",
    "        get_probs_winner(0, 17)\n",
    "        ```\n",
    "        ```\n",
    "        FC Bayern München : Hamburger SV\n",
    "        (prob team1, prob team2, tie)\n",
    "        (0.80625, 0.03675, 0.157)\n",
    "        ```\n",
    "        \n",
    "All functions you need were already presented in this notebook, e.g.:\n",
    " * `pyro.param(\"mu_offence\").data` and `pyro.param(\"sigma_offence\").data` for example in conjuction with `np.random.normal(mu, sigma)` to draw samples from a Gaussian and ...\n",
    " * `scipy.stats.poisson.pmf(k, lambda_)` or `np.random.poisson(lambda_)` to sample from Poisson."
   ]
  },
  {
   "cell_type": "code",
   "execution_count": null,
   "metadata": {},
   "outputs": [],
   "source": [
    "def get_diffs(team_1, team_2):\n",
    "    \n",
    "    raise NotImplementedError()\n",
    "    \n",
    "    return diff_ij, diff_ji"
   ]
  },
  {
   "cell_type": "code",
   "execution_count": null,
   "metadata": {},
   "outputs": [],
   "source": [
    "diff_ij, diff_ji = get_diffs(0, 17)\n",
    "print('diff 1:')\n",
    "print(diff_ij, diff_ij.shape)\n",
    "print('diff 2:')\n",
    "print(diff_ji, diff_ji.shape)"
   ]
  },
  {
   "cell_type": "code",
   "execution_count": null,
   "metadata": {},
   "outputs": [],
   "source": [
    "def get_probs_winner(team1, team2):\n",
    "    print (clubs.at[team1, \"Name\"],\":\",clubs.at[team2, \"Name\"])\n",
    "\n",
    "    raise NotImplementedError()\n",
    "    \n",
    "    print('(prob team1, prob team2, tie)')\n",
    "    return p1, p2, tie"
   ]
  },
  {
   "cell_type": "code",
   "execution_count": null,
   "metadata": {},
   "outputs": [],
   "source": [
    "get_probs_winner(0, 17)"
   ]
  },
  {
   "cell_type": "markdown",
   "metadata": {
    "slideshow": {
     "slide_type": "slide"
    }
   },
   "source": [
    "### Distribution of Expected Goals\n",
    "\n",
    "**Task:**\n",
    "\n",
    "Use the model and the sampling trace to predict how many goals a teams scores agains another team.\n",
    "\n",
    "What is the expected number of the goals each team scores?  \n",
    "\n",
    "Implement the corresponding python (plot) functions.\n",
    "\n",
    "For team with index 0 (Bayern München) vs . team with index 17 (Hamburg), the plot (a poisson distribution) should look similar to the follwowing:\n",
    "\n",
    "![internet connection needed](https://gitlab.com/deep.TEACHING/educational-materials/raw/dev/media/klaus/bundesliga_fcb_vs_hamburg.png)"
   ]
  },
  {
   "cell_type": "markdown",
   "metadata": {},
   "source": [
    "**Hints:**\n",
    "\n",
    "\n",
    "* Implement `get_goal_distribution(diff, max_goals=20)` which:\n",
    "  * takes as input parameter one of the outputs of `get_diffs(team_i, team_j)`\n",
    "  * and outputs poisson distribution for the probabilities that the corresponing team scored 0, 1, ..., or `max_goals`:\n",
    "  * $goals_{ij} = Poisson \\left(\\lambda = (diff_{ij}) \\right)$\n",
    "  * example output: \n",
    "      * ```python\n",
    "        poisson_goals_1 = get_goal_distribution(diff_ij)\n",
    "        print('poisson_goals_1 1:')\n",
    "        print(poisson_goals_1)\n",
    "      ```\n",
    "      ```\n",
    "        poisson_goals_1 1:\n",
    "        [1.85886410e-01 2.99635677e-01 2.54125262e-01 1.50583060e-01\n",
    "        6.99165158e-02 2.70688509e-02 9.08722901e-03 2.71762207e-03\n",
    "        7.38568964e-04 1.85245582e-04 4.34180830e-05 9.60812360e-06\n",
    "        2.02488505e-06 4.09324980e-07 7.98263618e-08 1.50845350e-08\n",
    "        2.77028983e-09 4.95305584e-10 8.62693285e-11 1.46354975e-11]\n",
    "      ```\n",
    "* Implement `plot_goal_diffs(team_1, team_2)`:\n",
    "  * combines the two functions `get_diffs(team_i, team_j)` and `get_goal_distribution(diff, max_goals=20)` and plots the distributions, shown in the cell above."
   ]
  },
  {
   "cell_type": "code",
   "execution_count": null,
   "metadata": {
    "scrolled": true,
    "slideshow": {
     "slide_type": "-"
    }
   },
   "outputs": [],
   "source": [
    "def get_goal_distribution(diff, max_goals=20):\n",
    "    \n",
    "    raise NotImplementedError()\n",
    "    \n",
    "    return poisson_goals"
   ]
  },
  {
   "cell_type": "code",
   "execution_count": null,
   "metadata": {},
   "outputs": [],
   "source": [
    "poisson_goals_1 = get_goal_distribution(diff_ij)\n",
    "print('poisson_goals_1 1:')\n",
    "print(poisson_goals_1)\n",
    "poisson_goals_2 = get_goal_distribution(diff_ji)\n",
    "print('poisson_goals_2 2:')\n",
    "print(poisson_goals_2)"
   ]
  },
  {
   "cell_type": "code",
   "execution_count": null,
   "metadata": {
    "slideshow": {
     "slide_type": "-"
    }
   },
   "outputs": [],
   "source": [
    "def plot_goal_diffs(team_1, team_2):\n",
    "    \n",
    "    raise NotImplementedError()\n",
    "    "
   ]
  },
  {
   "cell_type": "code",
   "execution_count": null,
   "metadata": {
    "scrolled": true
   },
   "outputs": [],
   "source": [
    "# probability that team 0 scores 0,1,2, ... goals against team 8\n",
    "plot_goal_diffs(0, 17)"
   ]
  },
  {
   "cell_type": "markdown",
   "metadata": {
    "slideshow": {
     "slide_type": "notes"
    }
   },
   "source": [
    "### Extension of the Model\n",
    "\n",
    "**Task:**\n",
    "\n",
    "Extend the model with _home advantage_:\n",
    "\n",
    "At home a team is in general a little bit stronger as away. \n",
    "Modify the model to take this into account. This could e.g. be modeled with another normal distribution:\n",
    "\n",
    "for home games:\n",
    "$$\n",
    "goals_{ij} = Poisson \\left(\\lambda = (offence_i-defence_j + \\frac{advantage}{2}) \\right)\n",
    "$$\n",
    "\n",
    "and games as guest:\n",
    "$$\n",
    "goals_{ij} = Poisson \\left(\\lambda = (offence_i-defence_j - \\frac{advantage}{2}) \\right)\n",
    "$$\n",
    "\n",
    "And plot the posterior home advantage distribution:\n",
    "\n",
    "![internet connection needed](https://gitlab.com/deep.TEACHING/educational-materials/raw/dev/media/klaus/bundesliga_posterior_advantage_pyro.png)\n",
    "\n",
    "**Notes:**\n",
    "* Note there is no index $i$ or $j$ at the PDF $advantage$. For now it is eassier to assume there is a general advantage which is equal for all teams."
   ]
  },
  {
   "cell_type": "code",
   "execution_count": null,
   "metadata": {},
   "outputs": [],
   "source": [
    "######################\n",
    "### YOUR CODE HERE ###\n",
    "######################\n",
    "\n"
   ]
  },
  {
   "cell_type": "markdown",
   "metadata": {},
   "source": [
    "### Summary and Further Modifications\n",
    "\n",
    "In this exercise you modeled a real world scenario with a bayesian model and pyro. Remember that this was just one way of modelling the real world scenario, our model could also have been totally different.\n",
    "\n",
    "A further extension for example could be to include not a single _home advange_ distribution, but one for each team (like we also modeled individual offence and defence strenghts). Or you could also add individual _away disadvantes_."
   ]
  },
  {
   "cell_type": "markdown",
   "metadata": {
    "slideshow": {
     "slide_type": "-"
    }
   },
   "source": [
    "## Licenses\n",
    "\n",
    "### Notebook License (CC-BY-SA 4.0)\n",
    "\n",
    "*The following license applies to the complete notebook, including code cells. It does however not apply to any referenced external media (e.g., images).*\n",
    "\n",
    "Exercise - Bundesliga Game Prediction with Pyro\n",
    "by Christian Herta, Klaus Strohmenger<br/>\n",
    "is licensed under a [Creative Commons Attribution-ShareAlike 4.0 International License](http://creativecommons.org/licenses/by-sa/4.0/).<br/>\n",
    "Based on a work at https://gitlab.com/deep.TEACHING.\n",
    "\n",
    "\n",
    "### Code License (MIT)\n",
    "\n",
    "*The following license only applies to code cells of the notebook.*\n",
    "\n",
    "Copyright 2018 Christian Herta, Klaus Strohmenger\n",
    "\n",
    "Permission is hereby granted, free of charge, to any person obtaining a copy of this software and associated documentation files (the \"Software\"), to deal in the Software without restriction, including without limitation the rights to use, copy, modify, merge, publish, distribute, sublicense, and/or sell copies of the Software, and to permit persons to whom the Software is furnished to do so, subject to the following conditions:\n",
    "\n",
    "The above copyright notice and this permission notice shall be included in all copies or substantial portions of the Software.\n",
    "\n",
    "THE SOFTWARE IS PROVIDED \"AS IS\", WITHOUT WARRANTY OF ANY KIND, EXPRESS OR IMPLIED, INCLUDING BUT NOT LIMITED TO THE WARRANTIES OF MERCHANTABILITY, FITNESS FOR A PARTICULAR PURPOSE AND NONINFRINGEMENT. IN NO EVENT SHALL THE AUTHORS OR COPYRIGHT HOLDERS BE LIABLE FOR ANY CLAIM, DAMAGES OR OTHER LIABILITY, WHETHER IN AN ACTION OF CONTRACT, TORT OR OTHERWISE, ARISING FROM, OUT OF OR IN CONNECTION WITH THE SOFTWARE OR THE USE OR OTHER DEALINGS IN THE SOFTWARE."
   ]
  },
  {
   "cell_type": "code",
   "execution_count": null,
   "metadata": {},
   "outputs": [],
   "source": []
  }
 ],
 "metadata": {
  "celltoolbar": "Slideshow",
  "kernelspec": {
   "display_name": "Python 3",
   "language": "python",
   "name": "python3"
  },
  "language_info": {
   "codemirror_mode": {
    "name": "ipython",
    "version": 3
   },
   "file_extension": ".py",
   "mimetype": "text/x-python",
   "name": "python",
   "nbconvert_exporter": "python",
   "pygments_lexer": "ipython3",
   "version": "3.7.3"
  }
 },
 "nbformat": 4,
 "nbformat_minor": 4
}
