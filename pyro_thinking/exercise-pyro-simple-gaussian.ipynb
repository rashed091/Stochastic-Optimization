{
 "cells": [
  {
   "cell_type": "markdown",
   "metadata": {},
   "source": [
    "# Exercise - Estimating Mean and Standard Deviation of Normal Distribution with Pyro"
   ]
  },
  {
   "cell_type": "markdown",
   "metadata": {
    "slideshow": {
     "slide_type": "-"
    }
   },
   "source": [
    "## Table of Contents\n",
    "* [Introduction](#Introduction)\n",
    "* [Requirements](#Requirements) \n",
    "  * [Knowledge](#Knowledge)\n",
    "  * [Modules](#Python-Modules)\n",
    "* [Data](#Data)\n",
    "* [Working with Pyro](#Working-with-Pyro)\n",
    " * [The Model](#The-Model)\n",
    " * [The Guide](#The-Guide)\n",
    " * [Stochastic Variational Inference - SVI](#Stochastic-Variational-Inference---SVI)\n",
    "* [Exercise - Estimate Tau (and Mean)](#Exercise---Estimate-Precision-and-Mean)\n",
    "* [Literature](#Literature)\n",
    "* [Licenses](#Licenses)"
   ]
  },
  {
   "cell_type": "markdown",
   "metadata": {
    "slideshow": {
     "slide_type": "-"
    }
   },
   "source": [
    "## Introduction\n",
    "\n",
    "\"Pyro is a universal probabilistic programming language (PPL) written in Python and supported by PyTorch on the backend. Pyro enables flexible and expressive deep probabilistic modeling, unifying the best of modern deep learning and Bayesian modeling.\" ([https://pyro.ai/](https://pyro.ai/)).\n",
    "\n",
    "In this exercise you will use Pyro to estimate the parameters of a normal distribution.\n",
    "\n",
    "\n",
    "In order to detect errors in your own code, execute the notebook cells containing `assert` or `assert_almost_equal`."
   ]
  },
  {
   "cell_type": "markdown",
   "metadata": {
    "slideshow": {
     "slide_type": "-"
    }
   },
   "source": [
    "## Requirements\n",
    "\n",
    "### Knowledge\n",
    "\n",
    "#### Theory\n",
    "\n",
    "All *Pyro*-exercises are intended as part of the course [Bayesian Learning](https://dev.deep-teaching.org/courses/bayesian-learning). Therefore work through the course up to and including chapter [Probabilistic Progrmaming](https://dev.deep-teaching.org/courses/bayesian-learning#probabilistic-programming).\n",
    "\n",
    "\n",
    "#### Pyro\n",
    "\n",
    "* The official Tutorial:\n",
    "    * https://pyro.ai/examples/intro_part_i.html\n",
    "    * https://pyro.ai/examples/intro_part_ii.html\n",
    "    * https://pyro.ai/examples/svi_part_i.html"
   ]
  },
  {
   "cell_type": "markdown",
   "metadata": {
    "slideshow": {
     "slide_type": "-"
    }
   },
   "source": [
    "### Python Modules"
   ]
  },
  {
   "cell_type": "code",
   "execution_count": null,
   "metadata": {},
   "outputs": [],
   "source": [
    "import numpy as np\n",
    "\n",
    "import scipy.stats\n",
    "from scipy.stats import norm\n",
    "\n",
    "from matplotlib import pyplot as plt\n",
    "from IPython.core.pylabtools import figsize\n",
    "\n",
    "%matplotlib inline"
   ]
  },
  {
   "cell_type": "code",
   "execution_count": null,
   "metadata": {},
   "outputs": [],
   "source": [
    "import torch\n",
    "from torch.distributions import constraints\n",
    "\n",
    "import pyro\n",
    "import pyro.infer\n",
    "import pyro.optim as optim\n",
    "import pyro.distributions as dist"
   ]
  },
  {
   "cell_type": "markdown",
   "metadata": {},
   "source": [
    "## Data\n",
    "\n",
    "Our observed data comes from a normal distribution:\n",
    "\n",
    "Data:\n",
    "$$\n",
    " X \\sim \\mathcal N(\\mu, \\frac{1}{\\tau})\n",
    "$$\n",
    "\n",
    "\n",
    "Probability Density Function:\n",
    "$$\n",
    "p(X \\mid \\mu, \\tau) = \\sqrt{\\frac{\\tau}{2\\pi}} \\exp\\left( -\\frac{\\tau (X-\\mu)^2 }{2} \\right)\n",
    "$$\n",
    "\n",
    "with  \n",
    "- $\\mu$: mean\n",
    "- $\\sigma^2$: variance\n",
    "- $\\tau =\\frac{1}{\\sigma^2}$ : precision"
   ]
  },
  {
   "cell_type": "code",
   "execution_count": null,
   "metadata": {},
   "outputs": [],
   "source": [
    "dtype=torch.float32"
   ]
  },
  {
   "cell_type": "code",
   "execution_count": null,
   "metadata": {},
   "outputs": [],
   "source": [
    "torch.manual_seed(101);\n",
    "np.random.seed(10)"
   ]
  },
  {
   "cell_type": "code",
   "execution_count": null,
   "metadata": {},
   "outputs": [],
   "source": [
    "# generate observed data\n",
    "N = 10\n",
    "mu_ = 10.\n",
    "sigma_=2.\n",
    "X = np.random.normal(mu_, sigma_, N)\n",
    "X = np.array(X, dtype=np.float32)"
   ]
  },
  {
   "cell_type": "code",
   "execution_count": null,
   "metadata": {},
   "outputs": [],
   "source": [
    "X"
   ]
  },
  {
   "cell_type": "code",
   "execution_count": null,
   "metadata": {},
   "outputs": [],
   "source": [
    "x = np.arange(3,18,0.01)\n",
    "p_x = scipy.stats.norm.pdf(x, loc=mu_, scale=sigma_)\n",
    "plt.plot(x, p_x, label=\"true distribution\")\n",
    "plt.plot(X, np.zeros_like(X), \"ro\", label=\"observed data\")\n",
    "plt.title(\"\")\n",
    "plt.xlabel(\"x\")\n",
    "plt.ylabel(\"p(x)\")\n",
    "plt.legend();"
   ]
  },
  {
   "cell_type": "markdown",
   "metadata": {},
   "source": [
    "## Working with Pyro\n",
    "\n",
    "### The Model\n",
    "\n",
    "We build the following model with pyro\n",
    "\n",
    "- We use the generated data $X \\sim \\mathcal N(\\mu, \\sigma^2)$ as observed data.\n",
    "- We use a Uniform prior for the mean $\\mu$:\n",
    "    * $\\mu \\sim \\text{Uniform}(-25,25)$\n",
    "- We use a constant $\\tau=1/4$ for the precision.\n",
    "    * Note: This has to be a `torch.tensor` object"
   ]
  },
  {
   "cell_type": "code",
   "execution_count": null,
   "metadata": {
    "slideshow": {
     "slide_type": "-"
    }
   },
   "outputs": [],
   "source": [
    "def model(X):\n",
    "    # Prior\n",
    "    mu = pyro.sample(\"mu\", dist.Uniform(torch.tensor(-25.), torch.tensor(+25.))) \n",
    "    tau = torch.tensor(1/4)\n",
    "\n",
    "    # Observation\n",
    "    # pyro.plate creates a loop through x\n",
    "    with pyro.plate(\"data_loop\", size=len(X)):\n",
    "        sample = pyro.sample(\"gaussian_data\", dist.Normal(mu, 1/torch.sqrt(tau)), obs=X)\n",
    "    \n",
    "    return sample"
   ]
  },
  {
   "cell_type": "markdown",
   "metadata": {},
   "source": [
    "### The Guide\n",
    "\n",
    "Next we implement the \"Guide\", which we will later on use in conjuction with our model for stochacstic variational inference (`pyro.infer.SVI()`).\n",
    "\n",
    "We use as variational distribution also a Gaussian.\n",
    "$$\n",
    "\\mu \\sim \\mathcal N(mean_{\\mu}, scale_{\\mu}^2)\n",
    "$$"
   ]
  },
  {
   "cell_type": "code",
   "execution_count": null,
   "metadata": {
    "slideshow": {
     "slide_type": "-"
    }
   },
   "outputs": [],
   "source": [
    "### same arguments for guide and model !!!\n",
    "def guide(X):\n",
    "    mean_loc = torch.randn((1)) \n",
    "    # note that we initialize the scale to be pretty narrow\n",
    "    mean_scale = 0.01 * torch.tensor(0.01)\n",
    "    mu_loc = pyro.param(\"guide_mu_mean\", mean_loc)\n",
    "    mu_scale = pyro.param(\"guide_mu_scale\", mean_scale, constraint=constraints.positive)\n",
    "    # note the same name \"mu\" here as in our model\n",
    "    mu = pyro.sample(\"mu\", dist.Normal(mu_loc, mu_scale)) \n"
   ]
  },
  {
   "cell_type": "markdown",
   "metadata": {
    "slideshow": {
     "slide_type": "-"
    }
   },
   "source": [
    "### Stochastic Variational Inference - SVI\n",
    "\n",
    "Now we optimize the variational parameters, i.e. find values for $mean_{\\mu}, scale_{\\mu}$"
   ]
  },
  {
   "cell_type": "code",
   "execution_count": null,
   "metadata": {
    "slideshow": {
     "slide_type": "-"
    }
   },
   "outputs": [],
   "source": [
    "pyro.clear_param_store()\n",
    "\n",
    "adam_params = {\"lr\": 0.003, \"betas\": (0.95, 0.999)}\n",
    "optimizer = optim.Adam(adam_params)\n",
    "\n",
    "svi = pyro.infer.SVI(model=model,\n",
    "                     guide=guide,\n",
    "                     optim=optimizer,\n",
    "                     loss=pyro.infer.Trace_ELBO())"
   ]
  },
  {
   "cell_type": "code",
   "execution_count": null,
   "metadata": {
    "slideshow": {
     "slide_type": "-"
    }
   },
   "outputs": [],
   "source": [
    "### to keep track of our loss history\n",
    "losses = []\n",
    "\n",
    "### convert observed data to a torch tensor object\n",
    "X_ = torch.tensor(X, dtype=dtype)\n",
    "\n",
    "### training / inference\n",
    "for t in range(10000):\n",
    "    ### svi.step takes same parameters as inpust as our defined model(X) and guide(X) function\n",
    "    loss = svi.step(X_)\n",
    "    losses.append(loss)\n",
    "    ### for monitoring\n",
    "    if t%100==0:\n",
    "        print (t, \"\\t\", loss)"
   ]
  },
  {
   "cell_type": "code",
   "execution_count": null,
   "metadata": {
    "scrolled": true
   },
   "outputs": [],
   "source": [
    "### Let us plot the costs / iteration curve\n",
    "\n",
    "plt.xlabel(\"# iteration\")\n",
    "plt.ylabel(\"MC-Estimate of ELBO\")\n",
    "plt.plot(range(len(losses)), losses)"
   ]
  },
  {
   "cell_type": "code",
   "execution_count": null,
   "metadata": {},
   "outputs": [],
   "source": [
    "# Adjust the strings according to your names for\n",
    "# the parameters \"mu_mean\", etc...\n",
    "mu_mean_param = pyro.param(\"guide_mu_mean\")\n",
    "mu_scale_param = pyro.param(\"guide_mu_scale\")\n",
    "mu_mean_param, mu_scale_param"
   ]
  },
  {
   "cell_type": "code",
   "execution_count": null,
   "metadata": {},
   "outputs": [],
   "source": [
    "plt.figure(figsize=(12,4))\n",
    "\n",
    "mu_mean = mu_mean_param.detach().numpy()\n",
    "mu_scale = mu_scale_param.detach().numpy()\n",
    "\n",
    "x = np.arange(5,15,0.01)\n",
    "p_mu = scipy.stats.norm.pdf(x, loc=mu_mean, scale=np.sqrt(mu_scale))\n",
    "ax = plt.subplot(121)\n",
    "ax.plot(x, p_mu)\n",
    "ax.set_xlabel(\"$\\mu$\")\n",
    "ax.set_ylabel(\"q($\\mu$)\")\n",
    "ax.set_title(\"Mean: q($\\\\mu$)\")\n",
    "print(\"true mu: \", mu_)"
   ]
  },
  {
   "cell_type": "markdown",
   "metadata": {},
   "source": [
    "## Exercise - Estimate Precision and Mean\n",
    "\n",
    "**Task:**\n",
    "\n",
    "Extend the model and the Guide by using additionally a variational distribution for $\\tau$:\n",
    "- Use a Uniform distribution for $\\tau \\sim \\text{Uniform}(0.01, 2)$\n",
    "- Use a Gamma distribution as variational distribution for $\\tau$: $\\text{Gamma}(a, b)$\n",
    "- Find the parameters $a$ (`guide_tau_concentration`), $b$ (`guide_tau_rate`) (and $mean_{\\mu}, scale_{\\mu}$) via optimization.\n",
    "\n",
    "\n",
    "If your extensions are correct, executing the cells at the end should plot figures similar to these:\n",
    "\n",
    "<img src=\"https://gitlab.com/deep.TEACHING/educational-materials/raw/master/media/klaus/exercise-mean-field-approximation-simple-gaussian-plot.png\" width=\"768\" alt=\"internet connection needed\">"
   ]
  },
  {
   "cell_type": "code",
   "execution_count": null,
   "metadata": {
    "slideshow": {
     "slide_type": "-"
    }
   },
   "outputs": [],
   "source": [
    "def model_with_tau(X):\n",
    "    \n",
    "    ######################\n",
    "    ### Your Code here ###\n",
    "    ######################\n",
    "\n",
    "    \n",
    "    return"
   ]
  },
  {
   "cell_type": "code",
   "execution_count": null,
   "metadata": {
    "slideshow": {
     "slide_type": "-"
    }
   },
   "outputs": [],
   "source": [
    "def guide_with_tau(X):\n",
    "    \n",
    "    ######################\n",
    "    ### Your Code here ###\n",
    "    ######################\n",
    "\n",
    "    \n",
    "    return"
   ]
  },
  {
   "cell_type": "code",
   "execution_count": null,
   "metadata": {},
   "outputs": [],
   "source": [
    "### Initilize pyro.infer.SVI object\n",
    "\n",
    "######################\n",
    "### Your Code here ###\n",
    "######################"
   ]
  },
  {
   "cell_type": "code",
   "execution_count": null,
   "metadata": {},
   "outputs": [],
   "source": [
    "### Training\n",
    "\n",
    "######################\n",
    "### Your Code here ###\n",
    "######################"
   ]
  },
  {
   "cell_type": "code",
   "execution_count": null,
   "metadata": {},
   "outputs": [],
   "source": [
    "# Adjust the strings according to your names for\n",
    "# the parameters \"mu_mean\", etc...\n",
    "mu_mean_param = pyro.param(\"guide_mu_mean\")\n",
    "mu_scale_param = pyro.param(\"guide_mu_scale\")\n",
    "mu_mean_param, mu_scale_param"
   ]
  },
  {
   "cell_type": "code",
   "execution_count": null,
   "metadata": {},
   "outputs": [],
   "source": [
    "# Adjust the strings according to your names for\n",
    "# the parameters \"mu_mean\", etc...\n",
    "tau_concentration_param = pyro.param(\"guide_tau_concentration\")\n",
    "tau_rate_param = pyro.param(\"guide_tau_rate\")\n",
    "tau_concentration_param, tau_rate_param"
   ]
  },
  {
   "cell_type": "code",
   "execution_count": null,
   "metadata": {},
   "outputs": [],
   "source": [
    "plt.figure(figsize=(12,4))\n",
    "\n",
    "mu_mean = mu_mean_param.detach().numpy()\n",
    "mu_scale = mu_scale_param.detach().numpy()\n",
    "\n",
    "x = np.arange(5,15,0.01)\n",
    "p_mu = scipy.stats.norm.pdf(x, loc=mu_mean, scale=np.sqrt(mu_scale))\n",
    "ax = plt.subplot(121)\n",
    "ax.plot(x, p_mu)\n",
    "ax.set_xlabel(\"$\\mu$\")\n",
    "ax.set_ylabel(\"q($\\mu$)\")\n",
    "ax.set_title(\"Mean: q($\\\\mu$)\")\n",
    "print(\"true mu: \", mu_)\n",
    "\n",
    "tau_concentration =tau_concentration_param.detach().numpy()\n",
    "tau_rate = tau_rate_param.detach().numpy()\n",
    "\n",
    "x = np.arange(0,1,0.01)\n",
    "p_tau = scipy.stats.gamma.pdf(x, a=tau_concentration, scale=1/tau_rate)\n",
    "ax = plt.subplot(122)\n",
    "ax.plot(x, p_tau)\n",
    "ax.set_xlabel(\"$\\\\tau$\")\n",
    "ax.set_ylabel(\"q($\\\\tau$)\")\n",
    "ax.set_title(\"Precision: q($\\\\tau$)\")\n",
    "print(\"true tau: \", 1/sigma_**2)\n"
   ]
  },
  {
   "cell_type": "markdown",
   "metadata": {
    "slideshow": {
     "slide_type": "-"
    }
   },
   "source": [
    "## Licenses\n",
    "\n",
    "### Notebook License (CC-BY-SA 4.0)\n",
    "\n",
    "*The following license applies to the complete notebook, including code cells. It does however not apply to any referenced external media (e.g., images).*\n",
    "\n",
    "Exercise - Pyro Simple Gaussian <br/>\n",
    "by Christian Herta<br/>\n",
    "is licensed under a [Creative Commons Attribution-ShareAlike 4.0 International License](http://creativecommons.org/licenses/by-sa/4.0/).<br/>\n",
    "Based on a work at https://gitlab.com/deep.TEACHING.\n",
    "\n",
    "\n",
    "### Code License (MIT)\n",
    "\n",
    "*The following license only applies to code cells of the notebook.*\n",
    "\n",
    "Copyright 2019 Christian Herta\n",
    "\n",
    "Permission is hereby granted, free of charge, to any person obtaining a copy of this software and associated documentation files (the \"Software\"), to deal in the Software without restriction, including without limitation the rights to use, copy, modify, merge, publish, distribute, sublicense, and/or sell copies of the Software, and to permit persons to whom the Software is furnished to do so, subject to the following conditions:\n",
    "\n",
    "The above copyright notice and this permission notice shall be included in all copies or substantial portions of the Software.\n",
    "\n",
    "THE SOFTWARE IS PROVIDED \"AS IS\", WITHOUT WARRANTY OF ANY KIND, EXPRESS OR IMPLIED, INCLUDING BUT NOT LIMITED TO THE WARRANTIES OF MERCHANTABILITY, FITNESS FOR A PARTICULAR PURPOSE AND NONINFRINGEMENT. IN NO EVENT SHALL THE AUTHORS OR COPYRIGHT HOLDERS BE LIABLE FOR ANY CLAIM, DAMAGES OR OTHER LIABILITY, WHETHER IN AN ACTION OF CONTRACT, TORT OR OTHERWISE, ARISING FROM, OUT OF OR IN CONNECTION WITH THE SOFTWARE OR THE USE OR OTHER DEALINGS IN THE SOFTWARE."
   ]
  },
  {
   "cell_type": "code",
   "execution_count": null,
   "metadata": {},
   "outputs": [],
   "source": []
  }
 ],
 "metadata": {
  "celltoolbar": "Slideshow",
  "kernelspec": {
   "display_name": "Python 3",
   "language": "python",
   "name": "python3"
  },
  "language_info": {
   "codemirror_mode": {
    "name": "ipython",
    "version": 3
   },
   "file_extension": ".py",
   "mimetype": "text/x-python",
   "name": "python",
   "nbconvert_exporter": "python",
   "pygments_lexer": "ipython3",
   "version": "3.7.5"
  }
 },
 "nbformat": 4,
 "nbformat_minor": 4
}
