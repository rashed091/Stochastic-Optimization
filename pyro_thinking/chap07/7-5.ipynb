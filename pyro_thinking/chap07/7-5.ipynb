{
 "cells": [
  {
   "cell_type": "code",
   "execution_count": 1,
   "metadata": {},
   "outputs": [],
   "source": [
    "%matplotlib inline\n",
    "import matplotlib.pyplot as plt\n",
    "import seaborn as sns\n",
    "import pandas as pd\n",
    "import numpy as np\n",
    "import statsmodels.api as sm\n",
    "from scipy import stats\n",
    "\n",
    "import torch\n",
    "import pyro\n",
    "from pyro import distributions as dist\n",
    "from pyro.infer.mcmc import NUTS, MCMC\n",
    "from pyro.infer.abstract_infer import EmpiricalMarginal, TracePredictive"
   ]
  },
  {
   "cell_type": "code",
   "execution_count": 2,
   "metadata": {},
   "outputs": [],
   "source": [
    "data = pd.read_csv(\"input/data-50m.txt\")"
   ]
  },
  {
   "cell_type": "code",
   "execution_count": 3,
   "metadata": {},
   "outputs": [
    {
     "data": {
      "text/html": [
       "<div>\n",
       "<style scoped>\n",
       "    .dataframe tbody tr th:only-of-type {\n",
       "        vertical-align: middle;\n",
       "    }\n",
       "\n",
       "    .dataframe tbody tr th {\n",
       "        vertical-align: top;\n",
       "    }\n",
       "\n",
       "    .dataframe thead th {\n",
       "        text-align: right;\n",
       "    }\n",
       "</style>\n",
       "<table border=\"1\" class=\"dataframe\">\n",
       "  <thead>\n",
       "    <tr style=\"text-align: right;\">\n",
       "      <th></th>\n",
       "      <th>Y</th>\n",
       "      <th>Weight</th>\n",
       "      <th>Age</th>\n",
       "    </tr>\n",
       "  </thead>\n",
       "  <tbody>\n",
       "    <tr>\n",
       "      <th>0</th>\n",
       "      <td>2.46</td>\n",
       "      <td>16.6</td>\n",
       "      <td>7</td>\n",
       "    </tr>\n",
       "    <tr>\n",
       "      <th>1</th>\n",
       "      <td>3.02</td>\n",
       "      <td>21.4</td>\n",
       "      <td>7</td>\n",
       "    </tr>\n",
       "    <tr>\n",
       "      <th>2</th>\n",
       "      <td>2.91</td>\n",
       "      <td>24.0</td>\n",
       "      <td>7</td>\n",
       "    </tr>\n",
       "    <tr>\n",
       "      <th>3</th>\n",
       "      <td>3.05</td>\n",
       "      <td>13.0</td>\n",
       "      <td>7</td>\n",
       "    </tr>\n",
       "    <tr>\n",
       "      <th>4</th>\n",
       "      <td>2.60</td>\n",
       "      <td>21.9</td>\n",
       "      <td>7</td>\n",
       "    </tr>\n",
       "  </tbody>\n",
       "</table>\n",
       "</div>"
      ],
      "text/plain": [
       "      Y  Weight  Age\n",
       "0  2.46    16.6    7\n",
       "1  3.02    21.4    7\n",
       "2  2.91    24.0    7\n",
       "3  3.05    13.0    7\n",
       "4  2.60    21.9    7"
      ]
     },
     "execution_count": 3,
     "metadata": {},
     "output_type": "execute_result"
    }
   ],
   "source": [
    "data.head()"
   ]
  },
  {
   "cell_type": "code",
   "execution_count": 4,
   "metadata": {},
   "outputs": [
    {
     "data": {
      "text/plain": [
       "<matplotlib.axes._subplots.AxesSubplot at 0x1285cd7b8>"
      ]
     },
     "execution_count": 4,
     "metadata": {},
     "output_type": "execute_result"
    },
    {
     "data": {
      "image/png": "[encoded data removed]",
      "text/plain": [
       "<Figure size 432x288 with 1 Axes>"
      ]
     },
     "metadata": {
      "needs_background": "light"
     },
     "output_type": "display_data"
    }
   ],
   "source": [
    "sns.scatterplot(x=\"Weight\", y=\"Y\", data=data, hue=\"Age\")"
   ]
  },
  {
   "cell_type": "code",
   "execution_count": 5,
   "metadata": {},
   "outputs": [],
   "source": [
    "y = torch.tensor(data.Y)\n",
    "weight = torch.tensor(data.Weight)\n",
    "age = torch.tensor(data.Age).float()"
   ]
  },
  {
   "cell_type": "markdown",
   "metadata": {},
   "source": [
    "## モデル式\n",
    "\n",
    "$$\\mu_{weight}[n] = c_1 + c_2 Age[n]$$\n",
    "$$Weight[n] \\sim Normal(\\mu_{weight}[n], \\sigma_W)$$\n",
    "$$\\mu_Y[n] = b_1 + b2 Age[n] + b_3 Weight[n]$$\n",
    "$$Y[n] \\sim Normal(\\mu_Y[n], \\sigma_Y)$$"
   ]
  },
  {
   "cell_type": "code",
   "execution_count": 6,
   "metadata": {},
   "outputs": [],
   "source": [
    "def model(weight, age, y):\n",
    "    c1 = pyro.sample(\"c1\", dist.Normal(0, 10))\n",
    "    c2 = pyro.sample(\"c2\", dist.Normal(0, 10))\n",
    "    sigma_w = pyro.sample(\"sigma_w\", dist.Uniform(0, 100))\n",
    "    \n",
    "    b1 = pyro.sample(\"b1\", dist.Normal(0, 10))\n",
    "    b2 = pyro.sample(\"b2\", dist.Normal(0, 10))\n",
    "    b3 = pyro.sample(\"b3\", dist.Normal(0, 10))\n",
    "    sigma_y = pyro.sample(\"sigma_y\", dist.Uniform(0, 100))\n",
    "    \n",
    "    mu_w = c1 + c2 * age\n",
    "    weight = pyro.sample(\"weight\", dist.Normal(mu_w, sigma_w))\n",
    "    mu_y = b1 + b2 * age + b3 * weight\n",
    "    with pyro.plate(\"data\", len(weight)):\n",
    "        pyro.sample(\"obs\", dist.Normal(mu_y, sigma_y), obs=y)"
   ]
  },
  {
   "cell_type": "code",
   "execution_count": null,
   "metadata": {},
   "outputs": [],
   "source": [
    "kernel = NUTS(model, adapt_step_size=False, step_size=0.05, jit_compile=True, ignore_jit_warnings=True)\n",
    "posterior = MCMC(kernel, num_chains=4, num_samples=1000, warmup_steps=1000).run(weight, age, y) # 終わらない"
   ]
  },
  {
   "cell_type": "code",
   "execution_count": null,
   "metadata": {},
   "outputs": [],
   "source": [
    "sites = [\"c1\", \"c2\", \"sigma_w\", \"b1\", \"b2\", \"b3\", \"sigma_y\"]\n",
    "marginal = pd.DataFrame(EmpiricalMarginal(posterior, sites)._get_samples_and_weights()[0].reshape(-1, len(sites)).numpy(), columns=sites)"
   ]
  },
  {
   "cell_type": "code",
   "execution_count": null,
   "metadata": {},
   "outputs": [],
   "source": [
    "marginal.quantile([0.025, 0.25, 0.5, 0.75, 0.975]).T"
   ]
  },
  {
   "cell_type": "code",
   "execution_count": null,
   "metadata": {},
   "outputs": [],
   "source": [
    "marginal.c2.plot()"
   ]
  },
  {
   "cell_type": "code",
   "execution_count": null,
   "metadata": {},
   "outputs": [],
   "source": []
  }
 ],
 "metadata": {
  "kernelspec": {
   "display_name": "Python 3",
   "language": "python",
   "name": "python3"
  },
  "language_info": {
   "codemirror_mode": {
    "name": "ipython",
    "version": 3
   },
   "file_extension": ".py",
   "mimetype": "text/x-python",
   "name": "python",
   "nbconvert_exporter": "python",
   "pygments_lexer": "ipython3",
   "version": "3.7.3"
  }
 },
 "nbformat": 4,
 "nbformat_minor": 2
}
