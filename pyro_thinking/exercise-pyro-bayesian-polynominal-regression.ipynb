{
 "cells": [
  {
   "cell_type": "markdown",
   "metadata": {
    "slideshow": {
     "slide_type": "-"
    }
   },
   "source": [
    "# Exercise - Pyro Polynomial Regression"
   ]
  },
  {
   "cell_type": "markdown",
   "metadata": {
    "slideshow": {
     "slide_type": "-"
    }
   },
   "source": [
    "## Table of Contents\n",
    "* [Introduction](#Introduction)\n",
    "* [Requirements](#Requirements) \n",
    "  * [Knowledge](#Knowledge)\n",
    "  * [Modules](#Python-Modules)\n",
    "* [Data](#Examples)\n",
    "* [Exercises](#Examples)\n",
    "  * [Pytorch Regression Model](#Pytorch-Regression-Model)\n",
    "  * [Probabilistic Model](#Probabilistic-Model)\n",
    "  * [Evaluation / Visualization](#Evaluation-/-Visualization)\n",
    "  * [Additional-Exercise](#Additional-Exercise)\n",
    "* [Licenses](#Licenses)"
   ]
  },
  {
   "cell_type": "markdown",
   "metadata": {
    "slideshow": {
     "slide_type": "-"
    }
   },
   "source": [
    "## Introduction\n",
    "\n"
   ]
  },
  {
   "cell_type": "markdown",
   "metadata": {},
   "source": [
    "Remark: In order to detect errors in your own code, execute the notebook cells containing `assert` or `assert_almost_equal`. These statements raise exceptions, as long as the calculated result is not yet correct."
   ]
  },
  {
   "cell_type": "markdown",
   "metadata": {
    "slideshow": {
     "slide_type": "-"
    }
   },
   "source": [
    "## Requirements\n",
    "\n",
    "### Knowledge\n",
    "\n",
    "#### Theory\n",
    "\n",
    "All *Pyro*-exercises are intended as part of the course [Bayesian Learning](https://dev.deep-teaching.org/courses/bayesian-learning). Therefore work through the course up to and including chapter [Probabilistic Progrmaming](https://dev.deep-teaching.org/courses/bayesian-learning#probabilistic-programming).\n",
    "\n",
    "\n",
    "#### Pyro\n",
    "\n",
    "* The official Tutorial:\n",
    "    * https://pyro.ai/examples/intro_part_i.html\n",
    "    * https://pyro.ai/examples/intro_part_ii.html\n",
    "    * https://pyro.ai/examples/svi_part_i.html"
   ]
  },
  {
   "cell_type": "markdown",
   "metadata": {
    "slideshow": {
     "slide_type": "-"
    }
   },
   "source": [
    "### Python Modules"
   ]
  },
  {
   "cell_type": "code",
   "execution_count": null,
   "metadata": {},
   "outputs": [],
   "source": [
    "import numpy as np\n",
    "\n",
    "import torch\n",
    "import torch.nn as nn\n",
    "\n",
    "import pyro\n",
    "from pyro.distributions import Normal\n",
    "from pyro.infer import SVI, JitTrace_ELBO, Trace_ELBO\n",
    "from pyro.optim import Adam\n",
    "\n",
    "import matplotlib.pyplot as plt\n",
    "%matplotlib inline"
   ]
  },
  {
   "cell_type": "code",
   "execution_count": null,
   "metadata": {},
   "outputs": [],
   "source": [
    "### for debugging\n",
    "pyro.enable_validation(True)"
   ]
  },
  {
   "cell_type": "markdown",
   "metadata": {},
   "source": [
    "## Data\n",
    "\n",
    "First we generate some data, e.b. 10 datapoints for training and 10 for validation. We are going to store the data as follows:\n",
    "\n",
    "* `x_train`:\n",
    "$\n",
    "\\vec x_{train} = (x^{(1)},x^{(2)}, \\dots x^{(10)})\n",
    "$\n",
    "* `x_test`:\n",
    "$\n",
    "\\vec x_{test} = (\\hat x^{(1)},\\hat x^{(2)}, \\dots \\hat x^{(10)})\n",
    "$\n",
    "* `y_train`:\n",
    "$\n",
    "\\vec y_{train} = (y^{(1)},y^{(2)}, \\dots y^{(10)})\n",
    "$\n",
    "* `y_test`:\n",
    "$\n",
    "\\vec y_{test} = (\\hat y^{(1)},\\hat y^{(2)}, \\dots \\hat y^{(10)})\n",
    "$\n",
    "\n",
    "<!--\n",
    "As well seperately:\n",
    "\n",
    "* `f_train`:\n",
    "$$\n",
    "f_{train} = \\begin{bmatrix}\n",
    "x^{(1)} & x^{(1)2} & x^{(1)3} \\\\\n",
    "x^{(2)} & x^{(3)2} & x^{(1)3} \\\\\n",
    "\\ldots & \\ldots & \\ldots \\\\\n",
    "x^{(10)} & x^{(10)2} & x^{(10)3}\n",
    "\\end{bmatrix}\n",
    "$$\n",
    "* `f_test`:\n",
    "$$\n",
    "f_{test} = \\begin{bmatrix}\n",
    "\\hat x^{(1)} & \\hat x^{(1)2} & \\hat x^{(1)3} \\\\\n",
    "\\hat x^{(2)} & \\hat x^{(3)2} & \\hat x^{(1)3} \\\\\n",
    "\\ldots & \\ldots & \\ldots \\\\\n",
    "\\hat x^{(10)} & \\hat x^{(10)2} & \\hat x^{(10)3}\n",
    "\\end{bmatrix}\n",
    "$$\n",
    "-->\n",
    "\n",
    "To generate the $y$ values, we use the variable (to us unknown values!!!)\n",
    "* `w`:\n",
    "$\n",
    "\\vec w = (w_0, w_1, w_2, w_3)\n",
    "$, including the bias $b=w_0$\n",
    "\n",
    "We then can generate our $y$ values (train and test) with:\n",
    "$$\n",
    "y^{(i)} = b + w_1 x^{(i)}+ w_1 x^{(i)2}+ w_3 x^{(i)3} + \\mathcal N(\\mu=0, \\sigma=2.5)\n",
    "$$\n"
   ]
  },
  {
   "cell_type": "code",
   "execution_count": null,
   "metadata": {},
   "outputs": [],
   "source": [
    "np.random.seed(4200)"
   ]
  },
  {
   "cell_type": "code",
   "execution_count": null,
   "metadata": {},
   "outputs": [],
   "source": [
    "noise_mean = 0.\n",
    "noise_scale = 2.5\n",
    "num_examples = 10\n",
    "N = num_examples  # number of data points"
   ]
  },
  {
   "cell_type": "code",
   "execution_count": null,
   "metadata": {},
   "outputs": [],
   "source": [
    "def polynom(x, w):\n",
    "    order = w.shape[0]\n",
    "    x_poly = np.array([x**i for i in range(order)]).T\n",
    "    y = np.dot(x_poly, w) \n",
    "    return x_poly, y"
   ]
  },
  {
   "cell_type": "code",
   "execution_count": null,
   "metadata": {},
   "outputs": [],
   "source": [
    "def get_toy_data(nb_data, w, noise_mean, noise_scale):\n",
    "    x = np.random.uniform(-8.0, 9.0, size=nb_data)\n",
    "    x_poly, y_ = polynom(x, w)\n",
    "    y = y_ + np.random.normal(noise_mean, noise_scale, size=nb_data)\n",
    "    return np.float32(x), np.float32(y)"
   ]
  },
  {
   "cell_type": "code",
   "execution_count": null,
   "metadata": {},
   "outputs": [],
   "source": [
    "### w = (bias, w1, w2, w3)\n",
    "w = np.array([9., 3., 0.1, -0.08])\n",
    "x_train, y_train = get_toy_data(N, w, noise_mean, noise_scale)\n",
    "x_test, y_test = get_toy_data(N, w, noise_mean, noise_scale)"
   ]
  },
  {
   "cell_type": "code",
   "execution_count": null,
   "metadata": {},
   "outputs": [],
   "source": [
    "### Plot train / test data\n",
    "plt.plot(x_train, y_train, \"bo\", label=\"training data\")\n",
    "plt.plot(x_test, y_test, \"ro\", label=\"test data\")\n",
    "\n",
    "### Plot ground truth\n",
    "x_ = np.arange(-8.0, 9.0, 0.01)\n",
    "_, y_ = polynom(x_, w)\n",
    "plt.plot(x_, y_, label='ground truth without noise')\n",
    "\n",
    "plt.xlabel('x')\n",
    "plt.ylabel('y')\n",
    "plt.title('Train and Test data')\n",
    "plt.legend()"
   ]
  },
  {
   "cell_type": "code",
   "execution_count": null,
   "metadata": {},
   "outputs": [],
   "source": [
    "grad_of_fit_polynom = 3"
   ]
  },
  {
   "cell_type": "code",
   "execution_count": null,
   "metadata": {},
   "outputs": [],
   "source": [
    "num_features = grad_of_fit_polynom  # number of features"
   ]
  },
  {
   "cell_type": "markdown",
   "metadata": {},
   "source": [
    "## Exercises\n",
    "\n",
    "### Pytorch Regression Model\n",
    "\n",
    "**Task:**\n",
    "\n",
    "Our goal is to learn the values for $\\vec w = (w_1, w_2, w_3)$ and the bias $b$. \n",
    "\n",
    "For this purpose your first task is to implement the `RegressionModel` class extending `torch.nn.Module` with pytorch, which calculates:\n",
    "\n",
    "$$\n",
    "\\vec y = \\vec w X^T + b\n",
    "$$, with \n",
    "\n",
    "* $\\vec w = (w_1, w_2, w_3)$\n",
    "* and $X = $\n",
    "\n",
    "$$\\begin{bmatrix}\n",
    "x^{(1)} & x^{(1)2} & x^{(1)3} \\\\\n",
    "x^{(2)} & x^{(3)2} & x^{(1)3} \\\\\n",
    "\\ldots & \\ldots & \\ldots \\\\\n",
    "x^{(10)} & x^{(10)2} & x^{(10)3}\n",
    "\\end{bmatrix}\n",
    "$$\n",
    "\n",
    "**Hint:**\n",
    "\n",
    "You can use pytorchs `nn.Linear` class, which initializes wheights and bias internally."
   ]
  },
  {
   "cell_type": "code",
   "execution_count": null,
   "metadata": {},
   "outputs": [],
   "source": [
    "### NN with one linear layer\n",
    "class RegressionModel(nn.Module):\n",
    "    def __init__(self, num_features):\n",
    "        super(RegressionModel, self).__init__()\n",
    "        ##################################\n",
    "        ### TODO: Initialize nn.Linear ###\n",
    "        ##################################\n",
    "\n",
    "    def forward(self, x):\n",
    "        ##########################################\n",
    "        ### TODO: Calc and return forward pass ###\n",
    "        ##########################################\n",
    "        \n",
    "        return"
   ]
  },
  {
   "cell_type": "code",
   "execution_count": null,
   "metadata": {},
   "outputs": [],
   "source": [
    "regression_model = RegressionModel(grad_of_fit_polynom)"
   ]
  },
  {
   "cell_type": "markdown",
   "metadata": {},
   "source": [
    "The following cell should output something similar to the following (though with different values of course, since they are initialized randomly):\n",
    "```\n",
    "linear.weight tensor([[ 0.1868, -0.1874,  0.3968]])\n",
    "linear.bias tensor([-0.0651])\n",
    "```"
   ]
  },
  {
   "cell_type": "code",
   "execution_count": null,
   "metadata": {},
   "outputs": [],
   "source": [
    "for name, param in regression_model.named_parameters():\n",
    "    if param.requires_grad:\n",
    "        print (name, param.data)"
   ]
  },
  {
   "cell_type": "markdown",
   "metadata": {},
   "source": [
    "### Probabilistic Model\n",
    "\n",
    "#### Pyro model\n",
    "\n",
    "In this section we define the probabilistic model with pytorch and pyro. Read the cells carefully and try to understand the code."
   ]
  },
  {
   "cell_type": "code",
   "execution_count": null,
   "metadata": {},
   "outputs": [],
   "source": [
    "# we use this to on noise (~Normal) to be always positive\n",
    "softplus = torch.nn.Softplus()"
   ]
  },
  {
   "cell_type": "code",
   "execution_count": null,
   "metadata": {},
   "outputs": [],
   "source": [
    "def model(data):\n",
    "    # Create normal priors over the parameters with high variance (10.)\n",
    "    w_loc = torch.zeros((1, grad_of_fit_polynom))\n",
    "    w_scale = torch.ones((1, grad_of_fit_polynom)) * 10.\n",
    "    b_loc = torch.zeros(1)\n",
    "    b_scale = torch.ones(1) * 10.\n",
    "    nl_loc = torch.zeros(1)\n",
    "    nl_scale = torch.ones(1) * 10.\n",
    "    \n",
    "    w_prior = Normal(w_loc, w_scale).independent(2)\n",
    "    b_prior = Normal(b_loc, b_scale).independent(1) \n",
    "    noise_level_prior = softplus(pyro.sample(\"noise_level\", Normal(nl_loc, nl_scale)))\n",
    "    \n",
    "    # these must be the names of the model\n",
    "    priors = {'linear.weight': w_prior, 'linear.bias': b_prior}\n",
    "    # lift module parameters to random variables sampled from the priors\n",
    "    lifted_module = pyro.random_module(\"module\", regression_model, priors)\n",
    "    # sample a regressor (which also samples w and b)\n",
    "    lifted_reg_model = lifted_module()\n",
    "    \n",
    "    with pyro.iarange(\"map\", N):\n",
    "        # all columns except the last are x, x^2, x^3\n",
    "        x_data = data[:, :-1]\n",
    "        # last column is y\n",
    "        y_data = data[:, -1]\n",
    "\n",
    "        # run the regressor forward conditioned on data\n",
    "        prediction_mean = lifted_reg_model(x_data).squeeze(-1)\n",
    "        \n",
    "        pyro.sample(\"obs\", Normal(prediction_mean, \n",
    "                                  noise_level_prior * torch.ones(data.size(0))), obs=y_data)  \n"
   ]
  },
  {
   "cell_type": "markdown",
   "metadata": {},
   "source": [
    "#### Pyro guide\n",
    "\n",
    "**Task:**\n",
    "\n",
    "Implement the `guide` to fit the models implementation\n",
    "\n",
    "**Hint:**\n",
    "\n",
    "Use `softplus` on parameters, which may not become negative\n"
   ]
  },
  {
   "cell_type": "code",
   "execution_count": null,
   "metadata": {
    "slideshow": {
     "slide_type": "-"
    }
   },
   "outputs": [],
   "source": [
    "def guide(data):\n",
    "    ############\n",
    "    ### TODO ###\n",
    "    ############\n",
    "    \n",
    "    return"
   ]
  },
  {
   "cell_type": "markdown",
   "metadata": {},
   "source": [
    "#### Perform Inference\n",
    "\n",
    "Now that our `model` and `guide` is defined, we can do stochastic variational inference."
   ]
  },
  {
   "cell_type": "code",
   "execution_count": null,
   "metadata": {},
   "outputs": [],
   "source": [
    "jit = False\n",
    "\n",
    "pyro.clear_param_store()\n",
    "\n",
    "### enhance feature x with polynomial\n",
    "x_poly = np.array([x_train**i for i in range(1,grad_of_fit_polynom+1)], np.float32)\n",
    "print(x_poly.T.shape)\n",
    "data_ = np.concatenate([x_poly.T, y_train.reshape(-1,1)],  axis=1)\n",
    "print(data_.shape)\n",
    "\n",
    "data = torch.tensor(data_, dtype=torch.float32)\n",
    "\n",
    "### make tensors and modules CUDA\n",
    "#data = data.cuda()\n",
    "#softplus.cuda()\n",
    "#regression_model.cuda()\n",
    "        \n",
    "adam_params = {\"lr\": 0.05, \"betas\": (0.95, 0.999)}\n",
    "optim = Adam(adam_params)\n",
    "elbo = JitTrace_ELBO() if jit else Trace_ELBO()\n",
    "svi = SVI(model, guide, optim, loss=elbo)"
   ]
  },
  {
   "cell_type": "code",
   "execution_count": null,
   "metadata": {},
   "outputs": [],
   "source": [
    "num_epochs = 5000 \n",
    "avg_loss = 0\n",
    "losses = []\n",
    "for j in range(num_epochs):\n",
    "    epoch_loss = svi.step(data)\n",
    "    losses.append(epoch_loss)\n",
    "    if j % 100 == 0:\n",
    "        print(\"epoch avg loss {}\".format(epoch_loss/float(N)))\n",
    "        avg_loss = 0"
   ]
  },
  {
   "cell_type": "markdown",
   "metadata": {},
   "source": [
    "### Evaluation / Visualization\n",
    "\n",
    "#### Costs\n",
    "\n",
    "Most easy thing to do is visualize our costs."
   ]
  },
  {
   "cell_type": "code",
   "execution_count": null,
   "metadata": {},
   "outputs": [],
   "source": [
    "plt.plot(losses)\n",
    "plt.title(\"ELBO\")\n",
    "plt.xlabel(\"step\")\n",
    "plt.ylabel(\"loss\");"
   ]
  },
  {
   "cell_type": "markdown",
   "metadata": {},
   "source": [
    "Next we can compare the values we found for the mean $\\mu$ of our model parameters $\\vec w \\sim \\mathcal N(\\mu_w,\\sigma_w)$ and the bias $b \\sim \\mathcal N(\\mu_b,\\sigma_b)$ with the values we used in our data generation process.\n",
    "\n",
    "And also of course the $\\mu$ and $\\sigma$ of our $noise \\sim \\mathcal N(\\mu_{noise},\\sigma_{noise})$."
   ]
  },
  {
   "cell_type": "code",
   "execution_count": null,
   "metadata": {},
   "outputs": [],
   "source": [
    "mw_param = pyro.param(\"guide_mean_weight\")\n",
    "sw_param = pyro.param(\"guide_log_scale_weight\")\n",
    "print(mw_param.detach().numpy())\n",
    "print(w[1:])"
   ]
  },
  {
   "cell_type": "code",
   "execution_count": null,
   "metadata": {},
   "outputs": [],
   "source": [
    "mb_param = pyro.param(\"guide_mean_bias\")\n",
    "sb_param = pyro.param(\"guide_log_scale_bias\")\n",
    "print(mb_param.detach().numpy())\n",
    "print(w[0])"
   ]
  },
  {
   "cell_type": "code",
   "execution_count": null,
   "metadata": {},
   "outputs": [],
   "source": [
    "noise_mean_param = softplus(pyro.param(\"guide_log_mean_noise_level\"))\n",
    "noise_sigma_param = softplus(pyro.param(\"guide_log_sigma_noise_level\"))\n",
    "print(noise_mean_param.detach().numpy())\n",
    "print(noise_sigma_param.detach().numpy())\n",
    "print(noise_mean)\n",
    "print(noise_scale)"
   ]
  },
  {
   "cell_type": "markdown",
   "metadata": {},
   "source": [
    "#### Possible Models\n",
    "\n",
    "Using $\\mu_w$ and $\\mu_b$ we could easily plot the most likely model. But for this purpose we would not have needed bayesian inference and could just have used the frequentist approach.\n",
    "\n",
    "**Task:**\n",
    "\n",
    "Use $\\mu_w$ and $\\mu_b$ in conjunction with $\\sigma_w$ and $\\sigma_b$ to sample, let's say 50, possible $\\vec w$s and $b$s and plot the corresponding models together with the ground truth and the most likely model.\n",
    "\n",
    "The result should look somewhat similar to the following:\n",
    "\n",
    "<img src=\"https://gitlab.com/deep.TEACHING/educational-materials/raw/master/media/klaus/pyro_poly_regression.png\" alt=\"internet connection needed\">\n",
    "\n",
    "**Hint:**\n",
    "\n",
    "You do not have to use pyro or pytorch to sample. Just use the according numpy function to draw samples from a normal distribution.\n",
    "\n",
    "\n"
   ]
  },
  {
   "cell_type": "code",
   "execution_count": null,
   "metadata": {},
   "outputs": [],
   "source": [
    "######################\n",
    "### Your code here ###\n",
    "######################"
   ]
  },
  {
   "cell_type": "markdown",
   "metadata": {},
   "source": [
    "### Additional Exercise\n",
    "\n",
    "Which of the models works best with the test data `x_test` and `y_test`? Is it the most likely one?"
   ]
  },
  {
   "cell_type": "markdown",
   "metadata": {
    "slideshow": {
     "slide_type": "-"
    }
   },
   "source": [
    "## Licenses\n",
    "\n",
    "### Notebook License (CC-BY-SA 4.0)\n",
    "\n",
    "*The following license applies to the complete notebook, including code cells. It does however not apply to any referenced external media (e.g., images).*\n",
    "\n",
    "Exercise - Pyro Polynomial Regression <br/>\n",
    "by Christian Herta<br/>\n",
    "is licensed under a [Creative Commons Attribution-ShareAlike 4.0 International License](http://creativecommons.org/licenses/by-sa/4.0/).<br/>\n",
    "Based on a work at https://gitlab.com/deep.TEACHING.\n",
    "\n",
    "\n",
    "### Code License (MIT)\n",
    "\n",
    "*The following license only applies to code cells of the notebook.*\n",
    "\n",
    "Copyright 2019 Christian Herta\n",
    "\n",
    "Permission is hereby granted, free of charge, to any person obtaining a copy of this software and associated documentation files (the \"Software\"), to deal in the Software without restriction, including without limitation the rights to use, copy, modify, merge, publish, distribute, sublicense, and/or sell copies of the Software, and to permit persons to whom the Software is furnished to do so, subject to the following conditions:\n",
    "\n",
    "The above copyright notice and this permission notice shall be included in all copies or substantial portions of the Software.\n",
    "\n",
    "THE SOFTWARE IS PROVIDED \"AS IS\", WITHOUT WARRANTY OF ANY KIND, EXPRESS OR IMPLIED, INCLUDING BUT NOT LIMITED TO THE WARRANTIES OF MERCHANTABILITY, FITNESS FOR A PARTICULAR PURPOSE AND NONINFRINGEMENT. IN NO EVENT SHALL THE AUTHORS OR COPYRIGHT HOLDERS BE LIABLE FOR ANY CLAIM, DAMAGES OR OTHER LIABILITY, WHETHER IN AN ACTION OF CONTRACT, TORT OR OTHERWISE, ARISING FROM, OUT OF OR IN CONNECTION WITH THE SOFTWARE OR THE USE OR OTHER DEALINGS IN THE SOFTWARE."
   ]
  },
  {
   "cell_type": "code",
   "execution_count": null,
   "metadata": {},
   "outputs": [],
   "source": []
  }
 ],
 "metadata": {
  "celltoolbar": "Slideshow",
  "kernelspec": {
   "display_name": "Python 3",
   "language": "python",
   "name": "python3"
  },
  "language_info": {
   "codemirror_mode": {
    "name": "ipython",
    "version": 3
   },
   "file_extension": ".py",
   "mimetype": "text/x-python",
   "name": "python",
   "nbconvert_exporter": "python",
   "pygments_lexer": "ipython3",
   "version": "3.7.3"
  }
 },
 "nbformat": 4,
 "nbformat_minor": 4
}
