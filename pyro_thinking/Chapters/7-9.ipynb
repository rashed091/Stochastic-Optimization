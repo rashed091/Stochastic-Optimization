{
 "cells": [
  {
   "cell_type": "code",
   "execution_count": 1,
   "metadata": {},
   "outputs": [],
   "source": [
    "%matplotlib inline\n",
    "import matplotlib.pyplot as plt\n",
    "import seaborn as sns\n",
    "import pandas as pd\n",
    "import numpy as np\n",
    "import statsmodels.api as sm\n",
    "from scipy import stats\n",
    "\n",
    "import torch\n",
    "import pyro\n",
    "from pyro import distributions as dist\n",
    "from pyro.infer.mcmc import NUTS, MCMC\n",
    "from pyro.infer.abstract_infer import EmpiricalMarginal, TracePredictive"
   ]
  },
  {
   "cell_type": "code",
   "execution_count": 2,
   "metadata": {},
   "outputs": [],
   "source": [
    "data = pd.read_csv(\"input/data-outlier.txt\")"
   ]
  },
  {
   "cell_type": "code",
   "execution_count": 3,
   "metadata": {},
   "outputs": [
    {
     "data": {
      "text/html": [
       "<div>\n",
       "<style scoped>\n",
       "    .dataframe tbody tr th:only-of-type {\n",
       "        vertical-align: middle;\n",
       "    }\n",
       "\n",
       "    .dataframe tbody tr th {\n",
       "        vertical-align: top;\n",
       "    }\n",
       "\n",
       "    .dataframe thead th {\n",
       "        text-align: right;\n",
       "    }\n",
       "</style>\n",
       "<table border=\"1\" class=\"dataframe\">\n",
       "  <thead>\n",
       "    <tr style=\"text-align: right;\">\n",
       "      <th></th>\n",
       "      <th>X</th>\n",
       "      <th>Y</th>\n",
       "    </tr>\n",
       "  </thead>\n",
       "  <tbody>\n",
       "    <tr>\n",
       "      <th>0</th>\n",
       "      <td>1</td>\n",
       "      <td>3.4</td>\n",
       "    </tr>\n",
       "    <tr>\n",
       "      <th>1</th>\n",
       "      <td>2</td>\n",
       "      <td>8.2</td>\n",
       "    </tr>\n",
       "    <tr>\n",
       "      <th>2</th>\n",
       "      <td>3</td>\n",
       "      <td>40.0</td>\n",
       "    </tr>\n",
       "    <tr>\n",
       "      <th>3</th>\n",
       "      <td>4</td>\n",
       "      <td>17.6</td>\n",
       "    </tr>\n",
       "    <tr>\n",
       "      <th>4</th>\n",
       "      <td>5</td>\n",
       "      <td>20.3</td>\n",
       "    </tr>\n",
       "    <tr>\n",
       "      <th>5</th>\n",
       "      <td>6</td>\n",
       "      <td>23.2</td>\n",
       "    </tr>\n",
       "    <tr>\n",
       "      <th>6</th>\n",
       "      <td>7</td>\n",
       "      <td>28.5</td>\n",
       "    </tr>\n",
       "    <tr>\n",
       "      <th>7</th>\n",
       "      <td>8</td>\n",
       "      <td>32.7</td>\n",
       "    </tr>\n",
       "    <tr>\n",
       "      <th>8</th>\n",
       "      <td>9</td>\n",
       "      <td>36.6</td>\n",
       "    </tr>\n",
       "    <tr>\n",
       "      <th>9</th>\n",
       "      <td>10</td>\n",
       "      <td>39.7</td>\n",
       "    </tr>\n",
       "  </tbody>\n",
       "</table>\n",
       "</div>"
      ],
      "text/plain": [
       "    X     Y\n",
       "0   1   3.4\n",
       "1   2   8.2\n",
       "2   3  40.0\n",
       "3   4  17.6\n",
       "4   5  20.3\n",
       "5   6  23.2\n",
       "6   7  28.5\n",
       "7   8  32.7\n",
       "8   9  36.6\n",
       "9  10  39.7"
      ]
     },
     "execution_count": 3,
     "metadata": {},
     "output_type": "execute_result"
    }
   ],
   "source": [
    "data"
   ]
  },
  {
   "cell_type": "code",
   "execution_count": 4,
   "metadata": {},
   "outputs": [
    {
     "data": {
      "text/plain": [
       "<matplotlib.axes._subplots.AxesSubplot at 0x134b5c470>"
      ]
     },
     "execution_count": 4,
     "metadata": {},
     "output_type": "execute_result"
    },
    {
     "data": {
      "image/png": "[encoded data removed]",
      "text/plain": [
       "<Figure size 432x288 with 1 Axes>"
      ]
     },
     "metadata": {
      "needs_background": "light"
     },
     "output_type": "display_data"
    }
   ],
   "source": [
    "data.plot(kind='scatter', x=\"X\", y=\"Y\")"
   ]
  },
  {
   "cell_type": "code",
   "execution_count": 5,
   "metadata": {},
   "outputs": [],
   "source": [
    "X = torch.tensor(data.X).float()\n",
    "Y = torch.tensor(data.Y).float()"
   ]
  },
  {
   "cell_type": "markdown",
   "metadata": {},
   "source": [
    "## モデル式\n",
    "\n",
    "普通の単回帰\n",
    "\n",
    "$Y[n] \\sim Normal(a+b  X[n], \\sigma)$"
   ]
  },
  {
   "cell_type": "code",
   "execution_count": 6,
   "metadata": {},
   "outputs": [],
   "source": [
    "def model_normal(X, Y):\n",
    "    a = pyro.sample(\"a\", dist.Normal(0, 100))\n",
    "    b = pyro.sample(\"b\", dist.Normal(0, 100))\n",
    "    sigma = pyro.sample(\"sigma\", dist.Uniform(0, 100))\n",
    "    \n",
    "    mu = a + b * X\n",
    "    with pyro.plate(\"data\", len(X)):\n",
    "        pyro.sample(\"obs\", dist.Normal(mu, sigma), obs=Y)"
   ]
  },
  {
   "cell_type": "code",
   "execution_count": 7,
   "metadata": {},
   "outputs": [
    {
     "data": {
      "application/vnd.jupyter.widget-view+json": {
       "model_id": "9c1b04c9e77d4151ac60d82b12f64305",
       "version_major": 2,
       "version_minor": 0
      },
      "text/plain": [
       "HBox(children=(IntProgress(value=0, description='Warmup [1]', max=3000, style=ProgressStyle(description_width=…"
      ]
     },
     "metadata": {},
     "output_type": "display_data"
    },
    {
     "data": {
      "application/vnd.jupyter.widget-view+json": {
       "model_id": "adb7a736a69f4bad9bb96bb306b7dc87",
       "version_major": 2,
       "version_minor": 0
      },
      "text/plain": [
       "HBox(children=(IntProgress(value=0, description='Warmup [2]', max=3000, style=ProgressStyle(description_width=…"
      ]
     },
     "metadata": {},
     "output_type": "display_data"
    },
    {
     "data": {
      "application/vnd.jupyter.widget-view+json": {
       "model_id": "54c5f2f69b6646a891a298826d2dddef",
       "version_major": 2,
       "version_minor": 0
      },
      "text/plain": [
       "HBox(children=(IntProgress(value=0, description='Warmup [3]', max=3000, style=ProgressStyle(description_width=…"
      ]
     },
     "metadata": {},
     "output_type": "display_data"
    },
    {
     "data": {
      "application/vnd.jupyter.widget-view+json": {
       "model_id": "1204b1d921c1487ab95f1a499602d97b",
       "version_major": 2,
       "version_minor": 0
      },
      "text/plain": [
       "HBox(children=(IntProgress(value=0, description='Warmup [4]', max=3000, style=ProgressStyle(description_width=…"
      ]
     },
     "metadata": {},
     "output_type": "display_data"
    }
   ],
   "source": [
    "kernel = NUTS(model_normal, adapt_step_size=True, jit_compile=True, ignore_jit_warnings=True)\n",
    "posterior = MCMC(kernel, num_chains=4, num_samples=1000, warmup_steps=2000).run(X, Y)"
   ]
  },
  {
   "cell_type": "code",
   "execution_count": 8,
   "metadata": {},
   "outputs": [],
   "source": [
    "sites = [\"a\", \"b\", \"sigma\"]\n",
    "marginal = pd.DataFrame(EmpiricalMarginal(posterior, sites)._get_samples_and_weights()[0].reshape(-1, len(sites)).numpy(), columns=sites)"
   ]
  },
  {
   "cell_type": "code",
   "execution_count": 9,
   "metadata": {},
   "outputs": [
    {
     "data": {
      "text/html": [
       "<div>\n",
       "<style scoped>\n",
       "    .dataframe tbody tr th:only-of-type {\n",
       "        vertical-align: middle;\n",
       "    }\n",
       "\n",
       "    .dataframe tbody tr th {\n",
       "        vertical-align: top;\n",
       "    }\n",
       "\n",
       "    .dataframe thead th {\n",
       "        text-align: right;\n",
       "    }\n",
       "</style>\n",
       "<table border=\"1\" class=\"dataframe\">\n",
       "  <thead>\n",
       "    <tr style=\"text-align: right;\">\n",
       "      <th></th>\n",
       "      <th>0.025</th>\n",
       "      <th>0.25</th>\n",
       "      <th>0.5</th>\n",
       "      <th>0.75</th>\n",
       "      <th>0.975</th>\n",
       "    </tr>\n",
       "  </thead>\n",
       "  <tbody>\n",
       "    <tr>\n",
       "      <th>a</th>\n",
       "      <td>-7.739239</td>\n",
       "      <td>2.792595</td>\n",
       "      <td>7.438158</td>\n",
       "      <td>12.027504</td>\n",
       "      <td>22.683473</td>\n",
       "    </tr>\n",
       "    <tr>\n",
       "      <th>b</th>\n",
       "      <td>0.669255</td>\n",
       "      <td>2.453828</td>\n",
       "      <td>3.212077</td>\n",
       "      <td>3.945361</td>\n",
       "      <td>5.600649</td>\n",
       "    </tr>\n",
       "    <tr>\n",
       "      <th>sigma</th>\n",
       "      <td>6.424147</td>\n",
       "      <td>8.349936</td>\n",
       "      <td>9.955454</td>\n",
       "      <td>12.261364</td>\n",
       "      <td>18.852946</td>\n",
       "    </tr>\n",
       "  </tbody>\n",
       "</table>\n",
       "</div>"
      ],
      "text/plain": [
       "          0.025     0.250     0.500      0.750      0.975\n",
       "a     -7.739239  2.792595  7.438158  12.027504  22.683473\n",
       "b      0.669255  2.453828  3.212077   3.945361   5.600649\n",
       "sigma  6.424147  8.349936  9.955454  12.261364  18.852946"
      ]
     },
     "execution_count": 9,
     "metadata": {},
     "output_type": "execute_result"
    }
   ],
   "source": [
    "marginal.quantile([0.025, 0.25, 0.5, 0.75, 0.975]).T"
   ]
  },
  {
   "cell_type": "code",
   "execution_count": 10,
   "metadata": {},
   "outputs": [
    {
     "data": {
      "text/plain": [
       "<matplotlib.axes._subplots.AxesSubplot at 0x13d644400>"
      ]
     },
     "execution_count": 10,
     "metadata": {},
     "output_type": "execute_result"
    },
    {
     "data": {
      "image/png": "[encoded data removed]",
      "text/plain": [
       "<Figure size 432x288 with 1 Axes>"
      ]
     },
     "metadata": {
      "needs_background": "light"
     },
     "output_type": "display_data"
    }
   ],
   "source": [
    "marginal.sigma.plot()"
   ]
  },
  {
   "cell_type": "code",
   "execution_count": 16,
   "metadata": {},
   "outputs": [],
   "source": [
    "def pred_model_normal(X):\n",
    "    a = pyro.sample(\"a\", dist.Normal(0, 100))\n",
    "    b = pyro.sample(\"b\", dist.Normal(0, 100))\n",
    "    sigma = pyro.sample(\"sigma\", dist.Uniform(0, 100))\n",
    "    \n",
    "    mu = a + b * X\n",
    "    pyro.sample(\"y\", dist.Normal(mu, sigma))\n",
    "predictive = TracePredictive(pred_model_normal, posterior, num_samples=1000).run(torch.arange(0, 12).float())\n",
    "pred_samples = pd.DataFrame(EmpiricalMarginal(predictive, \"y\")._get_samples_and_weights()[0].numpy())"
   ]
  },
  {
   "cell_type": "code",
   "execution_count": 18,
   "metadata": {},
   "outputs": [
    {
     "data": {
      "text/plain": [
       "<matplotlib.collections.PolyCollection at 0x13b3ddda0>"
      ]
     },
     "execution_count": 18,
     "metadata": {},
     "output_type": "execute_result"
    },
    {
     "data": {
      "image/png": "[encoded data removed]",
      "text/plain": [
       "<Figure size 432x288 with 1 Axes>"
      ]
     },
     "metadata": {
      "needs_background": "light"
     },
     "output_type": "display_data"
    }
   ],
   "source": [
    "data.plot(kind='scatter', x=\"X\", y=\"Y\")\n",
    "plt.plot(np.arange(0, 12), pred_samples.mean(0).values)\n",
    "plt.fill_between(np.arange(0, 12), pred_samples.quantile(0.1).values, pred_samples.quantile(0.9).values, color='blue', alpha=0.1)\n",
    "plt.fill_between(np.arange(0, 12), pred_samples.quantile(0.25).values, pred_samples.quantile(0.75).values, color='blue', alpha=0.2)"
   ]
  },
  {
   "cell_type": "markdown",
   "metadata": {},
   "source": [
    "## モデル式\n",
    "\n",
    "外れ値を考慮\n",
    "\n",
    "$Y[n] \\sim Cauchy(a+b  X[n], \\sigma)$"
   ]
  },
  {
   "cell_type": "code",
   "execution_count": 6,
   "metadata": {},
   "outputs": [],
   "source": [
    "def model_cauchy(X, Y):\n",
    "    a = pyro.sample(\"a\", dist.Normal(0, 100))\n",
    "    b = pyro.sample(\"b\", dist.Normal(0, 100))\n",
    "    sigma = pyro.sample(\"sigma\", dist.Uniform(0, 100))\n",
    "    \n",
    "    mu = a + b * X\n",
    "    with pyro.plate(\"data\", len(X)):\n",
    "        pyro.sample(\"obs\", dist.Cauchy(mu, sigma), obs=Y)"
   ]
  },
  {
   "cell_type": "code",
   "execution_count": 16,
   "metadata": {},
   "outputs": [
    {
     "data": {
      "application/vnd.jupyter.widget-view+json": {
       "model_id": "6a2a8d059c094c92b668459b82ebd5ea",
       "version_major": 2,
       "version_minor": 0
      },
      "text/plain": [
       "HBox(children=(IntProgress(value=0, description='Warmup [1]', max=4000, style=ProgressStyle(description_width=…"
      ]
     },
     "metadata": {},
     "output_type": "display_data"
    },
    {
     "data": {
      "application/vnd.jupyter.widget-view+json": {
       "model_id": "78aed92bba834f049ba94700eeecc580",
       "version_major": 2,
       "version_minor": 0
      },
      "text/plain": [
       "HBox(children=(IntProgress(value=0, description='Warmup [2]', max=4000, style=ProgressStyle(description_width=…"
      ]
     },
     "metadata": {},
     "output_type": "display_data"
    },
    {
     "data": {
      "application/vnd.jupyter.widget-view+json": {
       "model_id": "d1232b55dc394b59b2962f26da825ac7",
       "version_major": 2,
       "version_minor": 0
      },
      "text/plain": [
       "HBox(children=(IntProgress(value=0, description='Warmup [3]', max=4000, style=ProgressStyle(description_width=…"
      ]
     },
     "metadata": {},
     "output_type": "display_data"
    },
    {
     "data": {
      "application/vnd.jupyter.widget-view+json": {
       "model_id": "9db1ed4c8bd245b58b3873b58a6e7979",
       "version_major": 2,
       "version_minor": 0
      },
      "text/plain": [
       "HBox(children=(IntProgress(value=0, description='Warmup [4]', max=4000, style=ProgressStyle(description_width=…"
      ]
     },
     "metadata": {},
     "output_type": "display_data"
    }
   ],
   "source": [
    "kernel_cauchy = NUTS(model_cauchy, adapt_step_size=True, jit_compile=True, ignore_jit_warnings=True)\n",
    "posterior_cauchy = MCMC(kernel_cauchy, num_chains=4, num_samples=1000, warmup_steps=3000).run(X, Y)"
   ]
  },
  {
   "cell_type": "code",
   "execution_count": 17,
   "metadata": {},
   "outputs": [],
   "source": [
    "sites = [\"a\", \"b\", \"sigma\"]\n",
    "marginal_cauchy = pd.DataFrame(EmpiricalMarginal(posterior_cauchy, sites)._get_samples_and_weights()[0].reshape(-1, len(sites)).numpy(), columns=sites)"
   ]
  },
  {
   "cell_type": "code",
   "execution_count": 18,
   "metadata": {},
   "outputs": [
    {
     "data": {
      "text/html": [
       "<div>\n",
       "<style scoped>\n",
       "    .dataframe tbody tr th:only-of-type {\n",
       "        vertical-align: middle;\n",
       "    }\n",
       "\n",
       "    .dataframe tbody tr th {\n",
       "        vertical-align: top;\n",
       "    }\n",
       "\n",
       "    .dataframe thead th {\n",
       "        text-align: right;\n",
       "    }\n",
       "</style>\n",
       "<table border=\"1\" class=\"dataframe\">\n",
       "  <thead>\n",
       "    <tr style=\"text-align: right;\">\n",
       "      <th></th>\n",
       "      <th>0.025</th>\n",
       "      <th>0.25</th>\n",
       "      <th>0.5</th>\n",
       "      <th>0.75</th>\n",
       "      <th>0.975</th>\n",
       "    </tr>\n",
       "  </thead>\n",
       "  <tbody>\n",
       "    <tr>\n",
       "      <th>a</th>\n",
       "      <td>-1.336640</td>\n",
       "      <td>-0.461577</td>\n",
       "      <td>-0.055157</td>\n",
       "      <td>0.414030</td>\n",
       "      <td>1.995874</td>\n",
       "    </tr>\n",
       "    <tr>\n",
       "      <th>b</th>\n",
       "      <td>3.770623</td>\n",
       "      <td>3.981071</td>\n",
       "      <td>4.059784</td>\n",
       "      <td>4.122577</td>\n",
       "      <td>4.260530</td>\n",
       "    </tr>\n",
       "    <tr>\n",
       "      <th>sigma</th>\n",
       "      <td>0.223366</td>\n",
       "      <td>0.469361</td>\n",
       "      <td>0.661475</td>\n",
       "      <td>0.929945</td>\n",
       "      <td>1.833240</td>\n",
       "    </tr>\n",
       "  </tbody>\n",
       "</table>\n",
       "</div>"
      ],
      "text/plain": [
       "          0.025     0.250     0.500     0.750     0.975\n",
       "a     -1.336640 -0.461577 -0.055157  0.414030  1.995874\n",
       "b      3.770623  3.981071  4.059784  4.122577  4.260530\n",
       "sigma  0.223366  0.469361  0.661475  0.929945  1.833240"
      ]
     },
     "execution_count": 18,
     "metadata": {},
     "output_type": "execute_result"
    }
   ],
   "source": [
    "marginal_cauchy.quantile([0.025, 0.25, 0.5, 0.75, 0.975]).T"
   ]
  },
  {
   "cell_type": "code",
   "execution_count": 24,
   "metadata": {},
   "outputs": [
    {
     "data": {
      "text/plain": [
       "<matplotlib.axes._subplots.AxesSubplot at 0x13539cfd0>"
      ]
     },
     "execution_count": 24,
     "metadata": {},
     "output_type": "execute_result"
    },
    {
     "data": {
      "image/png": "[encoded data removed]",
      "text/plain": [
       "<Figure size 432x288 with 1 Axes>"
      ]
     },
     "metadata": {
      "needs_background": "light"
     },
     "output_type": "display_data"
    }
   ],
   "source": [
    "marginal_cauchy.sigma.plot()"
   ]
  },
  {
   "cell_type": "code",
   "execution_count": 43,
   "metadata": {},
   "outputs": [],
   "source": [
    "def pred_model_cauchy(X):\n",
    "    a = pyro.sample(\"a\", dist.Normal(0, 100))\n",
    "    b = pyro.sample(\"b\", dist.Normal(0, 100))\n",
    "    sigma = pyro.sample(\"sigma\", dist.Uniform(0, 100))\n",
    "    \n",
    "    mu = a + b * X\n",
    "    pyro.sample(\"y\", dist.Cauchy(mu, sigma))\n",
    "predictive_cauchy = TracePredictive(pred_model_cauchy, posterior_cauchy, num_samples=1000).run(torch.arange(0, 12, 0.1).float())\n",
    "pred_samples_cauchy = pd.DataFrame(EmpiricalMarginal(predictive_cauchy, \"y\")._get_samples_and_weights()[0].numpy())"
   ]
  },
  {
   "cell_type": "code",
   "execution_count": 46,
   "metadata": {},
   "outputs": [
    {
     "data": {
      "text/plain": [
       "<matplotlib.collections.PolyCollection at 0x15216b7b8>"
      ]
     },
     "execution_count": 46,
     "metadata": {},
     "output_type": "execute_result"
    },
    {
     "data": {
      "image/png": "[encoded data removed]",
      "text/plain": [
       "<Figure size 432x288 with 1 Axes>"
      ]
     },
     "metadata": {
      "needs_background": "light"
     },
     "output_type": "display_data"
    }
   ],
   "source": [
    "data.plot(kind='scatter', x=\"X\", y=\"Y\")\n",
    "plt.plot(np.arange(0, 12, 0.1), pred_samples_cauchy.quantile(0.5).values)\n",
    "plt.plot(np.arange(0, 12, 0.1), pred_samples_cauchy.mean(0).values)\n",
    "plt.fill_between(np.arange(0, 12, 0.1), pred_samples_cauchy.quantile(0.1).values, pred_samples_cauchy.quantile(0.9).values, color='blue', alpha=0.1)\n",
    "plt.fill_between(np.arange(0, 12, 0.1), pred_samples_cauchy.quantile(0.25).values, pred_samples_cauchy.quantile(0.75).values, color='blue', alpha=0.2)"
   ]
  },
  {
   "cell_type": "code",
   "execution_count": null,
   "metadata": {},
   "outputs": [],
   "source": []
  }
 ],
 "metadata": {
  "kernelspec": {
   "display_name": "Python 3",
   "language": "python",
   "name": "python3"
  },
  "language_info": {
   "codemirror_mode": {
    "name": "ipython",
    "version": 3
   },
   "file_extension": ".py",
   "mimetype": "text/x-python",
   "name": "python",
   "nbconvert_exporter": "python",
   "pygments_lexer": "ipython3",
   "version": "3.7.3"
  }
 },
 "nbformat": 4,
 "nbformat_minor": 2
}
