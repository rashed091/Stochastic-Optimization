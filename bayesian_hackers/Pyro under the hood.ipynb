{
 "cells": [
  {
   "cell_type": "markdown",
   "metadata": {},
   "source": [
    "  <div class=\"abstract\">This note explains stochastic variational inference from the ground up using the Pyro probabilistic programming language. I explore the basics of probabilistic programming and the machinery underlying SVI, such as autodifferentiation, guide functions, and approximating the difference between probability distributions.</div>\n",
    "  <p>This note provides an introduction to probabilistic programming and variational inference using <a href=\"http://pyro.ai/\">Pyro</a>. The Pyro website also has a <a href=\"http://pyro.ai/examples/intro_part_i.html\">great tutorial</a>, but it’s distinctly oriented more towards people with probability backgrounds than systems backgrounds. If you, like me, are good at software engineering and bad at probability (single-letter variables in particular), then this note is for you.</p>\n",
    "\n",
    "<p>The pedagogy here is to use small code samples to run experiments that slowly build intuition for how the system works. The beauty of having a programming language, as opposed to learning from a probability textbook/class, is that we can turn questions into executable programs and see if reality matches our expectations. The ultimate goal is that you will have an end-to-end understanding of variational inference for simple probabilistic inference problems.</p>\n",
    "\n",
    "<p>I highly recommend you follow along in a Jupyter notebook. Tweak parameters, ask questions, and stay engaged! You can use the notebook in the accompanying repository here: <a href=\"https://github.com/willcrichton/pyro-under-the-hood\">https://github.com/willcrichton/pyro-under-the-hood</a></p>\n",
    "\n",
    "<h2 id=\"probabilistic-programs-and-distributions\">Probabilistic programs and distributions</h2>\n",
    "\n",
    "<p>A probabilistic program is a program that samples from probability distributions. For example:</p>"
   ]
  },
  {
   "cell_type": "code",
   "execution_count": 1,
   "metadata": {
    "ExecuteTime": {
     "end_time": "2019-06-11T21:03:42.817360Z",
     "start_time": "2019-06-11T21:03:42.180617Z"
    }
   },
   "outputs": [
    {
     "name": "stdout",
     "output_type": "stream",
     "text": [
      "coinflip tensor(0.)\n",
      "noisy_sample tensor(0.8062)\n"
     ]
    }
   ],
   "source": [
    "import pyro.distributions as dist\n",
    "from pyro import sample\n",
    "from torch import tensor\n",
    "\n",
    "# A fair coin\n",
    "coinflip = sample(\"coinflip\", dist.Bernoulli(probs=0.5))\n",
    "print('coinflip', coinflip)\n",
    "\n",
    "# A noisy sample\n",
    "noisy_sample = sample(\"noisy_sample\", dist.Normal(loc=0, scale=1))\n",
    "print('noisy_sample', noisy_sample)"
   ]
  },
  {
   "cell_type": "markdown",
   "metadata": {},
   "source": [
    "<p>A probability distribution has two key functions: <code class=\"highlighter-rouge\">sample</code>, which returns a single value in accordance with its probability (e.g. above, 0 and 1 are equally likely from the coin flip), and <code class=\"highlighter-rouge\">log_prob</code>, which returns the log probability of a sample under the model.</p>\n",
    "\n",
    "<blockquote>\n",
    "  <p>Aside: Instead of doing <code class=\"highlighter-rouge\">dist.sample</code>, we use <code class=\"highlighter-rouge\">sample(name, dist)</code> for reasons you’ll see in a bit.</p>\n",
    "</blockquote>"
   ]
  },
  {
   "cell_type": "code",
   "execution_count": 2,
   "metadata": {
    "ExecuteTime": {
     "end_time": "2019-06-11T21:03:42.841735Z",
     "start_time": "2019-06-11T21:03:42.819536Z"
    }
   },
   "outputs": [
    {
     "name": "stdout",
     "output_type": "stream",
     "text": [
      "X ~ B(0.5), P(X = 0): 0.50\n",
      "X ~ N(0, 1), P(X = 0.35): 0.38\n"
     ]
    }
   ],
   "source": [
    "# Evaluating probability of values under distributiosn\n",
    "print('X ~ B(0.5), P(X = 0): {:.2f}'.format(\n",
    "    dist.Bernoulli(0.5).log_prob(tensor(0.)).exp()))\n",
    "print('X ~ N(0, 1), P(X = 0.35): {:.2f}'.format(\n",
    "    dist.Normal(0, 1).log_prob(tensor(0.35)).exp()))"
   ]
  },
  {
   "cell_type": "markdown",
   "metadata": {},
   "source": [
    "<p>By sampling from many distributions, we can describe a probabilistic generative model. As a running example, consider this <code class=\"highlighter-rouge\">sleep_model</code> that describes the likely number of hours I’ll sleep on a given day. It generates a single data point by running the function top to bottom as a normal program.</p>"
   ]
  },
  {
   "cell_type": "code",
   "execution_count": 3,
   "metadata": {
    "ExecuteTime": {
     "end_time": "2019-06-11T21:03:42.852778Z",
     "start_time": "2019-06-11T21:03:42.843812Z"
    }
   },
   "outputs": [
    {
     "name": "stdout",
     "output_type": "stream",
     "text": [
      "tensor(8.6401)\n",
      "tensor(8.8105)\n",
      "tensor(9.7322)\n"
     ]
    }
   ],
   "source": [
    "def sleep_model():\n",
    "    # Very likely to feel lazy\n",
    "    feeling_lazy = sample(\"feeling_lazy\", dist.Bernoulli(0.9))\n",
    "    if feeling_lazy:\n",
    "        # Only going to (possibly) ignore my alarm if I'm feeling lazy\n",
    "        ignore_alarm = sample(\"ignore_alarm\", dist.Bernoulli(0.8))\n",
    "        # Will sleep more if I ignore my alarm\n",
    "        amount_slept = sample(\"amount_slept\",\n",
    "                              dist.Normal(8 + 2 * ignore_alarm, 1))\n",
    "    else:\n",
    "        amount_slept = sample(\"amount_slept\", dist.Normal(6, 1))\n",
    "    return amount_slept\n",
    "\n",
    "print(sleep_model())\n",
    "print(sleep_model())\n",
    "print(sleep_model())"
   ]
  },
  {
   "cell_type": "markdown",
   "metadata": {},
   "source": [
    "<blockquote>\n",
    "  <p>Aside: This is called a “generative” model because it has an explicit probabilistic model for every random variable (e.g. the prior on <code class=\"highlighter-rouge\">feeling_lazy</code>). By contrast, a “discriminative” model only tries to model a conditional probabilistic distribution, where given some observations, you predict the distribution over unobserved variables.</p>\n",
    "</blockquote>\n",
    "\n",
    "<p>At this point, our stochastic functions are nothing special, as in they do not need any specialized system or machinery to work. It’s mostly just normal Python. For example, we could implement one of these distributions ourselves:</p>"
   ]
  },
  {
   "cell_type": "code",
   "execution_count": 5,
   "metadata": {
    "ExecuteTime": {
     "end_time": "2019-06-11T21:03:42.866681Z",
     "start_time": "2019-06-11T21:03:42.855947Z"
    }
   },
   "outputs": [
    {
     "name": "stdout",
     "output_type": "stream",
     "text": [
      "x ~ P_b: tensor(0.)\n",
      "P_b(0): tensor(0.2000)\n"
     ]
    }
   ],
   "source": [
    "from random import random\n",
    "\n",
    "class Bernoulli:\n",
    "    def __init__(self, p):\n",
    "        self.p = p\n",
    "        \n",
    "    def sample(self):\n",
    "        # random() is uniform between [0, 1]\n",
    "        if random() < self.p:\n",
    "            return tensor(1.)\n",
    "        else:\n",
    "            return tensor(0.)\n",
    "        \n",
    "    def log_prob(self, x):\n",
    "        # This formulation is differentiable!\n",
    "        return (x * self.p + (1 - x) * (1 - self.p)).log()\n",
    "    \n",
    "b = Bernoulli(0.8)\n",
    "print('x ~ P_b:', b.sample())\n",
    "print('P_b(0):', b.log_prob(tensor(0.)).exp())"
   ]
  },
  {
   "cell_type": "markdown",
   "metadata": {},
   "source": [
    "<h2 id=\"traces-and-conditioning\">Traces and conditioning</h2>\n",
    "\n",
    "<p>On the unconditional sleep model, we could ask a few questions, like:</p>\n",
    "<ul>\n",
    "  <li>Joint probability of a sample: what is the probability that <code class=\"highlighter-rouge\">feeling_lazy = 1, ignore_alarm = 0, amount_slept = 10</code>?</li>\n",
    "  <li>Joint probability distribution: what is the probability for any possible assignment to all variables?</li>\n",
    "  <li>Marginal probability of a sample: what is the probability that <code class=\"highlighter-rouge\">feeling_lazy</code> is true?</li>\n",
    "  <li>Marginal probability distribution: what is the probability over all values of <code class=\"highlighter-rouge\">amount_slept</code>?</li>\n",
    "</ul>\n",
    "\n",
    "<p>First, we need the ability to evaluate the probability of a joint assignment to each variable.</p>"
   ]
  },
  {
   "cell_type": "code",
   "execution_count": 7,
   "metadata": {
    "ExecuteTime": {
     "end_time": "2019-06-11T21:03:42.881469Z",
     "start_time": "2019-06-11T21:03:42.869737Z"
    }
   },
   "outputs": [
    {
     "name": "stdout",
     "output_type": "stream",
     "text": [
      "{'amount_slept': {'prob': tensor(0.2528), 'value': tensor(5.0447)},\n",
      " 'feeling_lazy': {'prob': tensor(0.1000), 'value': tensor(0.)}}\n",
      "tensor(0.0253)\n"
     ]
    }
   ],
   "source": [
    "from pyro.poutine import trace\n",
    "from pprint import pprint\n",
    "\n",
    "# Runs the sleep model once and collects a trace\n",
    "tr = trace(sleep_model).get_trace()\n",
    "\n",
    "pprint({\n",
    "    name: {\n",
    "        'value': props['value'],\n",
    "        'prob': props['fn'].log_prob(props['value']).exp()\n",
    "    }\n",
    "    for (name, props) in tr.nodes.items()\n",
    "    if props['type'] == 'sample'\n",
    "})\n",
    "\n",
    "print(tr.log_prob_sum().exp()) "
   ]
  },
  {
   "cell_type": "markdown",
   "metadata": {},
   "source": [
    "<p>Here, the <code class=\"highlighter-rouge\">trace</code> feature will collect values every time they are sampled with <code class=\"highlighter-rouge\">sample</code> and store them with the corresponding string name (that’s why we give each sample a name). With a little cleanup, we can print out the value and probability of each random variable’s value, along with the joint probability of the entire trace.</p>\n",
    "\n",
    "<blockquote>\n",
    "  <p>From a software engineering and PL perspective, the ability to do things like wrap a function with <code class=\"highlighter-rouge\">trace</code> and collect its samples (called “effect handling”) is the core functionality of a probabilistic programming language like Pyro. Most of the remaining magic is in the automatic differentiation (in PyTorch) that we’ll see later. I highly recommend reading the <a href=\"https://github.com/pyro-ppl/pyro/blob/dev/pyro/contrib/minipyro.py\">Mini Pyro</a> implementation to see how to design a modular effects system. For this note, it suffices to know that the <code class=\"highlighter-rouge\">sample</code> mechanism enables an external entity calling the model function to observe and modify its execution.</p>\n",
    "</blockquote>\n",
    "\n",
    "<p>The code above randomly generates a trace and shows its probability, but we want to compute the probability of a pre-selected set of values. For that, we can use <code class=\"highlighter-rouge\">condition</code>:</p>"
   ]
  },
  {
   "cell_type": "code",
   "execution_count": 8,
   "metadata": {
    "ExecuteTime": {
     "end_time": "2019-06-11T21:03:42.894022Z",
     "start_time": "2019-06-11T21:03:42.883165Z"
    }
   },
   "outputs": [
    {
     "data": {
      "text/plain": [
       "tensor(0.0097)"
      ]
     },
     "execution_count": 8,
     "metadata": {},
     "output_type": "execute_result"
    }
   ],
   "source": [
    "from pyro import condition\n",
    "\n",
    "cond_model = condition(sleep_model, {\n",
    "    \"feeling_lazy\": tensor(1.),\n",
    "    \"ignore_alarm\": tensor(0.),\n",
    "    \"amount_slept\": tensor(10.)\n",
    "})\n",
    "\n",
    "trace(cond_model).get_trace().log_prob_sum().exp()"
   ]
  },
  {
   "cell_type": "markdown",
   "metadata": {},
   "source": [
    "<p>Here, <code class=\"highlighter-rouge\">condition</code> means “force the sample to return the provided value, and compute the trace probability as if that value was sampled.” So for example, forcing <code class=\"highlighter-rouge\">feeling_lazy</code> to <code class=\"highlighter-rouge\">1</code> means the trace starts with probability <code class=\"highlighter-rouge\">0.9</code>. This also means the if statement will always go down the first branch. Inuitively, this particular choice should have low probability because if we didn’t ignore our alarm, then <code class=\"highlighter-rouge\">amount_slept</code> should be closer to 8, not 10. That’s reflected in the low joint probability of 0.0097.</p>\n",
    "\n",
    "<p>Now, we can produce an approximate answer to any of our questions above by sampling from the distribution enough times. For example, we can look at the marginal distribution over each variable:</p>"
   ]
  },
  {
   "cell_type": "code",
   "execution_count": 10,
   "metadata": {
    "ExecuteTime": {
     "end_time": "2019-06-11T21:03:44.290152Z",
     "start_time": "2019-06-11T21:03:42.896033Z"
    }
   },
   "outputs": [
    {
     "data": {
      "image/png": "[encoded data removed]",
      "text/plain": [
       "<Figure size 432x288 with 4 Axes>"
      ]
     },
     "metadata": {
      "needs_background": "light"
     },
     "output_type": "display_data"
    }
   ],
   "source": [
    "import matplotlib.pyplot as plt\n",
    "import pandas as pd\n",
    "\n",
    "traces = []\n",
    "for _ in range(1000):\n",
    "    tr = trace(sleep_model).get_trace()\n",
    "    values = {\n",
    "        name: props['value'].item()\n",
    "        for (name, props) in tr.nodes.items()\n",
    "        if props['type'] == 'sample'\n",
    "    }\n",
    "    traces.append(values)\n",
    "\n",
    "pd.DataFrame(traces).hist()\n",
    "plt.tight_layout()"
   ]
  },
  {
   "cell_type": "markdown",
   "metadata": {},
   "source": [
    "<p>Look at each histogram and see if its distribution matches your expectations given the code for <code class=\"highlighter-rouge\">sleep_model</code>. For example, the <code class=\"highlighter-rouge\">feeling_lazy</code> histogram is true (or 1) about 90% of the time, which matches the prior belief <code class=\"highlighter-rouge\">Bernoulli(0.9)</code>.</p>\n",
    "\n",
    "<h2 id=\"sampling-conditional-distributions\">Sampling conditional distributions</h2>\n",
    "\n",
    "<p>Here’s a few more questions we might want to answer.</p>\n",
    "<ul>\n",
    "  <li>Given I slept 6 hours, what is the probability I was feeling lazy?</li>\n",
    "  <li>What is the probability of me sleeping exactly 7.65 hours?</li>\n",
    "</ul>\n",
    "\n",
    "<p>These are conditional probability questions, meaning they ask: given a particular value of some of the random variables, what are the likely values for the other random variables? The probability folk tend to call these “observed” and “latent” variables (often denoted by X and Z), respectively. A common use case for generative models is that the generated object is the thing you observe in the real world (like an image), and you want to guess the values of unobserved variables given that observation (like whether the image is a cat or a dog).</p>\n",
    "\n",
    "<blockquote>\n",
    "  <p>Aside: the second question is not obviously a conditional one. But to answer it, we need to compute <script type=\"math/tex\">P(\\text{feeling lazy}, \\text{ignore alarm} \\mid \\text{amount slept})</script>. See my <a href=\"https://forum.pyro.ai/t/marginal-probability-of-single-assignment-to-multiple-variables/1031/3\">Pyro forum post</a> for why.</p>\n",
    "</blockquote>\n",
    "\n",
    "<p>For example, a smart watch can probably record my sleep patterns, but not record whether I was being lazy. So in the sleep model, we could say <code class=\"highlighter-rouge\">amount_slept</code> is an observed random variable while <code class=\"highlighter-rouge\">feeling_lazy</code> and <code class=\"highlighter-rouge\">ignore_alarm</code> are latent random variables. Applying some basic probability theory, we can write out the quantity we want to compute:</p>\n",
    "\n",
    "<script type=\"math/tex; mode=display\">% <![CDATA[\n",
    "\\begin{align*}\n",
    "&P(\\text{feeling lazy} = T \\mid \\text{amount slept} = 6) \\\\\n",
    "=&\\frac{P(\\text{feeling lazy} = T, \\text{amount slept} = 6)}{P(\\text{amount slept} = 6)} \\\\\n",
    "=&\\frac{\\sum_{ia \\in \\{T, F\\}} P(\\text{feeling lazy} = T, \\text{amount slept} = 6, \\text{ignore alarm} = ia)}{\\sum_{(ia, fl) \\in \\{T, F\\}^2} P(\\text{feeling lazy} = fl, \\text{amount slept} = 6, \\text{ignore alarm} = ia)}\n",
    "\\end{align*} %]]></script>\n",
    "\n",
    "<p>Why did we rewrite the probability this way? Remember that with the unconditioned generative model, it’s easy for us to compute the probability of a joint assignment to <em>every</em> variable. So we can compute the probability of a single variable (a “marginal” probability), e.g. <script type=\"math/tex\">P(\\text{amount slept} = 6)</script>, as a sum over joint probabilities.</p>\n",
    "\n",
    "<p>However, there are two problems with this approach. First, as the number of marginalized variables grows, we have an exponential increase in summation terms. In some cases, this issue can be addressed using algorithmic techniques like dynamic programming for <a href=\"https://ermongroup.github.io/cs228-notes/inference/ve/\">variable elimination</a> in the case of discrete variables. But the second issue is that for continuous variables, computing this marginal probability can quickly become intractable. For example, if <code class=\"highlighter-rouge\">feeling_lazy</code> was a real-valued laziness score between 0 and 1 (presumably a more realistic model), then marginalizing that variable requires an integral instead of a sum. In general, producing an exact estimate of a conditional probability for a complex probabilistic program is not computationally feasible.</p>\n",
    "\n",
    "<h2 id=\"approximate-inference\">Approximate inference</h2>\n",
    "\n",
    "<p>The main idea is that instead of exactly computing the conditional probability distribution (or “posterior”) of interest, we can approximate it using a variety of techniques. Generally, these fall into two camps: sampling methods and variational methods. The CS 228 (Probabilistic Graphical Models at Stanford) course notes go in depth on both (<a href=\"https://ermongroup.github.io/cs228-notes/inference/sampling/\">sampling</a>, <a href=\"https://ermongroup.github.io/cs228-notes/inference/variational/\">variational</a>). Essentially, for sampling methods, you use algorithms that continually draw samples from a changing probability distribution until eventually they converge on the true posterior of interest. The time to convergence is not known ahead of time. For variational methods, you use a simpler function that can be optimized to match the true posterior using standard optimization techniques like gradient descent.</p>\n",
    "\n",
    "<p>How do you know which kind to use for a given probabilistic model? This <a href=\"https://stats.stackexchange.com/a/271862\">StackOverflow</a> answer highlights when it makes sense to use one vs. another (in summary: sampling for small data and when you <em>really</em> care about accuracy, variational otherwise). This note from <a href=\"http://dustintran.com/blog/on-pyro-deep-probabilistic-programming-on-pytorch\">Dustin Tran</a>, a developer of the Edward PPL, highlights which kinds of inference PPLs beyond Pyro are generally used for.</p>\n",
    "\n",
    "<p>As for Pyro, the <a href=\"https://eng.uber.com/pyro/\">introductory blog post</a> and this <a href=\"https://www.youtube.com/watch?v=crvNIGyqGSU&amp;feature=youtu.be\">PROBPROG’18 keynote</a> provide a high-level motivation for Pyro’s focus on variational inference. One high-level theme is bringing Bayesian reasoning (i.e. quantifying uncertainty) to deep neural nets. Pyro’s integration with PyTorch is meant to facilitate the use of probabilistic programming techniques with standard neural nets. For example, one use case I heard of was using DNNs for 3D reconstruction from video, but augmenting the training process with probabilistic priors that use domain knowledge, e.g. if I’m reconstructing a stop sign, it should be close to an intersection.</p>\n",
    "\n",
    "<p>That said, the space is still wide open, and researchers are working hard to develop new applications on top of these technologies. I recommend looking at the <a href=\"https://probprog.cc/schedule/\">PROBPROG’18</a> talks to get a more general sense of PPL applications if you’re interested.</p>\n",
    "\n",
    "<h2 id=\"variational-inference-1-autodifferentiation\">Variational inference 1: autodifferentiation</h2>\n",
    "\n",
    "<p>Since Pyro’s stake in the ground is on variational inference, let’s explore all the mechanics underneath it. For starters, we need to understand autodifferentiation, gradients, and backpropagation in PyTorch. Let’s say I have an extremely simple model that just samples a normal distribution with fixed parameters:</p>"
   ]
  },
  {
   "cell_type": "code",
   "execution_count": 11,
   "metadata": {
    "ExecuteTime": {
     "end_time": "2019-06-11T21:03:44.298324Z",
     "start_time": "2019-06-11T21:03:44.293950Z"
    }
   },
   "outputs": [
    {
     "name": "stdout",
     "output_type": "stream",
     "text": [
      "tensor(0.8189)\n"
     ]
    }
   ],
   "source": [
    "norm = dist.Normal(0, 1)\n",
    "x = sample(\"x\", norm)\n",
    "print(x)"
   ]
  },
  {
   "cell_type": "markdown",
   "metadata": {},
   "source": []
  },
  {
   "cell_type": "code",
   "execution_count": 12,
   "metadata": {
    "ExecuteTime": {
     "end_time": "2019-06-11T21:03:44.312083Z",
     "start_time": "2019-06-11T21:03:44.302542Z"
    }
   },
   "outputs": [
    {
     "name": "stdout",
     "output_type": "stream",
     "text": [
      "tensor(0., requires_grad=True) tensor(-0.8586, grad_fn=<AddBackward0>)\n"
     ]
    }
   ],
   "source": [
    "from pyro import param\n",
    "\n",
    "mu = param(\"mu\", tensor(0.))\n",
    "norm = dist.Normal(mu, 1)\n",
    "x = sample(\"x\", norm)\n",
    "print(mu, x)"
   ]
  },
  {
   "cell_type": "markdown",
   "metadata": {},
   "source": []
  },
  {
   "cell_type": "code",
   "execution_count": 13,
   "metadata": {
    "ExecuteTime": {
     "end_time": "2019-06-11T21:03:44.332049Z",
     "start_time": "2019-06-11T21:03:44.314670Z"
    }
   },
   "outputs": [
    {
     "name": "stdout",
     "output_type": "stream",
     "text": [
      "Initial prob: tensor(-13.4189, grad_fn=<SubBackward0>) tensor(1.4867e-06, grad_fn=<ExpBackward>)\n",
      "mu: tensor(0., requires_grad=True)\n",
      "d mu / d prob: tensor(5.)\n",
      "Final prob: tensor(0.3989, grad_fn=<ExpBackward>)\n",
      "Final mu: tensor(5., requires_grad=True)\n"
     ]
    }
   ],
   "source": [
    "prob = norm.log_prob(5)\n",
    "print('Initial prob:', prob, prob.exp())\n",
    "\n",
    "prob.backward() # Compute gradients with respect to probability\n",
    "\n",
    "print('mu:', mu)\n",
    "print('d mu / d prob:', mu.grad) # 5.0\n",
    "mu.data += mu.grad # Manually take gradient step\n",
    "\n",
    "print('Final prob:', dist.Normal(mu, 1).log_prob(5).exp()) \n",
    "print('Final mu:', mu)"
   ]
  },
  {
   "cell_type": "markdown",
   "metadata": {},
   "source": []
  },
  {
   "cell_type": "code",
   "execution_count": 14,
   "metadata": {
    "ExecuteTime": {
     "end_time": "2019-06-11T21:03:44.346339Z",
     "start_time": "2019-06-11T21:03:44.335156Z"
    }
   },
   "outputs": [
    {
     "name": "stdout",
     "output_type": "stream",
     "text": [
      "Final mu: tensor(5., requires_grad=True)\n"
     ]
    }
   ],
   "source": [
    "from pyro import clear_param_store\n",
    "\n",
    "# Note: params are persistent, so we have to manually reset the global Pyro parameter store\n",
    "# to avoid caching results between experiments\n",
    "clear_param_store()\n",
    "\n",
    "def model():\n",
    "    mu = param(\"mu\", tensor(0.))\n",
    "    return sample(\"x\", dist.Normal(mu, 1))\n",
    "\n",
    "cond_model = condition(model, {\"x\": 5})\n",
    "tr = trace(cond_model).get_trace()\n",
    "tr.log_prob_sum().backward()\n",
    "\n",
    "mu = param(\"mu\")\n",
    "mu.data += mu.grad\n",
    "print('Final mu:', mu)"
   ]
  },
  {
   "cell_type": "markdown",
   "metadata": {},
   "source": []
  },
  {
   "cell_type": "code",
   "execution_count": 15,
   "metadata": {
    "ExecuteTime": {
     "end_time": "2019-06-11T21:03:45.315616Z",
     "start_time": "2019-06-11T21:03:44.348997Z"
    }
   },
   "outputs": [
    {
     "data": {
      "text/plain": [
       "array([<matplotlib.axes._subplots.AxesSubplot object at 0x7facce857588>,\n",
       "       <matplotlib.axes._subplots.AxesSubplot object at 0x7faccd0fc748>],\n",
       "      dtype=object)"
      ]
     },
     "execution_count": 15,
     "metadata": {},
     "output_type": "execute_result"
    },
    {
     "data": {
      "image/png": "[encoded data removed]",
      "text/plain": [
       "<Figure size 432x288 with 2 Axes>"
      ]
     },
     "metadata": {
      "needs_background": "light"
     },
     "output_type": "display_data"
    }
   ],
   "source": [
    "from torch.optim import Adam\n",
    "\n",
    "clear_param_store()\n",
    "\n",
    "def model():\n",
    "    mu = param(\"mu\", tensor(0.))\n",
    "    return sample(\"x\", dist.Normal(mu, 1))\n",
    "\n",
    "model() # Instantiate the mu parameter\n",
    "cond_model = condition(model, {\"x\": 5})\n",
    "\n",
    "# Large learning rate for demonstration purposes\n",
    "optimizer = Adam([param(\"mu\")], lr=0.01)\n",
    "mus = []\n",
    "losses = []\n",
    "for _ in range(1000):\n",
    "    tr = trace(cond_model).get_trace()\n",
    "\n",
    "    # Optimizer wants to push positive values towards zero,\n",
    "    # so use negative log probability\n",
    "    prob = -tr.log_prob_sum()\n",
    "    prob.backward()\n",
    "\n",
    "    # Update parameters according to optimization strategy\n",
    "    optimizer.step()\n",
    "\n",
    "    # Zero all parameter gradients so they don't accumulate\n",
    "    optimizer.zero_grad()\n",
    "\n",
    "    # Record probability (or \"loss\") along with current mu\n",
    "    losses.append(prob.item())\n",
    "    mus.append(param(\"mu\").item())\n",
    "\n",
    "pd.DataFrame({\"mu\": mus, \"loss\": losses}).plot(subplots=True)"
   ]
  },
  {
   "cell_type": "markdown",
   "metadata": {},
   "source": []
  },
  {
   "cell_type": "code",
   "execution_count": 16,
   "metadata": {
    "ExecuteTime": {
     "end_time": "2019-06-11T21:03:45.531222Z",
     "start_time": "2019-06-11T21:03:45.317109Z"
    }
   },
   "outputs": [
    {
     "data": {
      "text/plain": [
       "<matplotlib.axes._subplots.AxesSubplot at 0x7facce7f9be0>"
      ]
     },
     "execution_count": 16,
     "metadata": {},
     "output_type": "execute_result"
    },
    {
     "data": {
      "image/png": "[encoded data removed]",
      "text/plain": [
       "<Figure size 432x288 with 1 Axes>"
      ]
     },
     "metadata": {
      "needs_background": "light"
     },
     "output_type": "display_data"
    }
   ],
   "source": [
    "# Condition model on observed data\n",
    "underslept = condition(sleep_model, {\"amount_slept\": 6.})\n",
    "\n",
    "# Draw samples from conditioned model?\n",
    "pd.Series(\n",
    "    [trace(underslept).get_trace().nodes['feeling_lazy']['value'].item()\n",
    "    for _ in range(100)]) \\\n",
    "    .hist()"
   ]
  },
  {
   "cell_type": "markdown",
   "metadata": {},
   "source": []
  },
  {
   "cell_type": "code",
   "execution_count": 17,
   "metadata": {
    "ExecuteTime": {
     "end_time": "2019-06-11T21:03:45.546922Z",
     "start_time": "2019-06-11T21:03:45.534085Z"
    }
   },
   "outputs": [
    {
     "data": {
      "text/plain": [
       "tensor(1.)"
      ]
     },
     "execution_count": 17,
     "metadata": {},
     "output_type": "execute_result"
    }
   ],
   "source": [
    "def sleep_guide():\n",
    "    sample(\"feeling_lazy\", dist.Delta(tensor(1.)))\n",
    "    sample(\"ignore_alarm\", dist.Delta(tensor(0.)))\n",
    "\n",
    "trace(sleep_guide).get_trace().nodes['feeling_lazy']['value']"
   ]
  },
  {
   "cell_type": "markdown",
   "metadata": {},
   "source": []
  },
  {
   "cell_type": "code",
   "execution_count": 18,
   "metadata": {
    "ExecuteTime": {
     "end_time": "2019-06-11T21:03:45.559068Z",
     "start_time": "2019-06-11T21:03:45.548933Z"
    }
   },
   "outputs": [
    {
     "data": {
      "text/plain": [
       "tensor(-4.6337)"
      ]
     },
     "execution_count": 18,
     "metadata": {},
     "output_type": "execute_result"
    }
   ],
   "source": [
    "import torch\n",
    "\n",
    "def elbo(guide, cond_model):\n",
    "    dist = 0.\n",
    "    for fl in [0., 1.]:\n",
    "        for ia in [0., 1.] if fl == 1. else [0.]:\n",
    "            log_prob = lambda f: trace(condition(\n",
    "                f, {\"feeling_lazy\": tensor(fl), \"ignore_alarm\": tensor(ia)})) \\\n",
    "                .get_trace().log_prob_sum()\n",
    "            guide_prob = log_prob(guide)\n",
    "            cond_model_prob = log_prob(cond_model)\n",
    "            term = guide_prob.exp() * (cond_model_prob - guide_prob)\n",
    "            if not torch.isnan(term):\n",
    "                dist += term\n",
    "    return dist\n",
    "\n",
    "elbo(sleep_guide, underslept)"
   ]
  },
  {
   "cell_type": "markdown",
   "metadata": {},
   "source": []
  },
  {
   "cell_type": "code",
   "execution_count": 19,
   "metadata": {
    "ExecuteTime": {
     "end_time": "2019-06-11T21:03:45.567978Z",
     "start_time": "2019-06-11T21:03:45.560771Z"
    }
   },
   "outputs": [
    {
     "data": {
      "text/plain": [
       "tensor(-3.2215)"
      ]
     },
     "execution_count": 19,
     "metadata": {},
     "output_type": "execute_result"
    }
   ],
   "source": [
    "def sleep_guide2():\n",
    "    sample(\"feeling_lazy\", dist.Delta(tensor(0.)))\n",
    "    sample(\"ignore_alarm\", dist.Delta(tensor(0.)))\n",
    "\n",
    "elbo(sleep_guide2, underslept)"
   ]
  },
  {
   "cell_type": "markdown",
   "metadata": {},
   "source": []
  },
  {
   "cell_type": "code",
   "execution_count": 20,
   "metadata": {
    "ExecuteTime": {
     "end_time": "2019-06-11T21:03:52.540361Z",
     "start_time": "2019-06-11T21:03:45.569374Z"
    }
   },
   "outputs": [
    {
     "data": {
      "text/plain": [
       "array([<matplotlib.axes._subplots.AxesSubplot object at 0x7facce9c5fd0>,\n",
       "       <matplotlib.axes._subplots.AxesSubplot object at 0x7facccf473c8>],\n",
       "      dtype=object)"
      ]
     },
     "execution_count": 20,
     "metadata": {},
     "output_type": "execute_result"
    },
    {
     "data": {
      "image/png": "[encoded data removed]",
      "text/plain": [
       "<Figure size 432x288 with 2 Axes>"
      ]
     },
     "metadata": {
      "needs_background": "light"
     },
     "output_type": "display_data"
    }
   ],
   "source": [
    "from torch.distributions import constraints\n",
    "clear_param_store()\n",
    "\n",
    "def sleep_guide():\n",
    "    # Constraints ensure facts always remain true during optimization,\n",
    "    # e.g. that the parameter of a Bernoulli is always between 0 and 1\n",
    "    valid_prob = constraints.interval(0., 1.)\n",
    "    fl_p = param('fl_p', tensor(0.8), constraint=valid_prob)\n",
    "    ia_p = param('ia_p', tensor(0.9), constraint=valid_prob)\n",
    "    feeling_lazy = sample('feeling_lazy', dist.Bernoulli(fl_p))\n",
    "\n",
    "    # Consistent with the model, we only sample ignore_alarm if\n",
    "    # feeling_lazy is true\n",
    "    if feeling_lazy == 1.:\n",
    "        sample('ignore_alarm', dist.Bernoulli(ia_p))\n",
    "sleep_guide()\n",
    "\n",
    "adam = Adam([param('fl_p').unconstrained(), param('ia_p').unconstrained()],\n",
    "            lr=0.005, betas=(0.90, 0.999))\n",
    "param_vals = []\n",
    "\n",
    "for _ in range(2000):\n",
    "    # We can use our elbo function from earlier and compute its gradient\n",
    "    loss = -elbo(sleep_guide, underslept)\n",
    "    loss.backward()\n",
    "\n",
    "    adam.step()\n",
    "    adam.zero_grad()\n",
    "\n",
    "    param_vals.append({k: param(k).item() for k in ['fl_p', 'ia_p']})\n",
    "\n",
    "pd.DataFrame(param_vals).plot(subplots=True)"
   ]
  },
  {
   "cell_type": "markdown",
   "metadata": {},
   "source": []
  },
  {
   "cell_type": "code",
   "execution_count": 21,
   "metadata": {
    "ExecuteTime": {
     "end_time": "2019-06-11T21:03:52.545991Z",
     "start_time": "2019-06-11T21:03:52.542493Z"
    }
   },
   "outputs": [],
   "source": [
    "from pyro.poutine import replay\n",
    "\n",
    "def elbo_approx(guide, cond_model):\n",
    "    guide_trace = trace(guide).get_trace()\n",
    "    model_trace = trace(replay(cond_model, guide_trace)).get_trace()\n",
    "    return model_trace.log_prob_sum() - guide_trace.log_prob_sum()"
   ]
  },
  {
   "cell_type": "markdown",
   "metadata": {},
   "source": []
  },
  {
   "cell_type": "code",
   "execution_count": 22,
   "metadata": {
    "ExecuteTime": {
     "end_time": "2019-06-11T21:03:52.554469Z",
     "start_time": "2019-06-11T21:03:52.547945Z"
    }
   },
   "outputs": [],
   "source": [
    "def optimize_guide(elbo):\n",
    "    clear_param_store()\n",
    "    sleep_guide()\n",
    "\n",
    "    adam = Adam([param('fl_p').unconstrained(), param('ia_p').unconstrained()],\n",
    "                lr=0.005, betas=(0.90, 0.999))\n",
    "    param_vals = []\n",
    "    grad_vals = []\n",
    "\n",
    "    for _ in range(2000):\n",
    "        # We can use our elbo function from earlier and compute its gradient\n",
    "        loss = -elbo(sleep_guide, underslept)\n",
    "        loss.backward()\n",
    "        grad_vals.append(param('fl_p').unconstrained().grad.item())\n",
    "\n",
    "        adam.step()\n",
    "        adam.zero_grad()\n",
    "\n",
    "        param_vals.append({k: param(k).item() for k in ['fl_p', 'ia_p']})\n",
    "        \n",
    "    return param_vals, grad_vals"
   ]
  },
  {
   "cell_type": "markdown",
   "metadata": {},
   "source": []
  },
  {
   "cell_type": "code",
   "execution_count": 23,
   "metadata": {
    "ExecuteTime": {
     "end_time": "2019-06-11T21:04:24.077062Z",
     "start_time": "2019-06-11T21:04:16.664398Z"
    }
   },
   "outputs": [
    {
     "name": "stdout",
     "output_type": "stream",
     "text": [
      "Parameters for true ELBO\n"
     ]
    },
    {
     "data": {
      "text/plain": [
       "array([<matplotlib.axes._subplots.AxesSubplot object at 0x7facccf2c908>,\n",
       "       <matplotlib.axes._subplots.AxesSubplot object at 0x7faccce1ad30>],\n",
       "      dtype=object)"
      ]
     },
     "execution_count": 23,
     "metadata": {},
     "output_type": "execute_result"
    },
    {
     "data": {
      "image/png": "[encoded data removed]",
      "text/plain": [
       "<Figure size 432x288 with 2 Axes>"
      ]
     },
     "metadata": {
      "needs_background": "light"
     },
     "output_type": "display_data"
    }
   ],
   "source": [
    "true_param_vals, true_grad_vals = optimize_guide(elbo)\n",
    "print('Parameters for true ELBO')\n",
    "pd.DataFrame(true_param_vals).plot(subplots=True)"
   ]
  },
  {
   "cell_type": "markdown",
   "metadata": {},
   "source": []
  },
  {
   "cell_type": "code",
   "execution_count": 24,
   "metadata": {
    "ExecuteTime": {
     "end_time": "2019-06-11T21:04:24.368827Z",
     "start_time": "2019-06-11T21:04:24.081231Z"
    }
   },
   "outputs": [
    {
     "name": "stdout",
     "output_type": "stream",
     "text": [
      "Gradient for true ELBO\n"
     ]
    },
    {
     "data": {
      "text/plain": [
       "<matplotlib.axes._subplots.AxesSubplot at 0x7facccd989b0>"
      ]
     },
     "execution_count": 24,
     "metadata": {},
     "output_type": "execute_result"
    },
    {
     "data": {
      "image/png": "[encoded data removed]",
      "text/plain": [
       "<Figure size 432x288 with 1 Axes>"
      ]
     },
     "metadata": {
      "needs_background": "light"
     },
     "output_type": "display_data"
    }
   ],
   "source": [
    "print('Gradient for true ELBO')\n",
    "pd.Series(true_grad_vals).plot()"
   ]
  },
  {
   "cell_type": "markdown",
   "metadata": {},
   "source": []
  },
  {
   "cell_type": "code",
   "execution_count": 25,
   "metadata": {
    "ExecuteTime": {
     "end_time": "2019-06-11T21:04:27.536912Z",
     "start_time": "2019-06-11T21:04:24.370648Z"
    }
   },
   "outputs": [
    {
     "data": {
      "text/plain": [
       "array([<matplotlib.axes._subplots.AxesSubplot object at 0x7facce86f7b8>,\n",
       "       <matplotlib.axes._subplots.AxesSubplot object at 0x7facce87c8d0>],\n",
       "      dtype=object)"
      ]
     },
     "execution_count": 25,
     "metadata": {},
     "output_type": "execute_result"
    },
    {
     "data": {
      "image/png": "[encoded data removed]",
      "text/plain": [
       "<Figure size 432x288 with 2 Axes>"
      ]
     },
     "metadata": {
      "needs_background": "light"
     },
     "output_type": "display_data"
    }
   ],
   "source": [
    "approx_param_vals, approx_grad_vals = optimize_guide(elbo_approx)\n",
    "pd.DataFrame(approx_param_vals).plot(subplots=True)"
   ]
  },
  {
   "cell_type": "markdown",
   "metadata": {},
   "source": []
  },
  {
   "cell_type": "code",
   "execution_count": 26,
   "metadata": {
    "ExecuteTime": {
     "end_time": "2019-06-11T21:04:27.799870Z",
     "start_time": "2019-06-11T21:04:27.539027Z"
    }
   },
   "outputs": [
    {
     "data": {
      "text/plain": [
       "<matplotlib.axes._subplots.AxesSubplot at 0x7faccea83f98>"
      ]
     },
     "execution_count": 26,
     "metadata": {},
     "output_type": "execute_result"
    },
    {
     "data": {
      "image/png": "[encoded data removed]",
      "text/plain": [
       "<Figure size 432x288 with 1 Axes>"
      ]
     },
     "metadata": {
      "needs_background": "light"
     },
     "output_type": "display_data"
    }
   ],
   "source": [
    "pd.Series(approx_grad_vals).plot()"
   ]
  },
  {
   "cell_type": "markdown",
   "metadata": {},
   "source": []
  },
  {
   "cell_type": "code",
   "execution_count": 27,
   "metadata": {
    "ExecuteTime": {
     "end_time": "2019-06-11T21:04:30.717133Z",
     "start_time": "2019-06-11T21:04:27.802151Z"
    }
   },
   "outputs": [
    {
     "data": {
      "text/plain": [
       "array([<matplotlib.axes._subplots.AxesSubplot object at 0x7faccea50400>,\n",
       "       <matplotlib.axes._subplots.AxesSubplot object at 0x7facceb36c18>],\n",
       "      dtype=object)"
      ]
     },
     "execution_count": 27,
     "metadata": {},
     "output_type": "execute_result"
    },
    {
     "data": {
      "image/png": "[encoded data removed]",
      "text/plain": [
       "<Figure size 432x288 with 2 Axes>"
      ]
     },
     "metadata": {
      "needs_background": "light"
     },
     "output_type": "display_data"
    }
   ],
   "source": [
    "def elbo_better_approx(guide, cond_model):\n",
    "    guide_trace = trace(guide).get_trace()\n",
    "    model_trace = trace(replay(cond_model, guide_trace)).get_trace()\n",
    "    elbo = model_trace.log_prob_sum() - guide_trace.log_prob_sum()\n",
    "    # \"detach\" means \"don't compute gradients through this expression\"\n",
    "    return guide_trace.log_prob_sum() * elbo.detach() + elbo\n",
    "\n",
    "better_approx_param_vals, better_approx_grad_vals = optimize_guide(elbo_better_approx)\n",
    "pd.DataFrame(better_approx_param_vals).plot(subplots=True)"
   ]
  },
  {
   "cell_type": "markdown",
   "metadata": {},
   "source": []
  },
  {
   "cell_type": "code",
   "execution_count": 28,
   "metadata": {
    "ExecuteTime": {
     "end_time": "2019-06-11T21:04:30.961678Z",
     "start_time": "2019-06-11T21:04:30.719861Z"
    }
   },
   "outputs": [
    {
     "data": {
      "text/plain": [
       "<matplotlib.axes._subplots.AxesSubplot at 0x7facccd05eb8>"
      ]
     },
     "execution_count": 28,
     "metadata": {},
     "output_type": "execute_result"
    },
    {
     "data": {
      "image/png": "[encoded data removed]",
      "text/plain": [
       "<Figure size 432x288 with 1 Axes>"
      ]
     },
     "metadata": {
      "needs_background": "light"
     },
     "output_type": "display_data"
    }
   ],
   "source": [
    "pd.Series(better_approx_grad_vals).plot()"
   ]
  },
  {
   "cell_type": "markdown",
   "metadata": {},
   "source": []
  },
  {
   "cell_type": "code",
   "execution_count": 29,
   "metadata": {
    "ExecuteTime": {
     "end_time": "2019-06-11T21:04:34.018465Z",
     "start_time": "2019-06-11T21:04:30.963910Z"
    }
   },
   "outputs": [
    {
     "data": {
      "text/plain": [
       "array([<matplotlib.axes._subplots.AxesSubplot object at 0x7facccd19908>,\n",
       "       <matplotlib.axes._subplots.AxesSubplot object at 0x7facccff7e80>],\n",
       "      dtype=object)"
      ]
     },
     "execution_count": 29,
     "metadata": {},
     "output_type": "execute_result"
    },
    {
     "data": {
      "image/png": "[encoded data removed]",
      "text/plain": [
       "<Figure size 432x288 with 2 Axes>"
      ]
     },
     "metadata": {
      "needs_background": "light"
     },
     "output_type": "display_data"
    }
   ],
   "source": [
    "from pyro.optim import Adam\n",
    "from pyro.infer import SVI, Trace_ELBO\n",
    "\n",
    "clear_param_store()\n",
    "adam = Adam({\"lr\": 0.005, \"betas\": (0.90, 0.999)})\n",
    "svi = SVI(underslept, sleep_guide, adam, loss=Trace_ELBO())\n",
    "\n",
    "param_vals = []\n",
    "for _ in range(2000):\n",
    "    svi.step()\n",
    "    param_vals.append({k: param(k).item() for k in [\"fl_p\", \"ia_p\"]})\n",
    "\n",
    "pd.DataFrame(param_vals).plot(subplots=True)"
   ]
  },
  {
   "cell_type": "markdown",
   "metadata": {},
   "source": []
  },
  {
   "cell_type": "code",
   "execution_count": 31,
   "metadata": {
    "ExecuteTime": {
     "end_time": "2019-06-11T21:04:34.080287Z",
     "start_time": "2019-06-11T21:04:34.020829Z"
    },
    "collapsed": true
   },
   "outputs": [
    {
     "ename": "NotImplementedError",
     "evalue": "Cannot transform _Boolean constraints\nTrace Shapes:\n Param Sites:\nSample Sites:",
     "output_type": "error",
     "traceback": [
      "\u001b[0;31m---------------------------------------------------------------------------\u001b[0m",
      "\u001b[0;31mKeyError\u001b[0m                                  Traceback (most recent call last)",
      "\u001b[0;32m~/.local/share/virtualenvs/Stochastic-Optimization-g1LdcETT/lib/python3.7/site-packages/torch/distributions/constraint_registry.py\u001b[0m in \u001b[0;36m__call__\u001b[0;34m(self, constraint)\u001b[0m\n\u001b[1;32m    139\u001b[0m         \u001b[0;32mtry\u001b[0m\u001b[0;34m:\u001b[0m\u001b[0;34m\u001b[0m\u001b[0;34m\u001b[0m\u001b[0m\n\u001b[0;32m--> 140\u001b[0;31m             \u001b[0mfactory\u001b[0m \u001b[0;34m=\u001b[0m \u001b[0mself\u001b[0m\u001b[0;34m.\u001b[0m\u001b[0m_registry\u001b[0m\u001b[0;34m[\u001b[0m\u001b[0mtype\u001b[0m\u001b[0;34m(\u001b[0m\u001b[0mconstraint\u001b[0m\u001b[0;34m)\u001b[0m\u001b[0;34m]\u001b[0m\u001b[0;34m\u001b[0m\u001b[0;34m\u001b[0m\u001b[0m\n\u001b[0m\u001b[1;32m    141\u001b[0m         \u001b[0;32mexcept\u001b[0m \u001b[0mKeyError\u001b[0m\u001b[0;34m:\u001b[0m\u001b[0;34m\u001b[0m\u001b[0;34m\u001b[0m\u001b[0m\n",
      "\u001b[0;31mKeyError\u001b[0m: <class 'torch.distributions.constraints._Boolean'>",
      "\nDuring handling of the above exception, another exception occurred:\n",
      "\u001b[0;31mNotImplementedError\u001b[0m                       Traceback (most recent call last)",
      "\u001b[0;32m~/.local/share/virtualenvs/Stochastic-Optimization-g1LdcETT/lib/python3.7/site-packages/pyro/poutine/trace_messenger.py\u001b[0m in \u001b[0;36m__call__\u001b[0;34m(self, *args, **kwargs)\u001b[0m\n\u001b[1;32m    146\u001b[0m             \u001b[0;32mtry\u001b[0m\u001b[0;34m:\u001b[0m\u001b[0;34m\u001b[0m\u001b[0;34m\u001b[0m\u001b[0m\n\u001b[0;32m--> 147\u001b[0;31m                 \u001b[0mret\u001b[0m \u001b[0;34m=\u001b[0m \u001b[0mself\u001b[0m\u001b[0;34m.\u001b[0m\u001b[0mfn\u001b[0m\u001b[0;34m(\u001b[0m\u001b[0;34m*\u001b[0m\u001b[0margs\u001b[0m\u001b[0;34m,\u001b[0m \u001b[0;34m**\u001b[0m\u001b[0mkwargs\u001b[0m\u001b[0;34m)\u001b[0m\u001b[0;34m\u001b[0m\u001b[0;34m\u001b[0m\u001b[0m\n\u001b[0m\u001b[1;32m    148\u001b[0m             \u001b[0;32mexcept\u001b[0m \u001b[0;34m(\u001b[0m\u001b[0mValueError\u001b[0m\u001b[0;34m,\u001b[0m \u001b[0mRuntimeError\u001b[0m\u001b[0;34m)\u001b[0m\u001b[0;34m:\u001b[0m\u001b[0;34m\u001b[0m\u001b[0;34m\u001b[0m\u001b[0m\n",
      "\u001b[0;32m<ipython-input-31-556bb1224d89>\u001b[0m in \u001b[0;36msleep_guide_delta\u001b[0;34m()\u001b[0m\n\u001b[1;32m      4\u001b[0m     \u001b[0mis_bool\u001b[0m \u001b[0;34m=\u001b[0m \u001b[0mconstraints\u001b[0m\u001b[0;34m.\u001b[0m\u001b[0mboolean\u001b[0m\u001b[0;34m\u001b[0m\u001b[0;34m\u001b[0m\u001b[0m\n\u001b[0;32m----> 5\u001b[0;31m     \u001b[0mfl\u001b[0m \u001b[0;34m=\u001b[0m \u001b[0mparam\u001b[0m\u001b[0;34m(\u001b[0m\u001b[0;34m'fl_p'\u001b[0m\u001b[0;34m,\u001b[0m \u001b[0mtensor\u001b[0m\u001b[0;34m(\u001b[0m\u001b[0;36m1.0\u001b[0m\u001b[0;34m)\u001b[0m\u001b[0;34m,\u001b[0m \u001b[0mconstraint\u001b[0m\u001b[0;34m=\u001b[0m\u001b[0mis_bool\u001b[0m\u001b[0;34m)\u001b[0m\u001b[0;34m\u001b[0m\u001b[0;34m\u001b[0m\u001b[0m\n\u001b[0m\u001b[1;32m      6\u001b[0m     \u001b[0mia\u001b[0m \u001b[0;34m=\u001b[0m \u001b[0mparam\u001b[0m\u001b[0;34m(\u001b[0m\u001b[0;34m'ia_p'\u001b[0m\u001b[0;34m,\u001b[0m \u001b[0mtensor\u001b[0m\u001b[0;34m(\u001b[0m\u001b[0;36m0.0\u001b[0m\u001b[0;34m)\u001b[0m\u001b[0;34m,\u001b[0m \u001b[0mconstraint\u001b[0m\u001b[0;34m=\u001b[0m\u001b[0mis_bool\u001b[0m\u001b[0;34m)\u001b[0m\u001b[0;34m\u001b[0m\u001b[0;34m\u001b[0m\u001b[0m\n",
      "\u001b[0;32m~/.local/share/virtualenvs/Stochastic-Optimization-g1LdcETT/lib/python3.7/site-packages/pyro/primitives.py\u001b[0m in \u001b[0;36mparam\u001b[0;34m(name, *args, **kwargs)\u001b[0m\n\u001b[1;32m     59\u001b[0m     \u001b[0mkwargs\u001b[0m\u001b[0;34m[\u001b[0m\u001b[0;34m\"name\"\u001b[0m\u001b[0;34m]\u001b[0m \u001b[0;34m=\u001b[0m \u001b[0mname\u001b[0m\u001b[0;34m\u001b[0m\u001b[0;34m\u001b[0m\u001b[0m\n\u001b[0;32m---> 60\u001b[0;31m     \u001b[0;32mreturn\u001b[0m \u001b[0m_param\u001b[0m\u001b[0;34m(\u001b[0m\u001b[0mname\u001b[0m\u001b[0;34m,\u001b[0m \u001b[0;34m*\u001b[0m\u001b[0margs\u001b[0m\u001b[0;34m,\u001b[0m \u001b[0;34m**\u001b[0m\u001b[0mkwargs\u001b[0m\u001b[0;34m)\u001b[0m\u001b[0;34m\u001b[0m\u001b[0;34m\u001b[0m\u001b[0m\n\u001b[0m\u001b[1;32m     61\u001b[0m \u001b[0;34m\u001b[0m\u001b[0m\n",
      "\u001b[0;32m~/.local/share/virtualenvs/Stochastic-Optimization-g1LdcETT/lib/python3.7/site-packages/pyro/poutine/runtime.py\u001b[0m in \u001b[0;36m_fn\u001b[0;34m(*args, **kwargs)\u001b[0m\n\u001b[1;32m    258\u001b[0m             \u001b[0;31m# apply the stack and return its return value\u001b[0m\u001b[0;34m\u001b[0m\u001b[0;34m\u001b[0m\u001b[0;34m\u001b[0m\u001b[0m\n\u001b[0;32m--> 259\u001b[0;31m             \u001b[0mapply_stack\u001b[0m\u001b[0;34m(\u001b[0m\u001b[0mmsg\u001b[0m\u001b[0;34m)\u001b[0m\u001b[0;34m\u001b[0m\u001b[0;34m\u001b[0m\u001b[0m\n\u001b[0m\u001b[1;32m    260\u001b[0m             \u001b[0;32mreturn\u001b[0m \u001b[0mmsg\u001b[0m\u001b[0;34m[\u001b[0m\u001b[0;34m\"value\"\u001b[0m\u001b[0;34m]\u001b[0m\u001b[0;34m\u001b[0m\u001b[0;34m\u001b[0m\u001b[0m\n",
      "\u001b[0;32m~/.local/share/virtualenvs/Stochastic-Optimization-g1LdcETT/lib/python3.7/site-packages/pyro/poutine/runtime.py\u001b[0m in \u001b[0;36mapply_stack\u001b[0;34m(initial_msg)\u001b[0m\n\u001b[1;32m    194\u001b[0m \u001b[0;34m\u001b[0m\u001b[0m\n\u001b[0;32m--> 195\u001b[0;31m     \u001b[0mdefault_process_message\u001b[0m\u001b[0;34m(\u001b[0m\u001b[0mmsg\u001b[0m\u001b[0;34m)\u001b[0m\u001b[0;34m\u001b[0m\u001b[0;34m\u001b[0m\u001b[0m\n\u001b[0m\u001b[1;32m    196\u001b[0m \u001b[0;34m\u001b[0m\u001b[0m\n",
      "\u001b[0;32m~/.local/share/virtualenvs/Stochastic-Optimization-g1LdcETT/lib/python3.7/site-packages/pyro/poutine/runtime.py\u001b[0m in \u001b[0;36mdefault_process_message\u001b[0;34m(msg)\u001b[0m\n\u001b[1;32m    155\u001b[0m \u001b[0;34m\u001b[0m\u001b[0m\n\u001b[0;32m--> 156\u001b[0;31m     \u001b[0mmsg\u001b[0m\u001b[0;34m[\u001b[0m\u001b[0;34m\"value\"\u001b[0m\u001b[0;34m]\u001b[0m \u001b[0;34m=\u001b[0m \u001b[0mmsg\u001b[0m\u001b[0;34m[\u001b[0m\u001b[0;34m\"fn\"\u001b[0m\u001b[0;34m]\u001b[0m\u001b[0;34m(\u001b[0m\u001b[0;34m*\u001b[0m\u001b[0mmsg\u001b[0m\u001b[0;34m[\u001b[0m\u001b[0;34m\"args\"\u001b[0m\u001b[0;34m]\u001b[0m\u001b[0;34m,\u001b[0m \u001b[0;34m**\u001b[0m\u001b[0mmsg\u001b[0m\u001b[0;34m[\u001b[0m\u001b[0;34m\"kwargs\"\u001b[0m\u001b[0;34m]\u001b[0m\u001b[0;34m)\u001b[0m\u001b[0;34m\u001b[0m\u001b[0;34m\u001b[0m\u001b[0m\n\u001b[0m\u001b[1;32m    157\u001b[0m \u001b[0;34m\u001b[0m\u001b[0m\n",
      "\u001b[0;32m~/.local/share/virtualenvs/Stochastic-Optimization-g1LdcETT/lib/python3.7/site-packages/pyro/params/param_store.py\u001b[0m in \u001b[0;36mget_param\u001b[0;34m(self, name, init_tensor, constraint, event_dim)\u001b[0m\n\u001b[1;32m    204\u001b[0m         \u001b[0;32melse\u001b[0m\u001b[0;34m:\u001b[0m\u001b[0;34m\u001b[0m\u001b[0;34m\u001b[0m\u001b[0m\n\u001b[0;32m--> 205\u001b[0;31m             \u001b[0;32mreturn\u001b[0m \u001b[0mself\u001b[0m\u001b[0;34m.\u001b[0m\u001b[0msetdefault\u001b[0m\u001b[0;34m(\u001b[0m\u001b[0mname\u001b[0m\u001b[0;34m,\u001b[0m \u001b[0minit_tensor\u001b[0m\u001b[0;34m,\u001b[0m \u001b[0mconstraint\u001b[0m\u001b[0;34m)\u001b[0m\u001b[0;34m\u001b[0m\u001b[0;34m\u001b[0m\u001b[0m\n\u001b[0m\u001b[1;32m    206\u001b[0m \u001b[0;34m\u001b[0m\u001b[0m\n",
      "\u001b[0;32m~/.local/share/virtualenvs/Stochastic-Optimization-g1LdcETT/lib/python3.7/site-packages/pyro/params/param_store.py\u001b[0m in \u001b[0;36msetdefault\u001b[0;34m(self, name, init_constrained_value, constraint)\u001b[0m\n\u001b[1;32m    159\u001b[0m             \u001b[0;31m# set the initial value\u001b[0m\u001b[0;34m\u001b[0m\u001b[0;34m\u001b[0m\u001b[0;34m\u001b[0m\u001b[0m\n\u001b[0;32m--> 160\u001b[0;31m             \u001b[0mself\u001b[0m\u001b[0;34m[\u001b[0m\u001b[0mname\u001b[0m\u001b[0;34m]\u001b[0m \u001b[0;34m=\u001b[0m \u001b[0minit_constrained_value\u001b[0m\u001b[0;34m\u001b[0m\u001b[0;34m\u001b[0m\u001b[0m\n\u001b[0m\u001b[1;32m    161\u001b[0m \u001b[0;34m\u001b[0m\u001b[0m\n",
      "\u001b[0;32m~/.local/share/virtualenvs/Stochastic-Optimization-g1LdcETT/lib/python3.7/site-packages/pyro/params/param_store.py\u001b[0m in \u001b[0;36m__setitem__\u001b[0;34m(self, name, new_constrained_value)\u001b[0m\n\u001b[1;32m    121\u001b[0m             \u001b[0;31m# FIXME should we .detach() the new_constrained_value?\u001b[0m\u001b[0;34m\u001b[0m\u001b[0;34m\u001b[0m\u001b[0;34m\u001b[0m\u001b[0m\n\u001b[0;32m--> 122\u001b[0;31m             \u001b[0munconstrained_value\u001b[0m \u001b[0;34m=\u001b[0m \u001b[0mtransform_to\u001b[0m\u001b[0;34m(\u001b[0m\u001b[0mconstraint\u001b[0m\u001b[0;34m)\u001b[0m\u001b[0;34m.\u001b[0m\u001b[0minv\u001b[0m\u001b[0;34m(\u001b[0m\u001b[0mnew_constrained_value\u001b[0m\u001b[0;34m)\u001b[0m\u001b[0;34m\u001b[0m\u001b[0;34m\u001b[0m\u001b[0m\n\u001b[0m\u001b[1;32m    123\u001b[0m             \u001b[0munconstrained_value\u001b[0m \u001b[0;34m=\u001b[0m \u001b[0munconstrained_value\u001b[0m\u001b[0;34m.\u001b[0m\u001b[0mcontiguous\u001b[0m\u001b[0;34m(\u001b[0m\u001b[0;34m)\u001b[0m\u001b[0;34m\u001b[0m\u001b[0;34m\u001b[0m\u001b[0m\n",
      "\u001b[0;32m~/.local/share/virtualenvs/Stochastic-Optimization-g1LdcETT/lib/python3.7/site-packages/torch/distributions/constraint_registry.py\u001b[0m in \u001b[0;36m__call__\u001b[0;34m(self, constraint)\u001b[0m\n\u001b[1;32m    142\u001b[0m             raise NotImplementedError(\n\u001b[0;32m--> 143\u001b[0;31m                 'Cannot transform {} constraints'.format(type(constraint).__name__))\n\u001b[0m\u001b[1;32m    144\u001b[0m         \u001b[0;32mreturn\u001b[0m \u001b[0mfactory\u001b[0m\u001b[0;34m(\u001b[0m\u001b[0mconstraint\u001b[0m\u001b[0;34m)\u001b[0m\u001b[0;34m\u001b[0m\u001b[0;34m\u001b[0m\u001b[0m\n",
      "\u001b[0;31mNotImplementedError\u001b[0m: Cannot transform _Boolean constraints",
      "\nDuring handling of the above exception, another exception occurred:\n",
      "\u001b[0;31mNotImplementedError\u001b[0m                       Traceback (most recent call last)",
      "\u001b[0;32m<ipython-input-31-556bb1224d89>\u001b[0m in \u001b[0;36m<module>\u001b[0;34m\u001b[0m\n\u001b[1;32m     10\u001b[0m \u001b[0;34m\u001b[0m\u001b[0m\n\u001b[1;32m     11\u001b[0m \u001b[0msvi\u001b[0m \u001b[0;34m=\u001b[0m \u001b[0mSVI\u001b[0m\u001b[0;34m(\u001b[0m\u001b[0munderslept\u001b[0m\u001b[0;34m,\u001b[0m \u001b[0msleep_guide_delta\u001b[0m\u001b[0;34m,\u001b[0m \u001b[0madam\u001b[0m\u001b[0;34m,\u001b[0m \u001b[0mloss\u001b[0m\u001b[0;34m=\u001b[0m\u001b[0mTrace_ELBO\u001b[0m\u001b[0;34m(\u001b[0m\u001b[0;34m)\u001b[0m\u001b[0;34m)\u001b[0m\u001b[0;34m\u001b[0m\u001b[0;34m\u001b[0m\u001b[0m\n\u001b[0;32m---> 12\u001b[0;31m \u001b[0msvi\u001b[0m\u001b[0;34m.\u001b[0m\u001b[0mstep\u001b[0m\u001b[0;34m(\u001b[0m\u001b[0;34m)\u001b[0m \u001b[0;31m# NotImplementedError: Cannot transform _Boolean constraints\u001b[0m\u001b[0;34m\u001b[0m\u001b[0;34m\u001b[0m\u001b[0m\n\u001b[0m",
      "\u001b[0;32m~/.local/share/virtualenvs/Stochastic-Optimization-g1LdcETT/lib/python3.7/site-packages/pyro/infer/svi.py\u001b[0m in \u001b[0;36mstep\u001b[0;34m(self, *args, **kwargs)\u001b[0m\n\u001b[1;32m     97\u001b[0m         \u001b[0;31m# get loss and compute gradients\u001b[0m\u001b[0;34m\u001b[0m\u001b[0;34m\u001b[0m\u001b[0;34m\u001b[0m\u001b[0m\n\u001b[1;32m     98\u001b[0m         \u001b[0;32mwith\u001b[0m \u001b[0mpoutine\u001b[0m\u001b[0;34m.\u001b[0m\u001b[0mtrace\u001b[0m\u001b[0;34m(\u001b[0m\u001b[0mparam_only\u001b[0m\u001b[0;34m=\u001b[0m\u001b[0;32mTrue\u001b[0m\u001b[0;34m)\u001b[0m \u001b[0;32mas\u001b[0m \u001b[0mparam_capture\u001b[0m\u001b[0;34m:\u001b[0m\u001b[0;34m\u001b[0m\u001b[0;34m\u001b[0m\u001b[0m\n\u001b[0;32m---> 99\u001b[0;31m             \u001b[0mloss\u001b[0m \u001b[0;34m=\u001b[0m \u001b[0mself\u001b[0m\u001b[0;34m.\u001b[0m\u001b[0mloss_and_grads\u001b[0m\u001b[0;34m(\u001b[0m\u001b[0mself\u001b[0m\u001b[0;34m.\u001b[0m\u001b[0mmodel\u001b[0m\u001b[0;34m,\u001b[0m \u001b[0mself\u001b[0m\u001b[0;34m.\u001b[0m\u001b[0mguide\u001b[0m\u001b[0;34m,\u001b[0m \u001b[0;34m*\u001b[0m\u001b[0margs\u001b[0m\u001b[0;34m,\u001b[0m \u001b[0;34m**\u001b[0m\u001b[0mkwargs\u001b[0m\u001b[0;34m)\u001b[0m\u001b[0;34m\u001b[0m\u001b[0;34m\u001b[0m\u001b[0m\n\u001b[0m\u001b[1;32m    100\u001b[0m \u001b[0;34m\u001b[0m\u001b[0m\n\u001b[1;32m    101\u001b[0m         params = set(site[\"value\"].unconstrained()\n",
      "\u001b[0;32m~/.local/share/virtualenvs/Stochastic-Optimization-g1LdcETT/lib/python3.7/site-packages/pyro/infer/trace_elbo.py\u001b[0m in \u001b[0;36mloss_and_grads\u001b[0;34m(self, model, guide, *args, **kwargs)\u001b[0m\n\u001b[1;32m    123\u001b[0m         \u001b[0mloss\u001b[0m \u001b[0;34m=\u001b[0m \u001b[0;36m0.0\u001b[0m\u001b[0;34m\u001b[0m\u001b[0;34m\u001b[0m\u001b[0m\n\u001b[1;32m    124\u001b[0m         \u001b[0;31m# grab a trace from the generator\u001b[0m\u001b[0;34m\u001b[0m\u001b[0;34m\u001b[0m\u001b[0;34m\u001b[0m\u001b[0m\n\u001b[0;32m--> 125\u001b[0;31m         \u001b[0;32mfor\u001b[0m \u001b[0mmodel_trace\u001b[0m\u001b[0;34m,\u001b[0m \u001b[0mguide_trace\u001b[0m \u001b[0;32min\u001b[0m \u001b[0mself\u001b[0m\u001b[0;34m.\u001b[0m\u001b[0m_get_traces\u001b[0m\u001b[0;34m(\u001b[0m\u001b[0mmodel\u001b[0m\u001b[0;34m,\u001b[0m \u001b[0mguide\u001b[0m\u001b[0;34m,\u001b[0m \u001b[0;34m*\u001b[0m\u001b[0margs\u001b[0m\u001b[0;34m,\u001b[0m \u001b[0;34m**\u001b[0m\u001b[0mkwargs\u001b[0m\u001b[0;34m)\u001b[0m\u001b[0;34m:\u001b[0m\u001b[0;34m\u001b[0m\u001b[0;34m\u001b[0m\u001b[0m\n\u001b[0m\u001b[1;32m    126\u001b[0m             \u001b[0mloss_particle\u001b[0m\u001b[0;34m,\u001b[0m \u001b[0msurrogate_loss_particle\u001b[0m \u001b[0;34m=\u001b[0m \u001b[0mself\u001b[0m\u001b[0;34m.\u001b[0m\u001b[0m_differentiable_loss_particle\u001b[0m\u001b[0;34m(\u001b[0m\u001b[0mmodel_trace\u001b[0m\u001b[0;34m,\u001b[0m \u001b[0mguide_trace\u001b[0m\u001b[0;34m)\u001b[0m\u001b[0;34m\u001b[0m\u001b[0;34m\u001b[0m\u001b[0m\n\u001b[1;32m    127\u001b[0m             \u001b[0mloss\u001b[0m \u001b[0;34m+=\u001b[0m \u001b[0mloss_particle\u001b[0m \u001b[0;34m/\u001b[0m \u001b[0mself\u001b[0m\u001b[0;34m.\u001b[0m\u001b[0mnum_particles\u001b[0m\u001b[0;34m\u001b[0m\u001b[0;34m\u001b[0m\u001b[0m\n",
      "\u001b[0;32m~/.local/share/virtualenvs/Stochastic-Optimization-g1LdcETT/lib/python3.7/site-packages/pyro/infer/elbo.py\u001b[0m in \u001b[0;36m_get_traces\u001b[0;34m(self, model, guide, *args, **kwargs)\u001b[0m\n\u001b[1;32m    166\u001b[0m         \u001b[0;32melse\u001b[0m\u001b[0;34m:\u001b[0m\u001b[0;34m\u001b[0m\u001b[0;34m\u001b[0m\u001b[0m\n\u001b[1;32m    167\u001b[0m             \u001b[0;32mfor\u001b[0m \u001b[0mi\u001b[0m \u001b[0;32min\u001b[0m \u001b[0mrange\u001b[0m\u001b[0;34m(\u001b[0m\u001b[0mself\u001b[0m\u001b[0;34m.\u001b[0m\u001b[0mnum_particles\u001b[0m\u001b[0;34m)\u001b[0m\u001b[0;34m:\u001b[0m\u001b[0;34m\u001b[0m\u001b[0;34m\u001b[0m\u001b[0m\n\u001b[0;32m--> 168\u001b[0;31m                 \u001b[0;32myield\u001b[0m \u001b[0mself\u001b[0m\u001b[0;34m.\u001b[0m\u001b[0m_get_trace\u001b[0m\u001b[0;34m(\u001b[0m\u001b[0mmodel\u001b[0m\u001b[0;34m,\u001b[0m \u001b[0mguide\u001b[0m\u001b[0;34m,\u001b[0m \u001b[0;34m*\u001b[0m\u001b[0margs\u001b[0m\u001b[0;34m,\u001b[0m \u001b[0;34m**\u001b[0m\u001b[0mkwargs\u001b[0m\u001b[0;34m)\u001b[0m\u001b[0;34m\u001b[0m\u001b[0;34m\u001b[0m\u001b[0m\n\u001b[0m",
      "\u001b[0;32m~/.local/share/virtualenvs/Stochastic-Optimization-g1LdcETT/lib/python3.7/site-packages/pyro/infer/trace_elbo.py\u001b[0m in \u001b[0;36m_get_trace\u001b[0;34m(self, model, guide, *args, **kwargs)\u001b[0m\n\u001b[1;32m     50\u001b[0m         \"\"\"\n\u001b[1;32m     51\u001b[0m         model_trace, guide_trace = get_importance_trace(\n\u001b[0;32m---> 52\u001b[0;31m             \"flat\", self.max_plate_nesting, model, guide, *args, **kwargs)\n\u001b[0m\u001b[1;32m     53\u001b[0m         \u001b[0;32mif\u001b[0m \u001b[0mis_validation_enabled\u001b[0m\u001b[0;34m(\u001b[0m\u001b[0;34m)\u001b[0m\u001b[0;34m:\u001b[0m\u001b[0;34m\u001b[0m\u001b[0;34m\u001b[0m\u001b[0m\n\u001b[1;32m     54\u001b[0m             \u001b[0mcheck_if_enumerated\u001b[0m\u001b[0;34m(\u001b[0m\u001b[0mguide_trace\u001b[0m\u001b[0;34m)\u001b[0m\u001b[0;34m\u001b[0m\u001b[0;34m\u001b[0m\u001b[0m\n",
      "\u001b[0;32m~/.local/share/virtualenvs/Stochastic-Optimization-g1LdcETT/lib/python3.7/site-packages/pyro/infer/enum.py\u001b[0m in \u001b[0;36mget_importance_trace\u001b[0;34m(graph_type, max_plate_nesting, model, guide, *args, **kwargs)\u001b[0m\n\u001b[1;32m     40\u001b[0m     \u001b[0magainst\u001b[0m \u001b[0mit\u001b[0m\u001b[0;34m.\u001b[0m\u001b[0;34m\u001b[0m\u001b[0;34m\u001b[0m\u001b[0m\n\u001b[1;32m     41\u001b[0m     \"\"\"\n\u001b[0;32m---> 42\u001b[0;31m     \u001b[0mguide_trace\u001b[0m \u001b[0;34m=\u001b[0m \u001b[0mpoutine\u001b[0m\u001b[0;34m.\u001b[0m\u001b[0mtrace\u001b[0m\u001b[0;34m(\u001b[0m\u001b[0mguide\u001b[0m\u001b[0;34m,\u001b[0m \u001b[0mgraph_type\u001b[0m\u001b[0;34m=\u001b[0m\u001b[0mgraph_type\u001b[0m\u001b[0;34m)\u001b[0m\u001b[0;34m.\u001b[0m\u001b[0mget_trace\u001b[0m\u001b[0;34m(\u001b[0m\u001b[0;34m*\u001b[0m\u001b[0margs\u001b[0m\u001b[0;34m,\u001b[0m \u001b[0;34m**\u001b[0m\u001b[0mkwargs\u001b[0m\u001b[0;34m)\u001b[0m\u001b[0;34m\u001b[0m\u001b[0;34m\u001b[0m\u001b[0m\n\u001b[0m\u001b[1;32m     43\u001b[0m     model_trace = poutine.trace(poutine.replay(model, trace=guide_trace),\n\u001b[1;32m     44\u001b[0m                                 graph_type=graph_type).get_trace(*args, **kwargs)\n",
      "\u001b[0;32m~/.local/share/virtualenvs/Stochastic-Optimization-g1LdcETT/lib/python3.7/site-packages/pyro/poutine/trace_messenger.py\u001b[0m in \u001b[0;36mget_trace\u001b[0;34m(self, *args, **kwargs)\u001b[0m\n\u001b[1;32m    167\u001b[0m         \u001b[0mCalls\u001b[0m \u001b[0mthis\u001b[0m \u001b[0mpoutine\u001b[0m \u001b[0;32mand\u001b[0m \u001b[0mreturns\u001b[0m \u001b[0mits\u001b[0m \u001b[0mtrace\u001b[0m \u001b[0minstead\u001b[0m \u001b[0mof\u001b[0m \u001b[0mthe\u001b[0m \u001b[0mfunction\u001b[0m\u001b[0;31m'\u001b[0m\u001b[0ms\u001b[0m \u001b[0;32mreturn\u001b[0m \u001b[0mvalue\u001b[0m\u001b[0;34m.\u001b[0m\u001b[0;34m\u001b[0m\u001b[0;34m\u001b[0m\u001b[0m\n\u001b[1;32m    168\u001b[0m         \"\"\"\n\u001b[0;32m--> 169\u001b[0;31m         \u001b[0mself\u001b[0m\u001b[0;34m(\u001b[0m\u001b[0;34m*\u001b[0m\u001b[0margs\u001b[0m\u001b[0;34m,\u001b[0m \u001b[0;34m**\u001b[0m\u001b[0mkwargs\u001b[0m\u001b[0;34m)\u001b[0m\u001b[0;34m\u001b[0m\u001b[0;34m\u001b[0m\u001b[0m\n\u001b[0m\u001b[1;32m    170\u001b[0m         \u001b[0;32mreturn\u001b[0m \u001b[0mself\u001b[0m\u001b[0;34m.\u001b[0m\u001b[0mmsngr\u001b[0m\u001b[0;34m.\u001b[0m\u001b[0mget_trace\u001b[0m\u001b[0;34m(\u001b[0m\u001b[0;34m)\u001b[0m\u001b[0;34m\u001b[0m\u001b[0;34m\u001b[0m\u001b[0m\n",
      "\u001b[0;32m~/.local/share/virtualenvs/Stochastic-Optimization-g1LdcETT/lib/python3.7/site-packages/pyro/poutine/trace_messenger.py\u001b[0m in \u001b[0;36m__call__\u001b[0;34m(self, *args, **kwargs)\u001b[0m\n\u001b[1;32m    151\u001b[0m                 six.reraise(exc_type,\n\u001b[1;32m    152\u001b[0m                             \u001b[0mexc_type\u001b[0m\u001b[0;34m(\u001b[0m\u001b[0;34mu\"{}\\n{}\"\u001b[0m\u001b[0;34m.\u001b[0m\u001b[0mformat\u001b[0m\u001b[0;34m(\u001b[0m\u001b[0mexc_value\u001b[0m\u001b[0;34m,\u001b[0m \u001b[0mshapes\u001b[0m\u001b[0;34m)\u001b[0m\u001b[0;34m)\u001b[0m\u001b[0;34m,\u001b[0m\u001b[0;34m\u001b[0m\u001b[0;34m\u001b[0m\u001b[0m\n\u001b[0;32m--> 153\u001b[0;31m                             traceback)\n\u001b[0m\u001b[1;32m    154\u001b[0m             \u001b[0mself\u001b[0m\u001b[0;34m.\u001b[0m\u001b[0mmsngr\u001b[0m\u001b[0;34m.\u001b[0m\u001b[0mtrace\u001b[0m\u001b[0;34m.\u001b[0m\u001b[0madd_node\u001b[0m\u001b[0;34m(\u001b[0m\u001b[0;34m\"_RETURN\"\u001b[0m\u001b[0;34m,\u001b[0m \u001b[0mname\u001b[0m\u001b[0;34m=\u001b[0m\u001b[0;34m\"_RETURN\"\u001b[0m\u001b[0;34m,\u001b[0m \u001b[0mtype\u001b[0m\u001b[0;34m=\u001b[0m\u001b[0;34m\"return\"\u001b[0m\u001b[0;34m,\u001b[0m \u001b[0mvalue\u001b[0m\u001b[0;34m=\u001b[0m\u001b[0mret\u001b[0m\u001b[0;34m)\u001b[0m\u001b[0;34m\u001b[0m\u001b[0;34m\u001b[0m\u001b[0m\n\u001b[1;32m    155\u001b[0m         \u001b[0;32mreturn\u001b[0m \u001b[0mret\u001b[0m\u001b[0;34m\u001b[0m\u001b[0;34m\u001b[0m\u001b[0m\n",
      "\u001b[0;32m~/.local/share/virtualenvs/Stochastic-Optimization-g1LdcETT/lib/python3.7/site-packages/six.py\u001b[0m in \u001b[0;36mreraise\u001b[0;34m(tp, value, tb)\u001b[0m\n\u001b[1;32m    690\u001b[0m                 \u001b[0mvalue\u001b[0m \u001b[0;34m=\u001b[0m \u001b[0mtp\u001b[0m\u001b[0;34m(\u001b[0m\u001b[0;34m)\u001b[0m\u001b[0;34m\u001b[0m\u001b[0;34m\u001b[0m\u001b[0m\n\u001b[1;32m    691\u001b[0m             \u001b[0;32mif\u001b[0m \u001b[0mvalue\u001b[0m\u001b[0;34m.\u001b[0m\u001b[0m__traceback__\u001b[0m \u001b[0;32mis\u001b[0m \u001b[0;32mnot\u001b[0m \u001b[0mtb\u001b[0m\u001b[0;34m:\u001b[0m\u001b[0;34m\u001b[0m\u001b[0;34m\u001b[0m\u001b[0m\n\u001b[0;32m--> 692\u001b[0;31m                 \u001b[0;32mraise\u001b[0m \u001b[0mvalue\u001b[0m\u001b[0;34m.\u001b[0m\u001b[0mwith_traceback\u001b[0m\u001b[0;34m(\u001b[0m\u001b[0mtb\u001b[0m\u001b[0;34m)\u001b[0m\u001b[0;34m\u001b[0m\u001b[0;34m\u001b[0m\u001b[0m\n\u001b[0m\u001b[1;32m    693\u001b[0m             \u001b[0;32mraise\u001b[0m \u001b[0mvalue\u001b[0m\u001b[0;34m\u001b[0m\u001b[0;34m\u001b[0m\u001b[0m\n\u001b[1;32m    694\u001b[0m         \u001b[0;32mfinally\u001b[0m\u001b[0;34m:\u001b[0m\u001b[0;34m\u001b[0m\u001b[0;34m\u001b[0m\u001b[0m\n",
      "\u001b[0;32m~/.local/share/virtualenvs/Stochastic-Optimization-g1LdcETT/lib/python3.7/site-packages/pyro/poutine/trace_messenger.py\u001b[0m in \u001b[0;36m__call__\u001b[0;34m(self, *args, **kwargs)\u001b[0m\n\u001b[1;32m    145\u001b[0m                                       args=args, kwargs=kwargs)\n\u001b[1;32m    146\u001b[0m             \u001b[0;32mtry\u001b[0m\u001b[0;34m:\u001b[0m\u001b[0;34m\u001b[0m\u001b[0;34m\u001b[0m\u001b[0m\n\u001b[0;32m--> 147\u001b[0;31m                 \u001b[0mret\u001b[0m \u001b[0;34m=\u001b[0m \u001b[0mself\u001b[0m\u001b[0;34m.\u001b[0m\u001b[0mfn\u001b[0m\u001b[0;34m(\u001b[0m\u001b[0;34m*\u001b[0m\u001b[0margs\u001b[0m\u001b[0;34m,\u001b[0m \u001b[0;34m**\u001b[0m\u001b[0mkwargs\u001b[0m\u001b[0;34m)\u001b[0m\u001b[0;34m\u001b[0m\u001b[0;34m\u001b[0m\u001b[0m\n\u001b[0m\u001b[1;32m    148\u001b[0m             \u001b[0;32mexcept\u001b[0m \u001b[0;34m(\u001b[0m\u001b[0mValueError\u001b[0m\u001b[0;34m,\u001b[0m \u001b[0mRuntimeError\u001b[0m\u001b[0;34m)\u001b[0m\u001b[0;34m:\u001b[0m\u001b[0;34m\u001b[0m\u001b[0;34m\u001b[0m\u001b[0m\n\u001b[1;32m    149\u001b[0m                 \u001b[0mexc_type\u001b[0m\u001b[0;34m,\u001b[0m \u001b[0mexc_value\u001b[0m\u001b[0;34m,\u001b[0m \u001b[0mtraceback\u001b[0m \u001b[0;34m=\u001b[0m \u001b[0msys\u001b[0m\u001b[0;34m.\u001b[0m\u001b[0mexc_info\u001b[0m\u001b[0;34m(\u001b[0m\u001b[0;34m)\u001b[0m\u001b[0;34m\u001b[0m\u001b[0;34m\u001b[0m\u001b[0m\n",
      "\u001b[0;32m<ipython-input-31-556bb1224d89>\u001b[0m in \u001b[0;36msleep_guide_delta\u001b[0;34m()\u001b[0m\n\u001b[1;32m      3\u001b[0m \u001b[0;32mdef\u001b[0m \u001b[0msleep_guide_delta\u001b[0m\u001b[0;34m(\u001b[0m\u001b[0;34m)\u001b[0m\u001b[0;34m:\u001b[0m\u001b[0;34m\u001b[0m\u001b[0;34m\u001b[0m\u001b[0m\n\u001b[1;32m      4\u001b[0m     \u001b[0mis_bool\u001b[0m \u001b[0;34m=\u001b[0m \u001b[0mconstraints\u001b[0m\u001b[0;34m.\u001b[0m\u001b[0mboolean\u001b[0m\u001b[0;34m\u001b[0m\u001b[0;34m\u001b[0m\u001b[0m\n\u001b[0;32m----> 5\u001b[0;31m     \u001b[0mfl\u001b[0m \u001b[0;34m=\u001b[0m \u001b[0mparam\u001b[0m\u001b[0;34m(\u001b[0m\u001b[0;34m'fl_p'\u001b[0m\u001b[0;34m,\u001b[0m \u001b[0mtensor\u001b[0m\u001b[0;34m(\u001b[0m\u001b[0;36m1.0\u001b[0m\u001b[0;34m)\u001b[0m\u001b[0;34m,\u001b[0m \u001b[0mconstraint\u001b[0m\u001b[0;34m=\u001b[0m\u001b[0mis_bool\u001b[0m\u001b[0;34m)\u001b[0m\u001b[0;34m\u001b[0m\u001b[0;34m\u001b[0m\u001b[0m\n\u001b[0m\u001b[1;32m      6\u001b[0m     \u001b[0mia\u001b[0m \u001b[0;34m=\u001b[0m \u001b[0mparam\u001b[0m\u001b[0;34m(\u001b[0m\u001b[0;34m'ia_p'\u001b[0m\u001b[0;34m,\u001b[0m \u001b[0mtensor\u001b[0m\u001b[0;34m(\u001b[0m\u001b[0;36m0.0\u001b[0m\u001b[0;34m)\u001b[0m\u001b[0;34m,\u001b[0m \u001b[0mconstraint\u001b[0m\u001b[0;34m=\u001b[0m\u001b[0mis_bool\u001b[0m\u001b[0;34m)\u001b[0m\u001b[0;34m\u001b[0m\u001b[0;34m\u001b[0m\u001b[0m\n\u001b[1;32m      7\u001b[0m     \u001b[0mfeeling_lazy\u001b[0m \u001b[0;34m=\u001b[0m \u001b[0msample\u001b[0m\u001b[0;34m(\u001b[0m\u001b[0;34m\"feeling_lazy\"\u001b[0m\u001b[0;34m,\u001b[0m \u001b[0mdist\u001b[0m\u001b[0;34m.\u001b[0m\u001b[0mDelta\u001b[0m\u001b[0;34m(\u001b[0m\u001b[0mfl\u001b[0m\u001b[0;34m)\u001b[0m\u001b[0;34m)\u001b[0m\u001b[0;34m\u001b[0m\u001b[0;34m\u001b[0m\u001b[0m\n",
      "\u001b[0;32m~/.local/share/virtualenvs/Stochastic-Optimization-g1LdcETT/lib/python3.7/site-packages/pyro/primitives.py\u001b[0m in \u001b[0;36mparam\u001b[0;34m(name, *args, **kwargs)\u001b[0m\n\u001b[1;32m     58\u001b[0m     \"\"\"\n\u001b[1;32m     59\u001b[0m     \u001b[0mkwargs\u001b[0m\u001b[0;34m[\u001b[0m\u001b[0;34m\"name\"\u001b[0m\u001b[0;34m]\u001b[0m \u001b[0;34m=\u001b[0m \u001b[0mname\u001b[0m\u001b[0;34m\u001b[0m\u001b[0;34m\u001b[0m\u001b[0m\n\u001b[0;32m---> 60\u001b[0;31m     \u001b[0;32mreturn\u001b[0m \u001b[0m_param\u001b[0m\u001b[0;34m(\u001b[0m\u001b[0mname\u001b[0m\u001b[0;34m,\u001b[0m \u001b[0;34m*\u001b[0m\u001b[0margs\u001b[0m\u001b[0;34m,\u001b[0m \u001b[0;34m**\u001b[0m\u001b[0mkwargs\u001b[0m\u001b[0;34m)\u001b[0m\u001b[0;34m\u001b[0m\u001b[0;34m\u001b[0m\u001b[0m\n\u001b[0m\u001b[1;32m     61\u001b[0m \u001b[0;34m\u001b[0m\u001b[0m\n\u001b[1;32m     62\u001b[0m \u001b[0;34m\u001b[0m\u001b[0m\n",
      "\u001b[0;32m~/.local/share/virtualenvs/Stochastic-Optimization-g1LdcETT/lib/python3.7/site-packages/pyro/poutine/runtime.py\u001b[0m in \u001b[0;36m_fn\u001b[0;34m(*args, **kwargs)\u001b[0m\n\u001b[1;32m    257\u001b[0m             }\n\u001b[1;32m    258\u001b[0m             \u001b[0;31m# apply the stack and return its return value\u001b[0m\u001b[0;34m\u001b[0m\u001b[0;34m\u001b[0m\u001b[0;34m\u001b[0m\u001b[0m\n\u001b[0;32m--> 259\u001b[0;31m             \u001b[0mapply_stack\u001b[0m\u001b[0;34m(\u001b[0m\u001b[0mmsg\u001b[0m\u001b[0;34m)\u001b[0m\u001b[0;34m\u001b[0m\u001b[0;34m\u001b[0m\u001b[0m\n\u001b[0m\u001b[1;32m    260\u001b[0m             \u001b[0;32mreturn\u001b[0m \u001b[0mmsg\u001b[0m\u001b[0;34m[\u001b[0m\u001b[0;34m\"value\"\u001b[0m\u001b[0;34m]\u001b[0m\u001b[0;34m\u001b[0m\u001b[0;34m\u001b[0m\u001b[0m\n\u001b[1;32m    261\u001b[0m     \u001b[0m_fn\u001b[0m\u001b[0;34m.\u001b[0m\u001b[0m_is_effectful\u001b[0m \u001b[0;34m=\u001b[0m \u001b[0;32mTrue\u001b[0m\u001b[0;34m\u001b[0m\u001b[0;34m\u001b[0m\u001b[0m\n",
      "\u001b[0;32m~/.local/share/virtualenvs/Stochastic-Optimization-g1LdcETT/lib/python3.7/site-packages/pyro/poutine/runtime.py\u001b[0m in \u001b[0;36mapply_stack\u001b[0;34m(initial_msg)\u001b[0m\n\u001b[1;32m    193\u001b[0m             \u001b[0;32mbreak\u001b[0m\u001b[0;34m\u001b[0m\u001b[0;34m\u001b[0m\u001b[0m\n\u001b[1;32m    194\u001b[0m \u001b[0;34m\u001b[0m\u001b[0m\n\u001b[0;32m--> 195\u001b[0;31m     \u001b[0mdefault_process_message\u001b[0m\u001b[0;34m(\u001b[0m\u001b[0mmsg\u001b[0m\u001b[0;34m)\u001b[0m\u001b[0;34m\u001b[0m\u001b[0;34m\u001b[0m\u001b[0m\n\u001b[0m\u001b[1;32m    196\u001b[0m \u001b[0;34m\u001b[0m\u001b[0m\n\u001b[1;32m    197\u001b[0m     \u001b[0;32mfor\u001b[0m \u001b[0mframe\u001b[0m \u001b[0;32min\u001b[0m \u001b[0mstack\u001b[0m\u001b[0;34m[\u001b[0m\u001b[0;34m-\u001b[0m\u001b[0mpointer\u001b[0m\u001b[0;34m:\u001b[0m\u001b[0;34m]\u001b[0m\u001b[0;34m:\u001b[0m  \u001b[0;31m# reversed(stack[0:pointer])\u001b[0m\u001b[0;34m\u001b[0m\u001b[0;34m\u001b[0m\u001b[0m\n",
      "\u001b[0;32m~/.local/share/virtualenvs/Stochastic-Optimization-g1LdcETT/lib/python3.7/site-packages/pyro/poutine/runtime.py\u001b[0m in \u001b[0;36mdefault_process_message\u001b[0;34m(msg)\u001b[0m\n\u001b[1;32m    154\u001b[0m         \u001b[0;32mreturn\u001b[0m \u001b[0mmsg\u001b[0m\u001b[0;34m\u001b[0m\u001b[0;34m\u001b[0m\u001b[0m\n\u001b[1;32m    155\u001b[0m \u001b[0;34m\u001b[0m\u001b[0m\n\u001b[0;32m--> 156\u001b[0;31m     \u001b[0mmsg\u001b[0m\u001b[0;34m[\u001b[0m\u001b[0;34m\"value\"\u001b[0m\u001b[0;34m]\u001b[0m \u001b[0;34m=\u001b[0m \u001b[0mmsg\u001b[0m\u001b[0;34m[\u001b[0m\u001b[0;34m\"fn\"\u001b[0m\u001b[0;34m]\u001b[0m\u001b[0;34m(\u001b[0m\u001b[0;34m*\u001b[0m\u001b[0mmsg\u001b[0m\u001b[0;34m[\u001b[0m\u001b[0;34m\"args\"\u001b[0m\u001b[0;34m]\u001b[0m\u001b[0;34m,\u001b[0m \u001b[0;34m**\u001b[0m\u001b[0mmsg\u001b[0m\u001b[0;34m[\u001b[0m\u001b[0;34m\"kwargs\"\u001b[0m\u001b[0;34m]\u001b[0m\u001b[0;34m)\u001b[0m\u001b[0;34m\u001b[0m\u001b[0;34m\u001b[0m\u001b[0m\n\u001b[0m\u001b[1;32m    157\u001b[0m \u001b[0;34m\u001b[0m\u001b[0m\n\u001b[1;32m    158\u001b[0m     \u001b[0;31m# after fn has been called, update msg to prevent it from being called again.\u001b[0m\u001b[0;34m\u001b[0m\u001b[0;34m\u001b[0m\u001b[0;34m\u001b[0m\u001b[0m\n",
      "\u001b[0;32m~/.local/share/virtualenvs/Stochastic-Optimization-g1LdcETT/lib/python3.7/site-packages/pyro/params/param_store.py\u001b[0m in \u001b[0;36mget_param\u001b[0;34m(self, name, init_tensor, constraint, event_dim)\u001b[0m\n\u001b[1;32m    203\u001b[0m             \u001b[0;32mreturn\u001b[0m \u001b[0mself\u001b[0m\u001b[0;34m[\u001b[0m\u001b[0mname\u001b[0m\u001b[0;34m]\u001b[0m\u001b[0;34m\u001b[0m\u001b[0;34m\u001b[0m\u001b[0m\n\u001b[1;32m    204\u001b[0m         \u001b[0;32melse\u001b[0m\u001b[0;34m:\u001b[0m\u001b[0;34m\u001b[0m\u001b[0;34m\u001b[0m\u001b[0m\n\u001b[0;32m--> 205\u001b[0;31m             \u001b[0;32mreturn\u001b[0m \u001b[0mself\u001b[0m\u001b[0;34m.\u001b[0m\u001b[0msetdefault\u001b[0m\u001b[0;34m(\u001b[0m\u001b[0mname\u001b[0m\u001b[0;34m,\u001b[0m \u001b[0minit_tensor\u001b[0m\u001b[0;34m,\u001b[0m \u001b[0mconstraint\u001b[0m\u001b[0;34m)\u001b[0m\u001b[0;34m\u001b[0m\u001b[0;34m\u001b[0m\u001b[0m\n\u001b[0m\u001b[1;32m    206\u001b[0m \u001b[0;34m\u001b[0m\u001b[0m\n\u001b[1;32m    207\u001b[0m     \u001b[0;32mdef\u001b[0m \u001b[0mmatch\u001b[0m\u001b[0;34m(\u001b[0m\u001b[0mself\u001b[0m\u001b[0;34m,\u001b[0m \u001b[0mname\u001b[0m\u001b[0;34m)\u001b[0m\u001b[0;34m:\u001b[0m\u001b[0;34m\u001b[0m\u001b[0;34m\u001b[0m\u001b[0m\n",
      "\u001b[0;32m~/.local/share/virtualenvs/Stochastic-Optimization-g1LdcETT/lib/python3.7/site-packages/pyro/params/param_store.py\u001b[0m in \u001b[0;36msetdefault\u001b[0;34m(self, name, init_constrained_value, constraint)\u001b[0m\n\u001b[1;32m    158\u001b[0m \u001b[0;34m\u001b[0m\u001b[0m\n\u001b[1;32m    159\u001b[0m             \u001b[0;31m# set the initial value\u001b[0m\u001b[0;34m\u001b[0m\u001b[0;34m\u001b[0m\u001b[0;34m\u001b[0m\u001b[0m\n\u001b[0;32m--> 160\u001b[0;31m             \u001b[0mself\u001b[0m\u001b[0;34m[\u001b[0m\u001b[0mname\u001b[0m\u001b[0;34m]\u001b[0m \u001b[0;34m=\u001b[0m \u001b[0minit_constrained_value\u001b[0m\u001b[0;34m\u001b[0m\u001b[0;34m\u001b[0m\u001b[0m\n\u001b[0m\u001b[1;32m    161\u001b[0m \u001b[0;34m\u001b[0m\u001b[0m\n\u001b[1;32m    162\u001b[0m         \u001b[0;31m# get the param, which is guaranteed to exist\u001b[0m\u001b[0;34m\u001b[0m\u001b[0;34m\u001b[0m\u001b[0;34m\u001b[0m\u001b[0m\n",
      "\u001b[0;32m~/.local/share/virtualenvs/Stochastic-Optimization-g1LdcETT/lib/python3.7/site-packages/pyro/params/param_store.py\u001b[0m in \u001b[0;36m__setitem__\u001b[0;34m(self, name, new_constrained_value)\u001b[0m\n\u001b[1;32m    120\u001b[0m         \u001b[0;32mwith\u001b[0m \u001b[0mtorch\u001b[0m\u001b[0;34m.\u001b[0m\u001b[0mno_grad\u001b[0m\u001b[0;34m(\u001b[0m\u001b[0;34m)\u001b[0m\u001b[0;34m:\u001b[0m\u001b[0;34m\u001b[0m\u001b[0;34m\u001b[0m\u001b[0m\n\u001b[1;32m    121\u001b[0m             \u001b[0;31m# FIXME should we .detach() the new_constrained_value?\u001b[0m\u001b[0;34m\u001b[0m\u001b[0;34m\u001b[0m\u001b[0;34m\u001b[0m\u001b[0m\n\u001b[0;32m--> 122\u001b[0;31m             \u001b[0munconstrained_value\u001b[0m \u001b[0;34m=\u001b[0m \u001b[0mtransform_to\u001b[0m\u001b[0;34m(\u001b[0m\u001b[0mconstraint\u001b[0m\u001b[0;34m)\u001b[0m\u001b[0;34m.\u001b[0m\u001b[0minv\u001b[0m\u001b[0;34m(\u001b[0m\u001b[0mnew_constrained_value\u001b[0m\u001b[0;34m)\u001b[0m\u001b[0;34m\u001b[0m\u001b[0;34m\u001b[0m\u001b[0m\n\u001b[0m\u001b[1;32m    123\u001b[0m             \u001b[0munconstrained_value\u001b[0m \u001b[0;34m=\u001b[0m \u001b[0munconstrained_value\u001b[0m\u001b[0;34m.\u001b[0m\u001b[0mcontiguous\u001b[0m\u001b[0;34m(\u001b[0m\u001b[0;34m)\u001b[0m\u001b[0;34m\u001b[0m\u001b[0;34m\u001b[0m\u001b[0m\n\u001b[1;32m    124\u001b[0m         \u001b[0munconstrained_value\u001b[0m\u001b[0;34m.\u001b[0m\u001b[0mrequires_grad_\u001b[0m\u001b[0;34m(\u001b[0m\u001b[0;32mTrue\u001b[0m\u001b[0;34m)\u001b[0m\u001b[0;34m\u001b[0m\u001b[0;34m\u001b[0m\u001b[0m\n",
      "\u001b[0;32m~/.local/share/virtualenvs/Stochastic-Optimization-g1LdcETT/lib/python3.7/site-packages/torch/distributions/constraint_registry.py\u001b[0m in \u001b[0;36m__call__\u001b[0;34m(self, constraint)\u001b[0m\n\u001b[1;32m    141\u001b[0m         \u001b[0;32mexcept\u001b[0m \u001b[0mKeyError\u001b[0m\u001b[0;34m:\u001b[0m\u001b[0;34m\u001b[0m\u001b[0;34m\u001b[0m\u001b[0m\n\u001b[1;32m    142\u001b[0m             raise NotImplementedError(\n\u001b[0;32m--> 143\u001b[0;31m                 'Cannot transform {} constraints'.format(type(constraint).__name__))\n\u001b[0m\u001b[1;32m    144\u001b[0m         \u001b[0;32mreturn\u001b[0m \u001b[0mfactory\u001b[0m\u001b[0;34m(\u001b[0m\u001b[0mconstraint\u001b[0m\u001b[0;34m)\u001b[0m\u001b[0;34m\u001b[0m\u001b[0;34m\u001b[0m\u001b[0m\n\u001b[1;32m    145\u001b[0m \u001b[0;34m\u001b[0m\u001b[0m\n",
      "\u001b[0;31mNotImplementedError\u001b[0m: Cannot transform _Boolean constraints\nTrace Shapes:\n Param Sites:\nSample Sites:"
     ]
    }
   ],
   "source": [
    "clear_param_store()\n",
    "\n",
    "def sleep_guide_delta():\n",
    "    is_bool = constraints.boolean\n",
    "    fl = param('fl_p', tensor(1.0), constraint=is_bool)\n",
    "    ia = param('ia_p', tensor(0.0), constraint=is_bool)\n",
    "    feeling_lazy = sample(\"feeling_lazy\", dist.Delta(fl))\n",
    "    if feeling_lazy == 1.0:\n",
    "        sample(\"ignore_alarm\", dist.Delta(ia))\n",
    "\n",
    "svi = SVI(underslept, sleep_guide_delta, adam, loss=Trace_ELBO())\n",
    "svi.step() # NotImplementedError: Cannot transform _Boolean constraints"
   ]
  },
  {
   "cell_type": "markdown",
   "metadata": {},
   "source": []
  },
  {
   "cell_type": "markdown",
   "metadata": {},
   "source": []
  }
 ],
 "metadata": {
  "kernelspec": {
   "display_name": "Python 3",
   "language": "python",
   "name": "python3"
  },
  "language_info": {
   "codemirror_mode": {
    "name": "ipython",
    "version": 3
   },
   "file_extension": ".py",
   "mimetype": "text/x-python",
   "name": "python",
   "nbconvert_exporter": "python",
   "pygments_lexer": "ipython3",
   "version": "3.7.3"
  },
  "toc": {
   "base_numbering": 1,
   "nav_menu": {},
   "number_sections": true,
   "sideBar": true,
   "skip_h1_title": false,
   "title_cell": "Table of Contents",
   "title_sidebar": "Contents",
   "toc_cell": false,
   "toc_position": {},
   "toc_section_display": true,
   "toc_window_display": false
  },
  "varInspector": {
   "cols": {
    "lenName": 16,
    "lenType": 16,
    "lenVar": 40
   },
   "kernels_config": {
    "python": {
     "delete_cmd_postfix": "",
     "delete_cmd_prefix": "del ",
     "library": "var_list.py",
     "varRefreshCmd": "print(var_dic_list())"
    },
    "r": {
     "delete_cmd_postfix": ") ",
     "delete_cmd_prefix": "rm(",
     "library": "var_list.r",
     "varRefreshCmd": "cat(var_dic_list()) "
    }
   },
   "types_to_exclude": [
    "module",
    "function",
    "builtin_function_or_method",
    "instance",
    "_Feature"
   ],
   "window_display": false
  }
 },
 "nbformat": 4,
 "nbformat_minor": 2
}
