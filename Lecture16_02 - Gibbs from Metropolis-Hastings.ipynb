{
 "cells": [
  {
   "cell_type": "markdown",
   "metadata": {},
   "source": [
    "<h2>Summary</h2>\n",
    "<p>\n",
    "    We show that Gibbs is a special case of a MH sampler with proposal distribution a conditional on one variable holding all others constant.\n",
    "</p>\n",
    "\n",
    "<p>We need to show that Gibbs Sampling converges to our target distribution. We start with a componentwise MH update.</p>\n",
    "\n",
    "<p>We shall use the following notation, assuming that $x$ is multidimensional: $x_{k}^i$ is the $k$th component of $x$ at $i$th step, while $x_{-k}^i$ is all other componets of $x$ at the same step.</p>\n",
    "\n",
    "<p>Now consider the following proposal function:</p>\n",
    "\n",
    "$$\n",
    "q_k(x^* \\vert x^i) = \\begin{cases} p(x_k^* \\vert x_{-k}^i) & for \\,\\,x_{-k}^* = x_{-k}^i,\\\\ 0 & otherwise \\end{cases} $$\n",
    "\n",
    "<p><img src=\"../images/gibbsograph.png\" alt=\"\" /></p>\n",
    "\n",
    "<p>In other words, you propose from the conditional distribution of the current component, given a fixed $x_{old}$ value of the other components.  You keep all the other component values the same. If you change any of the old component values, the proposal probability is 0. This should remind you of componentwise updating in MH (and block, as $k$ could represent a block). Now you see where this conditional takes you in the $x_k$ direction.</p>\n",
    "\n",
    "<p>Under this proposal distribution, let us see what our MH acceptance probability term:</p>\n",
    "\n",
    "$$A = min(1, \\frac{p(x^*)}{p(x^i)}\\,\\frac{q_k(x^i \\vert x^*)}{q_k(x^* \\vert x^i)})$$\n",
    "\n",
    "<p>gives us. We use $p(x^*) = p(x_{-k}^*, x_k^*) = p(x_{k}^* \\vert  x_{-k}^*)p(x_{-k}^*)$ to obtain</p>\n",
    "\n",
    "$$A = min(1, \\frac{p(x_{k}^* \\vert  x_{-k}^*)p(x_{-k}^*)}{p(x_{k}^i \\vert  x_{-k}^i)p(x_{-k}^i)}\\,\\frac{q_k(x^i \\vert x^*)}{q_k(x^* \\vert x^i)})$$\n",
    "\n",
    "<p>Putting in the definition of the proposal, we get</p>\n",
    "\n",
    "$$A = min(1, \\frac{p(x_{k}^* \\vert  x_{-k}^*)p(x_{-k}^*)}{p(x_{k}^i \\vert  x_{-k}^i)p(x_{-k}^i)}\\,\\frac{p(x_k^i \\vert x_{-k}^*)}{p(x_k^* \\vert x_{-k}^i)})$$\n",
    "\n",
    "<p>Now, because of the componentwise update, $x_{-k}^* = x_{-k}^i$ and thus we get the middle 2 terms in the numerator and denominator cancelling, and the 1st and 3rd terms from the numerator cancelling the 3rd and 1st terms respectively. Thus our acceptance probability is 1.</p>\n",
    "\n",
    "<p>We have constructed a MH sampler with no rejection!!</p>"
   ]
  },
  {
   "cell_type": "code",
   "execution_count": null,
   "metadata": {},
   "outputs": [],
   "source": []
  }
 ],
 "metadata": {
  "kernelspec": {
   "display_name": "Python 3",
   "language": "python",
   "name": "python3"
  },
  "language_info": {
   "codemirror_mode": {
    "name": "ipython",
    "version": 3
   },
   "file_extension": ".py",
   "mimetype": "text/x-python",
   "name": "python",
   "nbconvert_exporter": "python",
   "pygments_lexer": "ipython3",
   "version": "3.7.3"
  }
 },
 "nbformat": 4,
 "nbformat_minor": 2
}
