{
 "cells": [
  {
   "cell_type": "code",
   "execution_count": 8,
   "metadata": {},
   "outputs": [],
   "source": [
    "import torch\n",
    "import pyro\n",
    "import pyro.distributions as p\n",
    "from pyro import infer, optim\n",
    "from pyro.infer import mcmc\n",
    "import random\n",
    "import matplotlib.pyplot as plt"
   ]
  },
  {
   "cell_type": "markdown",
   "metadata": {},
   "source": [
    "Lets generate some simple data first <br>\n",
    "I just generate some coinflips from a biased coin"
   ]
  },
  {
   "cell_type": "code",
   "execution_count": 16,
   "metadata": {},
   "outputs": [],
   "source": [
    "def generate_flips(n, prob=[0.8]):\n",
    "    flips = p.Bernoulli(torch.tensor(prob)).expand([n]).sample()\n",
    "    return flips\n",
    "\n",
    "flips = generate_flips(100)"
   ]
  },
  {
   "cell_type": "markdown",
   "metadata": {},
   "source": [
    "Now lets make an easy generative model for the coin flips where <br>\n",
    "we assume a normal prior on the bernouilli distribution"
   ]
  },
  {
   "cell_type": "code",
   "execution_count": 17,
   "metadata": {},
   "outputs": [],
   "source": [
    "def model(data=None):\n",
    "    # we initially assume 0.5 and 1 and this is only used for initialization and \n",
    "    # overwritten by the guide later\n",
    "    bernouilli_param = pyro.sample('bernouilli', p.Normal(0.5, 1))\n",
    "    \n",
    "    # now we generate the coinflips and compare \n",
    "    # the plate gives us conditionally independence what we ofcourse want\n",
    "    # since the flips should be conditionally independence given the bernouilli value\n",
    "    for i in pyro.plate('flips', len(data)):\n",
    "        # sample a flip\n",
    "        pyro.sample(f'flip{i}', p.Bernoulli(bernouilli_param), obs=data[i])\n",
    "    \n",
    "        "
   ]
  },
  {
   "cell_type": "code",
   "execution_count": 18,
   "metadata": {},
   "outputs": [
    {
     "name": "stderr",
     "output_type": "stream",
     "text": [
      "Sample: 100%|██████████| 1300/1300 [00:59<00:00, 21.86it/s, step size=1.29e+00, acc. rate=0.875]\n"
     ]
    },
    {
     "data": {
      "text/plain": [
       "tensor(0.8404)"
      ]
     },
     "execution_count": 18,
     "metadata": {},
     "output_type": "execute_result"
    }
   ],
   "source": [
    "hmc_kernel = mcmc.HMC(model, step_size=0.0855, num_steps=4)\n",
    "mcmc_run = mcmc.MCMC(hmc_kernel, num_samples=1000, warmup_steps=300).run(flips)\n",
    "posterior = mcmc_run.marginal('bernouilli').empirical['bernouilli']\n",
    "posterior.mean "
   ]
  },
  {
   "cell_type": "code",
   "execution_count": 21,
   "metadata": {},
   "outputs": [
    {
     "name": "stderr",
     "output_type": "stream",
     "text": [
      "Sample: 100%|██████████| 1300/1300 [01:43<00:00, 12.60it/s, step size=1.15e+00, acc. rate=0.876]\n"
     ]
    },
    {
     "data": {
      "text/plain": [
       "tensor(0.8418)"
      ]
     },
     "execution_count": 21,
     "metadata": {},
     "output_type": "execute_result"
    }
   ],
   "source": [
    "nuts_kernel = mcmc.NUTS(model, adapt_step_size=True)\n",
    "mcmc_run = mcmc.MCMC(nuts_kernel, num_samples=1000, warmup_steps=300).run(flips)\n",
    "posterior = mcmc_run.marginal('bernouilli').empirical['bernouilli']\n",
    "posterior.mean "
   ]
  }
 ],
 "metadata": {
  "kernelspec": {
   "display_name": "Python 3",
   "language": "python",
   "name": "python3"
  },
  "language_info": {
   "codemirror_mode": {
    "name": "ipython",
    "version": 3
   },
   "file_extension": ".py",
   "mimetype": "text/x-python",
   "name": "python",
   "nbconvert_exporter": "python",
   "pygments_lexer": "ipython3",
   "version": "3.6.8"
  }
 },
 "nbformat": 4,
 "nbformat_minor": 2
}
