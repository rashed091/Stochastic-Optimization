{
 "cells": [
  {
   "cell_type": "code",
   "execution_count": 1,
   "metadata": {},
   "outputs": [],
   "source": [
    "import numpy as np\n",
    "import matplotlib.pyplot as plt\n",
    "import pandas as pd\n",
    "import seaborn as sns\n",
    "import torch\n",
    "import pyro\n",
    "import pyro.distributions as dist\n",
    "from pyro import poutine\n",
    "from pyro.optim import Adam\n",
    "from pyro.infer import SVI, TraceEnum_ELBO\n",
    "from pyro.contrib.autoguide import AutoDelta \n",
    "from tqdm import tqdm"
   ]
  },
  {
   "cell_type": "code",
   "execution_count": 2,
   "metadata": {},
   "outputs": [
    {
     "data": {
      "text/html": [
       "<div>\n",
       "<style scoped>\n",
       "    .dataframe tbody tr th:only-of-type {\n",
       "        vertical-align: middle;\n",
       "    }\n",
       "\n",
       "    .dataframe tbody tr th {\n",
       "        vertical-align: top;\n",
       "    }\n",
       "\n",
       "    .dataframe thead th {\n",
       "        text-align: right;\n",
       "    }\n",
       "</style>\n",
       "<table border=\"1\" class=\"dataframe\">\n",
       "  <thead>\n",
       "    <tr style=\"text-align: right;\">\n",
       "      <th></th>\n",
       "      <th>country</th>\n",
       "      <th>wine</th>\n",
       "      <th>beer</th>\n",
       "    </tr>\n",
       "  </thead>\n",
       "  <tbody>\n",
       "    <tr>\n",
       "      <th>0</th>\n",
       "      <td>Afghanistan</td>\n",
       "      <td>0</td>\n",
       "      <td>0</td>\n",
       "    </tr>\n",
       "    <tr>\n",
       "      <th>1</th>\n",
       "      <td>Albania</td>\n",
       "      <td>89</td>\n",
       "      <td>54</td>\n",
       "    </tr>\n",
       "    <tr>\n",
       "      <th>2</th>\n",
       "      <td>Algeria</td>\n",
       "      <td>25</td>\n",
       "      <td>14</td>\n",
       "    </tr>\n",
       "    <tr>\n",
       "      <th>3</th>\n",
       "      <td>Andorra</td>\n",
       "      <td>245</td>\n",
       "      <td>312</td>\n",
       "    </tr>\n",
       "    <tr>\n",
       "      <th>4</th>\n",
       "      <td>Angola</td>\n",
       "      <td>217</td>\n",
       "      <td>45</td>\n",
       "    </tr>\n",
       "  </tbody>\n",
       "</table>\n",
       "</div>"
      ],
      "text/plain": [
       "       country  wine  beer\n",
       "0  Afghanistan     0     0\n",
       "1      Albania    89    54\n",
       "2      Algeria    25    14\n",
       "3      Andorra   245   312\n",
       "4       Angola   217    45"
      ]
     },
     "execution_count": 2,
     "metadata": {},
     "output_type": "execute_result"
    }
   ],
   "source": [
    "data = pd.read_csv(\"data/drinks/drinks.csv\", usecols=[\"country\", \"wine_servings\", \"beer_servings\"])\n",
    "data.columns = ['country', 'wine', 'beer']\n",
    "data.head()"
   ]
  },
  {
   "cell_type": "code",
   "execution_count": 3,
   "metadata": {},
   "outputs": [
    {
     "data": {
      "image/png": "[encoded data removed]",
      "text/plain": [
       "<Figure size 432x288 with 1 Axes>"
      ]
     },
     "metadata": {
      "needs_background": "light"
     },
     "output_type": "display_data"
    }
   ],
   "source": [
    "data.plot.scatter(x='wine', y='beer')\n",
    "plt.show()"
   ]
  },
  {
   "cell_type": "code",
   "execution_count": 4,
   "metadata": {},
   "outputs": [],
   "source": [
    "def model(drinks):\n",
    "    cluster_means_pr = torch.tensor([[5.0, 5.0], [100.0, 250.0], [100.0, 100.0]])\n",
    "    cluster_variance_pr = torch.eye(2) * 100\n",
    "    prior_cluster_as = torch.tensor([1.0, 100.0, 100.0])\n",
    "    ws = pyro.sample('ws', dist.Dirichlet(prior_cluster_as))\n",
    "    cluster_means = pyro.sample('cluster_means', dist.MultivariateNormal(cluster_means_pr, cluster_variance_pr).to_event())\n",
    "    cluster_variances = pyro.sample('cluster_variances', dist.HalfNormal(1.0).expand_by([3,2]).to_event()) + 1e-8\n",
    "    with pyro.plate('drinks', dim=-1):\n",
    "        cluster = pyro.sample('cluster', dist.Categorical(ws), infer=dict(enumerate='parallel'))\n",
    "        pyro.sample('obs', dist.MultivariateNormal(cluster_means[cluster], torch.diag_embed(cluster_variances[cluster])), obs=drinks.float())"
   ]
  },
  {
   "cell_type": "code",
   "execution_count": 5,
   "metadata": {},
   "outputs": [
    {
     "data": {
      "text/plain": [
       "1897142.5"
      ]
     },
     "execution_count": 5,
     "metadata": {},
     "output_type": "execute_result"
    }
   ],
   "source": [
    "guide = AutoDelta(poutine.block(model, hide='cluster'))\n",
    "wine = torch.tensor(data['wine'].values)\n",
    "beer = torch.tensor(data['beer'].values)\n",
    "drinks = torch.stack([wine, beer], dim=-1)\n",
    "optim = Adam(dict(lr=1.0))\n",
    "loss = TraceEnum_ELBO()\n",
    "svi = SVI(model, guide, optim, loss)\n",
    "svi.evaluate_loss(drinks)"
   ]
  },
  {
   "cell_type": "code",
   "execution_count": 6,
   "metadata": {},
   "outputs": [
    {
     "name": "stderr",
     "output_type": "stream",
     "text": [
      "Epoch 1999: 15591.384765625: 100%|██████████| 2000/2000 [01:45<00:00, 19.17it/s] \n"
     ]
    }
   ],
   "source": [
    "progress = tqdm(range(2000))\n",
    "for i in progress:\n",
    "    loss = svi.step(drinks)\n",
    "    progress.set_description(f\"Epoch {i}: {loss}\")"
   ]
  },
  {
   "cell_type": "code",
   "execution_count": 7,
   "metadata": {},
   "outputs": [
    {
     "data": {
      "text/plain": [
       "<matplotlib.axes._subplots.AxesSubplot at 0x1a1c3fb4e0>"
      ]
     },
     "execution_count": 7,
     "metadata": {},
     "output_type": "execute_result"
    },
    {
     "data": {
      "image/png": "[encoded data removed]",
      "text/plain": [
       "<Figure size 432x288 with 1 Axes>"
      ]
     },
     "metadata": {
      "needs_background": "light"
     },
     "output_type": "display_data"
    }
   ],
   "source": [
    "pred_cluster = torch.stack(\n",
    "    [pyro.param('auto_ws')[cl] + \n",
    "     dist.MultivariateNormal(pyro.param('auto_cluster_means')[cl], \n",
    "                             torch.diag_embed(pyro.param('auto_cluster_variances')[cl]))\n",
    "     .log_prob(drinks.float()) for cl in range(3)], dim=-1).argmax(dim=-1)\n",
    "df = pd.DataFrame(dict(wine=data['wine'], beer=data['beer'], pred=pred_cluster.numpy()))\n",
    "col = df['pred'].map({0: 'r', 1:'b', 2:'g'})\n",
    "df.plot.scatter(x='wine', y='beer', color=col)"
   ]
  },
  {
   "cell_type": "code",
   "execution_count": null,
   "metadata": {},
   "outputs": [],
   "source": []
  }
 ],
 "metadata": {
  "kernelspec": {
   "display_name": "Python 2",
   "language": "python",
   "name": "python2"
  },
  "language_info": {
   "codemirror_mode": {
    "name": "ipython",
    "version": 3
   },
   "file_extension": ".py",
   "mimetype": "text/x-python",
   "name": "python",
   "nbconvert_exporter": "python",
   "pygments_lexer": "ipython3",
   "version": "3.7.3"
  }
 },
 "nbformat": 4,
 "nbformat_minor": 1
}
