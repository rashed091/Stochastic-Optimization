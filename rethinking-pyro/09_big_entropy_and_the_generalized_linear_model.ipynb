{
 "cells": [
  {
   "cell_type": "markdown",
   "metadata": {},
   "source": [
    "# Chapter 9. Big Entropy and the Generalized Linear Model"
   ]
  },
  {
   "cell_type": "code",
   "execution_count": 1,
   "metadata": {},
   "outputs": [],
   "source": [
    "import seaborn as sns\n",
    "import torch\n",
    "\n",
    "import pyro\n",
    "\n",
    "import rethinking"
   ]
  },
  {
   "cell_type": "markdown",
   "metadata": {},
   "source": [
    "### Code 9.1"
   ]
  },
  {
   "cell_type": "code",
   "execution_count": 2,
   "metadata": {},
   "outputs": [],
   "source": [
    "p = {}\n",
    "p[\"A\"] = torch.tensor([0., 0, 10, 0, 0])\n",
    "p[\"B\"] = torch.tensor([0., 1, 8, 1, 0])\n",
    "p[\"C\"] = torch.tensor([0., 2, 6, 2, 0])\n",
    "p[\"D\"] = torch.tensor([1., 2, 4, 2, 1])\n",
    "p[\"E\"] = torch.tensor([2., 2, 2, 2, 2])"
   ]
  },
  {
   "cell_type": "markdown",
   "metadata": {},
   "source": [
    "### Code 9.2"
   ]
  },
  {
   "cell_type": "code",
   "execution_count": 3,
   "metadata": {},
   "outputs": [],
   "source": [
    "p_norm = {key: (q / q.sum()) for key, q in p.items()}"
   ]
  },
  {
   "cell_type": "markdown",
   "metadata": {},
   "source": [
    "### Code 9.3"
   ]
  },
  {
   "cell_type": "code",
   "execution_count": 4,
   "metadata": {},
   "outputs": [
    {
     "data": {
      "text/plain": [
       "{'A': tensor(-0.),\n",
       " 'B': tensor(0.6390),\n",
       " 'C': tensor(0.9503),\n",
       " 'D': tensor(1.4708),\n",
       " 'E': tensor(1.6094)}"
      ]
     },
     "execution_count": 4,
     "metadata": {},
     "output_type": "execute_result"
    }
   ],
   "source": [
    "H = {key: -torch.where(q == 0, torch.tensor(0.), q * q.log()).sum()\n",
    "     for key, q in p_norm.items()}\n",
    "H"
   ]
  },
  {
   "cell_type": "markdown",
   "metadata": {},
   "source": [
    "### Code 9.4"
   ]
  },
  {
   "cell_type": "code",
   "execution_count": 5,
   "metadata": {},
   "outputs": [],
   "source": [
    "ways = torch.tensor([1., 90, 1260, 37800, 113400])\n",
    "logwayspp = ways.log() / 10"
   ]
  },
  {
   "cell_type": "markdown",
   "metadata": {},
   "source": [
    "### Code 9.5"
   ]
  },
  {
   "cell_type": "code",
   "execution_count": 6,
   "metadata": {},
   "outputs": [
    {
     "data": {
      "text/plain": [
       "tensor([1., 1., 1., 1.])"
      ]
     },
     "execution_count": 6,
     "metadata": {},
     "output_type": "execute_result"
    }
   ],
   "source": [
    "# build tensor of the candidate distributions\n",
    "p = torch.empty(4, 4)\n",
    "p[0] = torch.tensor([1/4, 1/4, 1/4, 1/4])\n",
    "p[1] = torch.tensor([2/6, 1/6, 1/6, 2/6])\n",
    "p[2] = torch.tensor([1/6, 2/6, 2/6, 1/6])\n",
    "p[3] = torch.tensor([1/8, 4/8, 2/8, 1/8])\n",
    "\n",
    "# compute expected value of each\n",
    "(p * torch.tensor([0., 1, 1, 2])).sum(1)"
   ]
  },
  {
   "cell_type": "markdown",
   "metadata": {},
   "source": [
    "### Code 9.6"
   ]
  },
  {
   "cell_type": "code",
   "execution_count": 7,
   "metadata": {},
   "outputs": [
    {
     "data": {
      "text/plain": [
       "tensor([1.3863, 1.3297, 1.3297, 1.2130])"
      ]
     },
     "execution_count": 7,
     "metadata": {},
     "output_type": "execute_result"
    }
   ],
   "source": [
    "# compute entropy of each distribution\n",
    "-(p * p.log()).sum(1)"
   ]
  },
  {
   "cell_type": "markdown",
   "metadata": {},
   "source": [
    "### Code 9.7"
   ]
  },
  {
   "cell_type": "code",
   "execution_count": 8,
   "metadata": {},
   "outputs": [
    {
     "data": {
      "text/plain": [
       "tensor([0.0900, 0.2100, 0.2100, 0.4900])"
      ]
     },
     "execution_count": 8,
     "metadata": {},
     "output_type": "execute_result"
    }
   ],
   "source": [
    "p = 0.7\n",
    "A = torch.tensor([(1 - p) ** 2, p * (1 - p), (1 - p) * p, p ** 2])\n",
    "A"
   ]
  },
  {
   "cell_type": "markdown",
   "metadata": {},
   "source": [
    "### Code 9.8"
   ]
  },
  {
   "cell_type": "code",
   "execution_count": 9,
   "metadata": {},
   "outputs": [
    {
     "data": {
      "text/plain": [
       "tensor(1.2217)"
      ]
     },
     "execution_count": 9,
     "metadata": {},
     "output_type": "execute_result"
    }
   ],
   "source": [
    "-(A * A.log()).sum()"
   ]
  },
  {
   "cell_type": "markdown",
   "metadata": {},
   "source": [
    "### Code 9.9"
   ]
  },
  {
   "cell_type": "code",
   "execution_count": 10,
   "metadata": {},
   "outputs": [],
   "source": [
    "def sim_p(G=1.4):\n",
    "    x123 = torch.rand(3)\n",
    "    x4 = (G * x123.sum() - x123[1] - x123[2]) / (2 - G)\n",
    "    z = torch.cat([x123, x4.unsqueeze(0)]).sum()\n",
    "    p = torch.cat([x123, x4.unsqueeze(0)]) / z\n",
    "    return {\"H\": -(p * p.log()).sum(), \"p\": p}"
   ]
  },
  {
   "cell_type": "markdown",
   "metadata": {},
   "source": [
    "### Code 9.10"
   ]
  },
  {
   "cell_type": "code",
   "execution_count": 11,
   "metadata": {},
   "outputs": [
    {
     "data": {
      "image/png": "[encoded data removed]",
      "text/plain": [
       "<Figure size 576x432 with 1 Axes>"
      ]
     },
     "metadata": {},
     "output_type": "display_data"
    }
   ],
   "source": [
    "H = [torch.stack(x) for x in zip(*[sim_p(1.4).values() for _ in range(int(1e5))])]\n",
    "ax = sns.distplot(H[0])\n",
    "ax.set(xlabel=\"Entropy\", ylabel=\"Density\");"
   ]
  },
  {
   "cell_type": "markdown",
   "metadata": {},
   "source": [
    "### Code 9.11"
   ]
  },
  {
   "cell_type": "code",
   "execution_count": 12,
   "metadata": {},
   "outputs": [],
   "source": [
    "entropies = H[0]\n",
    "distributions = H[1]"
   ]
  },
  {
   "cell_type": "markdown",
   "metadata": {},
   "source": [
    "### Code 9.12"
   ]
  },
  {
   "cell_type": "code",
   "execution_count": 13,
   "metadata": {},
   "outputs": [
    {
     "data": {
      "text/plain": [
       "tensor(1.2217)"
      ]
     },
     "execution_count": 13,
     "metadata": {},
     "output_type": "execute_result"
    }
   ],
   "source": [
    "entropies.max()"
   ]
  },
  {
   "cell_type": "markdown",
   "metadata": {},
   "source": [
    "### Code 9.13"
   ]
  },
  {
   "cell_type": "code",
   "execution_count": 14,
   "metadata": {},
   "outputs": [
    {
     "data": {
      "text/plain": [
       "tensor([0.0902, 0.2095, 0.2100, 0.4902])"
      ]
     },
     "execution_count": 14,
     "metadata": {},
     "output_type": "execute_result"
    }
   ],
   "source": [
    "distributions[entropies.argmax()]"
   ]
  }
 ],
 "metadata": {
  "anaconda-cloud": {},
  "kernelspec": {
   "display_name": "Python 3",
   "language": "python",
   "name": "python3"
  },
  "language_info": {
   "codemirror_mode": {
    "name": "ipython",
    "version": 3
   },
   "file_extension": ".py",
   "mimetype": "text/x-python",
   "name": "python",
   "nbconvert_exporter": "python",
   "pygments_lexer": "ipython3",
   "version": "3.6.8"
  }
 },
 "nbformat": 4,
 "nbformat_minor": 2
}
