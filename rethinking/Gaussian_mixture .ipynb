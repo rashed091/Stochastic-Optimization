{
 "cells": [
  {
   "cell_type": "markdown",
   "metadata": {},
   "source": [
    "# Gaussian mixture model with parallel enumeration\n",
    "Given the data you need to infer:\n",
    "1. two locations\n",
    "2. one scale\n",
    "3. assigment for each data point\n",
    "\n",
    "This is a simple model where you can compare:\n",
    "Trace_ELBO, TraceGraph_ELBO, TraceEnum_ELBO"
   ]
  },
  {
   "cell_type": "code",
   "execution_count": 2,
   "metadata": {},
   "outputs": [],
   "source": [
    "from __future__ import print_function\n",
    "import os\n",
    "from collections import defaultdict\n",
    "import numpy as np\n",
    "import scipy.stats\n",
    "import torch\n",
    "from torch.distributions import constraints\n",
    "\n",
    "import matplotlib.pyplot as plt\n",
    "%matplotlib inline\n",
    "\n",
    "import pyro\n",
    "import pyro.distributions as dist\n",
    "from pyro import poutine\n",
    "from pyro.optim import Adam\n",
    "from pyro.infer import SVI, Trace_ELBO, TraceEnum_ELBO, TraceGraph_ELBO\n",
    "\n",
    "smoke_test = ('CI' in os.environ)\n",
    "assert pyro.__version__.startswith('0.3.0')\n",
    "pyro.enable_validation(True)\n"
   ]
  },
  {
   "cell_type": "code",
   "execution_count": 7,
   "metadata": {},
   "outputs": [],
   "source": [
    "K = 2  # Fixed number of components.\n",
    "            \n",
    "def model(data=None,verbose=False,N=100):\n",
    "    if(data is None):\n",
    "        batch_size = N\n",
    "        observed=False\n",
    "    else:\n",
    "        batch_size = data.shape[0]\n",
    "        observed=True\n",
    "        \n",
    "    # Global variables.\n",
    "    scale = pyro.sample('scale', dist.LogNormal(0., 0.1)) \n",
    "\n",
    "    with pyro.plate('components', K):\n",
    "        locs = pyro.sample('locs', dist.Normal(0., 5.))\n",
    "        \n",
    "    with pyro.plate('data', batch_size):\n",
    "        # Local variables.\n",
    "        assignment = pyro.sample('assignment', dist.Categorical(torch.ones(K)/K))\n",
    "        #print(\"MODEL: assignment.shape\",assignment.shape)\n",
    "        #print(\"locs[assignment].shape\",locs[assignment].shape)\n",
    "        \n",
    "        #d = dist.Normal(locs[assignment], scale).expand([batch_size])\n",
    "        d = dist.Normal(locs[assignment], scale)\n",
    "        if(observed):\n",
    "            #print(\"d.batch_shape, d.event.shape =\",d.batch_shape,d.event_shape)\n",
    "            x = pyro.sample('obs', d, obs=data)\n",
    "            #print(\"x.shape vs data.shape\",x.shape,data.shape)\n",
    "        else:\n",
    "            x = d.sample()\n",
    "    \n",
    "    if(verbose):\n",
    "        print(\"--- MODEL ---\")\n",
    "        print(\"batch_size\",batch_size)\n",
    "        print(\"scale\",scale.shape,scale)\n",
    "        print(\"locs\",locs.shape,locs)\n",
    "        print(\"assignment\",assignment.shape)\n",
    "        n1 = torch.sum(assignment)\n",
    "        n0 = torch.sum(1 - assignment)\n",
    "        print(\"n0,n1\",n0,n1)\n",
    "        print(\"\")\n",
    "\n",
    "        \n",
    "    return x\n",
    "        \n",
    "def guide_sample(data=None,verbose=False,N=100):\n",
    "    if(data is None):\n",
    "        batch_size = N\n",
    "    else:\n",
    "        batch_size = data.shape[0]\n",
    "            \n",
    "    locs_mu = pyro.param('locs_mu', dist.Normal(0., 10.*torch.ones(K)))\n",
    "    scale_mu = pyro.param('scale_mu', torch.ones(1), constraint=constraints.positive)\n",
    "    scale_q = pyro.sample('scale', dist.Delta(scale_mu))\n",
    "    \n",
    "    with pyro.plate('components', K):\n",
    "        locs_q = pyro.sample('locs', dist.Delta(locs_mu))\n",
    "    \n",
    "    # Local variables.\n",
    "    with pyro.plate('data', batch_size):\n",
    "        assignment_probs = pyro.param('assignment_probs', torch.ones((batch_size, K)) / K,\n",
    "                                        constraint=constraints.unit_interval)\n",
    "        assignment = pyro.sample('assignment', dist.Categorical(assignment_probs)) \n",
    "        #print(\"GUIDE: assignment.shape\",assignment.shape)\n",
    "\n",
    "    \n",
    "    if(verbose):\n",
    "\n",
    "        print(\"--- GUIDE SAMPLE ---\")\n",
    "        print(\"batch_size\",batch_size)\n",
    "        print(\"scale_q\",scale_q.shape,scale_q)\n",
    "        print(\"locs_q\",locs_q.shape,locs_q)\n",
    "        print(\"assignment_probs\",assignment_probs.shape)\n",
    "        print(\"assignment\",assignment.shape)\n",
    "        n1 = torch.sum(assignment)\n",
    "        n0 = torch.sum(1 - assignment)\n",
    "        print(\"n0,n1\",n0,n1)\n",
    "        print(\"\")\n",
    "        \n",
    "        \n",
    "def guide_enum(data=None,verbose=False,N=100):\n",
    "    if(data is None):\n",
    "        batch_size = N\n",
    "    else:\n",
    "        batch_size = data.shape[0]\n",
    "            \n",
    "    locs_mu = pyro.param('locs_mu', dist.Normal(0., 10.*torch.ones(K)))\n",
    "    scale_mu = pyro.param('scale_mu', torch.ones(1), constraint=constraints.positive)\n",
    "    scale_q = pyro.sample('scale', dist.Delta(scale_mu))\n",
    "    \n",
    "    with pyro.plate('components', K):\n",
    "        locs_q = pyro.sample('locs', dist.Delta(locs_mu))\n",
    "    \n",
    "    # Local variables.\n",
    "    with pyro.plate('data', batch_size):\n",
    "        assignment_probs = pyro.param('assignment_probs', torch.ones((batch_size, K)) / K,\n",
    "                                        constraint=constraints.unit_interval)\n",
    "        assignment = pyro.sample('assignment', dist.Categorical(assignment_probs),infer={\"enumerate\": \"parallel\"})  \n",
    "        #print(\"GUIDE: assignment.shape\",assignment.shape)\n",
    "\n",
    "    \n",
    "    if(verbose):\n",
    "        print(\"--- GUIDE ENUM ---\")\n",
    "        print(\"batch_size\",batch_size)\n",
    "        print(\"scale_q\",scale_q.shape,scale_q)\n",
    "        print(\"locs_q\",locs_q.shape,locs_q)\n",
    "        print(\"assignment_probs\",assignment_probs.shape)\n",
    "        print(\"assignment\",assignment.shape)\n",
    "        n1 = torch.sum(assignment)\n",
    "        n0 = torch.sum(1 - assignment)\n",
    "        print(\"n0,n1\",n0,n1)\n",
    "        print(\"\")"
   ]
  },
  {
   "cell_type": "code",
   "execution_count": 93,
   "metadata": {},
   "outputs": [
    {
     "name": "stdout",
     "output_type": "stream",
     "text": [
      "--- MODEL ---\n",
      "batch_size 100\n",
      "scale torch.Size([]) tensor(1.1201)\n",
      "locs torch.Size([2]) tensor([ 6.5622, -0.4553])\n",
      "assignment torch.Size([100])\n",
      "n0,n1 tensor(48) tensor(52)\n",
      "\n"
     ]
    }
   ],
   "source": [
    "new_data = model(N=100,verbose=True)\n",
    "#print(new_data.shape)\n",
    "#print(new_data)\n",
    "#guide_sample(new_data,verbose=True)\n",
    "#guide_enum(new_data,verbose=True)"
   ]
  },
  {
   "cell_type": "markdown",
   "metadata": {},
   "source": [
    "### Common parameters"
   ]
  },
  {
   "cell_type": "code",
   "execution_count": 94,
   "metadata": {},
   "outputs": [],
   "source": [
    "optim = pyro.optim.Adam({'lr': 0.1, 'betas': [0.8, 0.99]})\n",
    "EPOCH_MAX = 2000"
   ]
  },
  {
   "cell_type": "markdown",
   "metadata": {},
   "source": [
    "### Try the Trace_ELBO"
   ]
  },
  {
   "cell_type": "code",
   "execution_count": 95,
   "metadata": {},
   "outputs": [],
   "source": [
    "pyro.clear_param_store()\n",
    "svi = SVI(model, guide_sample, optim, loss=Trace_ELBO(max_plate_nesting=1))\n",
    "\n",
    "losses_standard = []\n",
    "for i in range(EPOCH_MAX):\n",
    "    loss = svi.step(new_data)\n",
    "    losses_standard.append(loss)\n",
    "    \n",
    "locs_standard   = pyro.param(\"locs_mu\").detach()\n",
    "scale_standard = pyro.param(\"scale_mu\").detach()\n",
    "assignment_probs_standard = pyro.param(\"assignment_probs\").detach()\n",
    "n1_standard = torch.sum(torch.argmax(assignment_probs_standard,dim=1)).item()\n",
    "n0_standard = torch.sum(1-torch.argmax(assignment_probs_standard,dim=1)).item()"
   ]
  },
  {
   "cell_type": "markdown",
   "metadata": {},
   "source": [
    "### Try the TraceGraph_ELBO"
   ]
  },
  {
   "cell_type": "code",
   "execution_count": 96,
   "metadata": {},
   "outputs": [],
   "source": [
    "pyro.clear_param_store()\n",
    "svi = SVI(model, guide_sample, optim, loss=TraceGraph_ELBO(max_plate_nesting=1))\n",
    "\n",
    "losses_sample = []\n",
    "for i in range(EPOCH_MAX):\n",
    "    loss = svi.step(new_data)\n",
    "    losses_sample.append(loss)\n",
    "    \n",
    "locs_sample   = pyro.param(\"locs_mu\").detach()\n",
    "scale_sample = pyro.param(\"scale_mu\").detach()\n",
    "assignment_probs_sample = pyro.param(\"assignment_probs\").detach()\n",
    "n1_sample = torch.sum(torch.argmax(assignment_probs_sample,dim=1)).item()\n",
    "n0_sample = torch.sum(1-torch.argmax(assignment_probs_sample,dim=1)).item()"
   ]
  },
  {
   "cell_type": "markdown",
   "metadata": {},
   "source": [
    "### Try the TraceEnum_ELBO"
   ]
  },
  {
   "cell_type": "code",
   "execution_count": 97,
   "metadata": {},
   "outputs": [],
   "source": [
    "pyro.clear_param_store()\n",
    "svi = SVI(model, guide_enum, optim, loss=TraceEnum_ELBO(max_plate_nesting=1))\n",
    "\n",
    "losses_enum = []\n",
    "for i in range(EPOCH_MAX):\n",
    "    loss = svi.step(new_data)\n",
    "    losses_enum.append(loss) \n",
    "    \n",
    "locs_enum   = pyro.param(\"locs_mu\").detach()\n",
    "scale_enum = pyro.param(\"scale_mu\").detach()\n",
    "assignment_probs_enum = pyro.param(\"assignment_probs\").detach()\n",
    "n1_enum = torch.sum(torch.argmax(assignment_probs_enum,dim=1)).item()\n",
    "n0_enum = torch.sum(1-torch.argmax(assignment_probs_enum,dim=1)).item()"
   ]
  },
  {
   "cell_type": "markdown",
   "metadata": {},
   "source": [
    "### Plot the results"
   ]
  },
  {
   "cell_type": "code",
   "execution_count": 104,
   "metadata": {},
   "outputs": [
    {
     "name": "stdout",
     "output_type": "stream",
     "text": [
      "locs standard vs sample vs enum -> tensor([2.9926, 2.7570]) tensor([ 6.6440, -0.7755]) tensor([ 6.6534, -0.7543])\n",
      "scale sample vs enum -> tensor([2.7239]) tensor([1.0279]) tensor([1.0355])\n",
      "(n0,n1) standard vs sample vs enum (49 51) (49 51) (49 51)\n"
     ]
    },
    {
     "data": {
      "image/png": "[encoded data removed]",
      "text/plain": [
       "<Figure size 432x288 with 1 Axes>"
      ]
     },
     "metadata": {},
     "output_type": "display_data"
    }
   ],
   "source": [
    "epoch_min=0\n",
    "epoch_max=2000\n",
    "plt.plot(losses_standard[epoch_min:epoch_max], '-',c='red',label='Trace_ELBO')\n",
    "plt.plot(losses_sample[epoch_min:epoch_max], '-',c='blue',label='TraceGraph_ELBO')\n",
    "plt.plot(losses_enum[epoch_min:epoch_max], '-',c='green',label='TraceEnum_ELBO')\n",
    "plt.yscale('log')  \n",
    "plt.xlabel(\"Epochs\")\n",
    "plt.ylabel(\"Loss\")\n",
    "plt.legend(loc='upper right')\n",
    "\n",
    "\n",
    "print(\"locs standard vs sample vs enum ->\",locs_standard,locs_sample,locs_enum)\n",
    "print(\"scale sample vs enum ->\",scale_standard,scale_sample,scale_enum)\n",
    "print(\"(n0,n1) standard vs sample vs enum (%d %d) (%d %d) (%d %d)\" % (n0_standard,n1_standard,n0_sample,n1_sample,n0_enum,n1_enum))"
   ]
  },
  {
   "cell_type": "code",
   "execution_count": 99,
   "metadata": {},
   "outputs": [],
   "source": [
    "def compute_normal(x,mean,scale,n_particles):\n",
    "    y = np.zeros_like(x)\n",
    "    for i in range(y.shape[0]):\n",
    "        tmp = np.sum(n_particles/(scale * np.sqrt(2 * np.pi)) * np.exp( - (x[i] - mean)**2 / (2 * scale**2) ))\n",
    "        y[i] +=  tmp\n",
    "    return y"
   ]
  },
  {
   "cell_type": "code",
   "execution_count": 100,
   "metadata": {},
   "outputs": [
    {
     "data": {
      "text/plain": [
       "<matplotlib.legend.Legend at 0x1a26347860>"
      ]
     },
     "execution_count": 100,
     "metadata": {},
     "output_type": "execute_result"
    },
    {
     "data": {
      "image/png": "[encoded data removed]",
      "text/plain": [
       "<Figure size 432x288 with 1 Axes>"
      ]
     },
     "metadata": {},
     "output_type": "display_data"
    }
   ],
   "source": [
    "xmin=-15.0\n",
    "xmax=15.0\n",
    "dx=0.1\n",
    "\n",
    "x = np.arange(xmin,xmax,dx)\n",
    "y_standard = compute_normal(x,locs_standard.numpy(),scale_standard.numpy(),np.array([n0_standard,n1_standard]))\n",
    "y_sample = compute_normal(x,locs_sample.numpy(),scale_sample.numpy(),np.array([n0_sample,n1_sample]))\n",
    "y_enum = compute_normal(x,locs_enum.numpy(),scale_enum.numpy(),np.array([n0_enum,n1_enum]))\n",
    "\n",
    "plt.hist(new_data, bins=30,range=(xmin,xmax),color='gray')\n",
    "plt.plot(x,y_standard,\".\",c='red',label='Trace_ELBO')\n",
    "plt.plot(x,y_sample,\".-\",c='blue',label='TraceGraph_ELBO')\n",
    "plt.plot(x,y_enum,\"-\",c='green',label='TraceEnum_ELBO')\n",
    "plt.legend(loc='upper left')"
   ]
  },
  {
   "cell_type": "code",
   "execution_count": null,
   "metadata": {},
   "outputs": [],
   "source": []
  }
 ],
 "metadata": {
  "kernelspec": {
   "display_name": "Python 3",
   "language": "python",
   "name": "python3"
  },
  "language_info": {
   "codemirror_mode": {
    "name": "ipython",
    "version": 3
   },
   "file_extension": ".py",
   "mimetype": "text/x-python",
   "name": "python",
   "nbconvert_exporter": "python",
   "pygments_lexer": "ipython3",
   "version": "3.7.3"
  }
 },
 "nbformat": 4,
 "nbformat_minor": 2
}
