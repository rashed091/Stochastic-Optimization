{
 "cells": [
  {
   "cell_type": "markdown",
   "metadata": {},
   "source": [
    "#  Monte Carlo Integrals\n",
    "\n",
    "##### Keywords: monte-carlo, integration, uniform distribution, law of large numbers, lotus, central limit theorem, normal distribution"
   ]
  },
  {
   "cell_type": "code",
   "execution_count": 1,
   "metadata": {},
   "outputs": [],
   "source": [
    "%matplotlib inline\n",
    "import numpy as np\n",
    "import scipy as sp\n",
    "import matplotlib.pyplot as plt\n",
    "import pandas as pd\n",
    "import seaborn as sns\n",
    "import torch\n",
    "import pyro\n",
    "import pyro.distributions as dist\n",
    "\n",
    "sns.set_style(\"white\")\n",
    "colors=sns.color_palette()\n",
    "\n",
    "pd.set_option('display.width', 500)\n",
    "pd.set_option('display.max_columns', 100)\n",
    "pd.set_option('display.notebook_repr_html', False)"
   ]
  },
  {
   "cell_type": "markdown",
   "metadata": {},
   "source": [
    "## The basic idea\n",
    "\n",
    "Let us formalize the basic idea behind Monte Carlo Integration in 1-D.\n",
    "\n",
    "Consider the definite integral:\n",
    "\n",
    "$$ I = \\int_{a}^{b} f(x) \\, dx $$\n",
    "\n",
    "Consider:\n",
    "\n",
    "$$ J = \\int_{a}^{b} f(x) U_{ab}(x) \\, dx $$\n",
    "\n",
    "If $V$ is the support of the uniform distribution on  a to b then the pdf\n",
    "$$ U_{ab}(x) = \\frac{1}{V} = \\frac{1}{b-a}$$\n",
    "\n",
    "Then from LOTUS and the law of large numbers:\n",
    "\n",
    "$$J = \\frac{1}{V}  \\int_{a}^{b} f(x) \\, dx  =  \\frac{I}{V} = E_{U}[f] = \\lim_{n \\to \\infty} \\frac{1}{N}\\sum_{x_i \\sim U} f(x_i) $$\n",
    "\n",
    "or\n",
    "\n",
    "$$I  = V  \\times \\lim_{n \\to \\infty} \\frac{1}{N}\\sum_{x_i \\sim U} f(x_i) $$\n",
    "\n",
    "Practically speaking, our estimate will only be as exact as the number of samples we draw, but more on this soon.."
   ]
  },
  {
   "cell_type": "markdown",
   "metadata": {},
   "source": [
    "### Example. \n",
    "\n",
    "**Calculate the integral $ I= \\int_{2}^{3} [x^2 + 4 \\, x \\,\\sin(x)] \\, dx. $**\n",
    "\n",
    "We know from calculus that the anti-derivative is \n",
    "$$ x^3/3 + 4\\sin(x) -4x\\cos(x). $$ \n",
    "\n",
    "To solve this using MC, we simply draw $N$ random numbers from 2 to 3 and then take the average of all the values $f(x)=x^2 + 4 \\, x \\,\\sin(x)$ and normalized over the volume; this case the volume is 1 (3-2=1). "
   ]
  },
  {
   "cell_type": "code",
   "execution_count": 2,
   "metadata": {},
   "outputs": [],
   "source": [
    "def f(x):\n",
    "    return x**2 + 4*x*np.sin(x) \n",
    "\n",
    "def intf(x): \n",
    "    return x**3/3.0+4.0*np.sin(x) - 4.0*x*np.cos(x) "
   ]
  },
  {
   "cell_type": "code",
   "execution_count": 4,
   "metadata": {},
   "outputs": [
    {
     "name": "stdout",
     "output_type": "stream",
     "text": [
      "Monte Carlo estimation= 11.81274375 Exact number= 11.811358925098283\n"
     ]
    }
   ],
   "source": [
    "a = 2;    \n",
    "b = 3; \n",
    "\n",
    "# use N draws \n",
    "N= 10000\n",
    "\n",
    "X = dist.Uniform(a, b).sample((N,)).numpy() # N values uniformly drawn from a to b \n",
    "Y =f(X)   # CALCULATE THE f(x) \n",
    "V = b-a\n",
    "Imc= V * np.sum(Y)/ N;\n",
    "\n",
    "exactval=intf(b)-intf(a)\n",
    "\n",
    "print(\"Monte Carlo estimation=\",Imc, \"Exact number=\", intf(b)-intf(a))\n"
   ]
  },
  {
   "cell_type": "markdown",
   "metadata": {},
   "source": [
    "### Mutlidimensional integral. \n",
    "That is nice but how about a multidimensional case? \n",
    "\n",
    "Let us calculate the two dimensional integral $I=\\int \\int f(x, y) dx dy$ where $f(x,y) = x^2 +y^2$ \n",
    "over the region deﬁned by the condition $x^2 +y^2 ≤ 1$\n",
    "\n",
    "In other words we are talking about a uniform distribution on the unit circle\n"
   ]
  },
  {
   "cell_type": "code",
   "execution_count": 5,
   "metadata": {},
   "outputs": [],
   "source": [
    "fmd = lambda x,y: x*x + y*y"
   ]
  },
  {
   "cell_type": "code",
   "execution_count": 6,
   "metadata": {},
   "outputs": [
    {
     "name": "stdout",
     "output_type": "stream",
     "text": [
      "I= 1.5479135447531593 actual 1.5707963267948966\n"
     ]
    }
   ],
   "source": [
    "# use N draws \n",
    "N= 8000\n",
    "X= dist.Uniform(-1, 1).sample((N,)).numpy()\n",
    "Y= dist.Uniform(-1, 1).sample((N,)).numpy() \n",
    "Z=fmd(X, Y)   # CALCULATE THE f(x) \n",
    "\n",
    "R = X**2 + Y**2\n",
    "V = np.pi*1.0*1.0\n",
    "N = np.sum(R<1)\n",
    "sumsamples = np.sum(Z[R<1])\n",
    "\n",
    "print(\"I=\",V*sumsamples/N, \"actual\", np.pi/2.0) #actual value (change to polar to calculate)"
   ]
  },
  {
   "cell_type": "markdown",
   "metadata": {},
   "source": [
    "## Monte-Carlo as a function of number of samples\n",
    "\n",
    "How does the accuracy depends on the number of points(samples)? Lets try the same 1-D integral $ I= \\int_{2}^{3} [x^2 + 4 \\, x \\,\\sin(x)] \\, dx $ as a function of the number of points. "
   ]
  },
  {
   "cell_type": "code",
   "execution_count": 8,
   "metadata": {},
   "outputs": [
    {
     "name": "stderr",
     "output_type": "stream",
     "text": [
      "/home/rashed/.local/share/virtualenvs/Stochastic-Optimization-g1LdcETT/lib/python3.7/site-packages/ipykernel_launcher.py:10: RuntimeWarning: invalid value encountered in double_scalars\n",
      "  # Remove the CWD from sys.path while we load stuff.\n"
     ]
    },
    {
     "data": {
      "text/plain": [
       "Text(0, 0.5, 'sqrt((Imc-ExactValue)$^2$)')"
      ]
     },
     "execution_count": 8,
     "metadata": {},
     "output_type": "execute_result"
    },
    {
     "data": {
      "image/png": "[encoded data removed]",
      "text/plain": [
       "<Figure size 432x288 with 1 Axes>"
      ]
     },
     "metadata": {
      "needs_background": "light"
     },
     "output_type": "display_data"
    }
   ],
   "source": [
    "Imc=np.zeros(1000)\n",
    "Na = np.linspace(0,1000,1000)\n",
    "\n",
    "exactval= intf(b)-intf(a)\n",
    "\n",
    "for N in np.arange(0, 1000):\n",
    "    X = dist.Uniform(a, b).sample((N,)).numpy() # N values uniformly drawn from a to b \n",
    "    Y =f(X)   # CALCULATE THE f(x) \n",
    "\n",
    "    Imc[N]= (b-a) * np.sum(Y)/ N;\n",
    "    \n",
    "    \n",
    "plt.plot(Na[10:],np.sqrt((Imc[10:]-exactval)**2), alpha=0.7)\n",
    "plt.plot(Na[10:], 1/np.sqrt(Na[10:]), 'r')\n",
    "plt.xlabel(\"N\")\n",
    "plt.ylabel(\"sqrt((Imc-ExactValue)$^2$)\")"
   ]
  },
  {
   "cell_type": "markdown",
   "metadata": {},
   "source": [
    "Obviously this depends on the number of $N$ as $1/\\sqrt{N}$. "
   ]
  },
  {
   "cell_type": "markdown",
   "metadata": {},
   "source": [
    "## Errors in MC\n",
    "\n",
    "Monte Carlo methods yield approximate\n",
    "answers whose accuracy depends on the number of draws.\n",
    "So far, we have used our knowledge of the exact value  to determine that the\n",
    "error in the Monte Carlo method approaches zero as approximately $1/\\sqrt{N}$ for large $N$, where $N$ is the number of trials. \n",
    "\n",
    "But in the usual case, the exact answer is unknown. Why do this otherwise?\n",
    "\n",
    "So, lets repeat the same evaluation $m$ times and check the variance of the estimate. "
   ]
  },
  {
   "cell_type": "code",
   "execution_count": 9,
   "metadata": {},
   "outputs": [
    {
     "name": "stdout",
     "output_type": "stream",
     "text": [
      "11.81167582421875 0.004239867928659472\n"
     ]
    },
    {
     "data": {
      "image/png": "[encoded data removed]",
      "text/plain": [
       "<Figure size 432x288 with 1 Axes>"
      ]
     },
     "metadata": {
      "needs_background": "light"
     },
     "output_type": "display_data"
    }
   ],
   "source": [
    "# multiple MC estimations\n",
    "m=1000\n",
    "N=10000\n",
    "Imc=np.zeros(m)\n",
    "\n",
    "\n",
    "for i in np.arange(m):\n",
    "    \n",
    "    X = dist.Uniform(a, b).sample((N,)).numpy() # N values uniformly drawn from a to b \n",
    "    Y =f(X)   # CALCULATE THE f(x) \n",
    "\n",
    "    Imc[i]= (b-a) * np.sum(Y)/ N;\n",
    "    \n",
    "    \n",
    "plt.hist(Imc, bins=30)\n",
    "plt.xlabel(\"Imc\")\n",
    "print(np.mean(Imc), np.std(Imc))\n"
   ]
  },
  {
   "cell_type": "markdown",
   "metadata": {},
   "source": [
    "This looks like our telltale Normal distribution.\n",
    "\n",
    "This is not surprising\n",
    "\n",
    "### Estimating the error in MC integration using the CLT.\n",
    "\n",
    "We know from the CLT that if $x_1,x_2,...,x_n$ be a sequence of independent, identically-distributed (IID) random variables from a random variable $X$, and that if $X$ has the finite mean $\\mu$ AND finite variance $\\sigma^2$. \n",
    "\n",
    "Then, \n",
    "\n",
    "$$S_n = \\frac{1}{n} \\sum_{i=1}^{n} x_i ,$$\n",
    "\n",
    "**converges to a Gaussian Random Variable with mean $\\mu$ and variance $\\sigma^2/n$ as $n \\to \\infty$:**\n",
    "\n",
    "$$ S_n \\sim N(\\mu,\\frac{\\sigma^2}{n}) \\, as \\, n \\to \\infty. $$\n",
    "\n",
    "\n",
    "This is true *regardless* of the shape of $X$, which could be binomial, poisson, or any other distribution.\n",
    "\n",
    "The sums\n",
    "\n",
    "$$S_n(f) = \\frac{1}{n} \\sum_{i=1}^{n} f(x_i) $$\n",
    "\n",
    "are exactly what we want to calculate for Monte-Carlo Integration(due to the LOTUS) and correspond to the random variable f(X) where X is uniformly distributed on the support.\n",
    "\n",
    "Whatever the original variance of f(X) might be, we can see that the variance of the sampling distribution of the mean goes down as $1/n$ and thus the standard error goes down as $1/\\sqrt{n}$ as we discovered when we compared it to the exact value as well.\n",
    "\n",
    "Why is this important?\n"
   ]
  },
  {
   "cell_type": "markdown",
   "metadata": {},
   "source": [
    "\n",
    "\n",
    "### Comparing to standard integration techniques\n",
    "\n",
    "What if we changed the dimensionality of the integral? The formula for $S_n$ does not change, we just replace $g(x_i)$ by $g(x_i, y_i, z_i...)$. Thus, the CLT still holds and the error still scales as $\\frac{1}{\\sqrt{n}}$.\n",
    "\n",
    "On the other hand, if we divide the $a, b$-interval into $N$ \n",
    "steps and use some regular integration routine, what is the error? Consider the midpoint rule as illustrated in this diagram from Wikipedia:\n",
    "\n",
    "![](https://upload.wikimedia.org/wikipedia/commons/5/5b/Rectangle_rule.gif)\n",
    "\n",
    "The basic idea is that the function value at the midpoint of the interval is used as the height of the approximating rectangle. In general, the differing methods consist of choosing different $x_i$ below..with left being at the left end, right being at the right end. \n",
    "$$I(est) = \\sum_i f(x_i)\\Delta x_i = \\frac{b-a}{n} \\sum_i f(x_i)$$\n",
    "\n",
    "The error on the estimation of the integral can be shown to decrease as $\\frac{1}{n^2}$. The basic reason for this can be understood on a taylor series expansion of the function to second order. When you integrate on the sub-interval, the linear term vanishes while the quadratic term becomes cubic in $\\Delta x$. So the local error goes as $\\frac{1}{n^3}$ and thus the global as  $\\frac{1}{n^2}$.\n",
    "\n",
    "Monte-Carlo if clearly not competitive with the midpoint method in 1-D. Its actually not even competitive with left or right rectangle methods.\n",
    "\n",
    "The trapeziod rule uses a line between the sub-interval points while the  Simpsons rule uses a quadratic.\n",
    "\n",
    "These integrations can be generalized  to multiple dimensions, and the rule for these\n",
    "\n",
    "\n",
    "* left or right rule:  $\\propto 1/n$\n",
    "* Midpoint rule: $\\propto 1/n^2$\n",
    "* Trapezoid: $\\propto 1/n^2$\n",
    "* Simpson: $\\propto 1/n^4$\n",
    "\n",
    "where $n=N^{1/d}$. MC becomes better than the Simpson method only in 8 dimensions.."
   ]
  },
  {
   "cell_type": "code",
   "execution_count": null,
   "metadata": {},
   "outputs": [],
   "source": []
  }
 ],
 "metadata": {
  "anaconda-cloud": {},
  "kernelspec": {
   "display_name": "Python 3",
   "language": "python",
   "name": "python3"
  },
  "language_info": {
   "codemirror_mode": {
    "name": "ipython",
    "version": 3
   },
   "file_extension": ".py",
   "mimetype": "text/x-python",
   "name": "python",
   "nbconvert_exporter": "python",
   "pygments_lexer": "ipython3",
   "version": "3.7.3"
  }
 },
 "nbformat": 4,
 "nbformat_minor": 1
}
