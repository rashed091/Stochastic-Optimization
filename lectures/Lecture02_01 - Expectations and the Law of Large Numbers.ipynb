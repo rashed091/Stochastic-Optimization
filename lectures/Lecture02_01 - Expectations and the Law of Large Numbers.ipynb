{
 "cells": [
  {
   "cell_type": "markdown",
   "metadata": {},
   "source": [
    "# Expectations and the Law of Large Numbers\n",
    "\n",
    "##### Keywords: expectations, law of large numbers, lotus, distributions, probability"
   ]
  },
  {
   "cell_type": "code",
   "execution_count": 1,
   "metadata": {},
   "outputs": [],
   "source": [
    "%matplotlib inline\n",
    "import numpy as np\n",
    "import scipy as sp\n",
    "import matplotlib.pyplot as plt\n",
    "import pandas as pd\n",
    "import seaborn as sns\n",
    "import torch\n",
    "import pyro\n",
    "import pyro.distributions as dist\n",
    "\n",
    "sns.set_style(\"white\")\n",
    "colors=sns.color_palette()\n",
    "\n",
    "pd.set_option('display.width', 500)\n",
    "pd.set_option('display.max_columns', 100)\n",
    "pd.set_option('display.notebook_repr_html', False)"
   ]
  },
  {
   "cell_type": "markdown",
   "metadata": {},
   "source": [
    "## Expectations \n",
    "\n",
    "$$ \\newcommand{\\E}[1]{E[#1]}$$\n",
    "\n",
    "The **expectation value** of a quantity *with respect to the a density or probability mass function* is the weighted sum of the quantity where the weights are probabilties from the distribution. For example, for the discrete random variable $X$:\n",
    "\n",
    "$$E_f[X] = \\sum_x x\\,f(x).$$\n",
    "\n",
    "In the continuous case the sum is replaced by an integral over the density:\n",
    "\n",
    "$$E_f[X] = \\int x\\,f(x) dx = \\int x dF(x),$$\n",
    "\n",
    "where the latter form makes it clear that you are weighing with probabilities from the distribution even in the continuous case. \n",
    "\n",
    "The latter form is often used to establish notation. Thus, the expected value, or mean, or first moment, of X is defined to be\n",
    "$$\n",
    "E_{f}{X} = \\int x dF(x) = \n",
    "\\begin{cases}\n",
    "\\sum_x x f(x) & \\text{if X is discrete}\\\\\n",
    "\\int x f(x) dx & \\text{if X is continuous}\n",
    "\\end{cases}\n",
    "$$\n",
    " assuming that the sum (or integral) is well defined. The notation is a unifying notation which nevertheless has a grounding in measure theory; the discrete sum can be said to be an integral with respect to a counting measure.\n",
    " \n",
    "A note on notation: we'll use $E_f$ or sometimes even $E_F$ when we need to make clear what the distribution is. If its clear (or we are being lazy) we might just drop the subscript. Nevertheless, wheneve you see an expectation, **YOU MUST ASK**, with what density/mass-function or distribution is it with respect to.\n",
    " \n",
    "### The mean of a distribution\n",
    "\n",
    "$E_f[X]$ if often just called the **mean** of the mass function or density. This definition is analogous to the one for the arithmetic mean of a dataset: the only difference is that we want to give more weight to more probable values.\n",
    "\n",
    "\n",
    "### LOTUS: Law of the unconscious statistician\n",
    "\n",
    "Also known as **The rule of the lazy statistician**.\n",
    "\n",
    "**Theorem**:\n",
    "\n",
    "if $Y = r(X)$, \n",
    "$$\n",
    "\\E{Y} = \\int r(x) dF(x)\n",
    "$$\n",
    "\n",
    "**Example**:\n",
    "\n",
    "Specifically, let A be an event and let $r(x) = I_A (x)$ where $I_A (x) = 1$ if\n",
    "$x \\in A$ and $I_A (x) = 0$ if $x \\notin A$. Then:\n",
    "$$\n",
    "\\E{I_A (X)} = \\int I_A (x) dF(x) = \\int_A f_X (x) dx = p(X \\in A)\n",
    "$$\n",
    "\n",
    "### Variance of a distribution\n",
    "\n",
    "The variance of a distribution is defined analogous to that of a dataset:\n",
    "\n",
    "$$V_f[X] = E_f[(X-E_f[X])^2]$$.\n",
    "\n",
    "For the Bernoulli distribution $f(x)=p=constant$, and you are summing it over ones as opposed to 0's, so the mean is just p. The variance is $(1-p)^2\\times p +(-p)^2\\times (1-p) = p(1-p)(1-p+p) = p(1-p)$.\n",
    "\n",
    "In general, we can find this mean that by obtaining a large bunch of samples from the distribution and find their arithmetic mean. The justification for this is the Law of large numbers, which we'll come to soon. \n",
    "\n",
    "However the intuition is obvious: for a large number of samples, the frequencies will tract probabilities well, so high probability samples with roughly the same value will re-occur, and a simple arithmetic sun will capture the curves of the distribution."
   ]
  },
  {
   "cell_type": "markdown",
   "metadata": {},
   "source": [
    "## The Law of Large Numbers\n",
    "\n",
    "Imagine a sequence of length n of coin flips. Lets keep increasing the length of the sequence of coin flips n, and compute a running average $S_n$ of the coin-flip random variables,\n",
    "$$S_n = \\frac{1}{n} \\sum_{i=1}^{n} x_i .$$\n",
    "We plot this running mean, and notice that it *converges to the mean of the distribution from which the random variables are plucked*, ie the Bernoulli distribution with p=0.5. "
   ]
  },
  {
   "cell_type": "code",
   "execution_count": 2,
   "metadata": {},
   "outputs": [],
   "source": [
    "def throw_a_coin(n):\n",
    "    brv = dist.Bernoulli(0.5).sample((n,)).numpy()\n",
    "    return brv"
   ]
  },
  {
   "cell_type": "code",
   "execution_count": 5,
   "metadata": {},
   "outputs": [
    {
     "data": {
      "image/png": "[encoded data removed]",
      "text/plain": [
       "<Figure size 432x288 with 1 Axes>"
      ]
     },
     "metadata": {
      "needs_background": "light"
     },
     "output_type": "display_data"
    }
   ],
   "source": [
    "random_flips = throw_a_coin(10000)\n",
    "running_means = np.zeros(10000)\n",
    "sequence_lengths = np.arange(1, 10001, 1)\n",
    "for i in sequence_lengths:\n",
    "    running_means[i-1] = np.mean(random_flips[:i])\n",
    "    \n",
    "plt.plot(sequence_lengths, running_means);\n",
    "plt.xscale('log')"
   ]
  },
  {
   "cell_type": "markdown",
   "metadata": {},
   "source": [
    "\n",
    "This is an example of a very important theorem in statistics, the law of large numbers, which says this:\n",
    "\n",
    "**Let $x_1,x_2,...,x_n$ be a sequence of independent, identically-distributed (IID) values from a random variable $X$. Suppose that $X$ has the finite mean $\\mu$. Then the average of the first n of them:**\n",
    "\n",
    "$$S_n = \\frac{1}{n} \\sum_{i=1}^{n} x_i ,$$\n",
    "\n",
    "**converges to the mean of $X$ $\\mu$ as $n \\to \\infty$:**\n",
    "\n",
    "$$ S_n \\to \\mu \\, as \\, n \\to \\infty. $$\n",
    "\n",
    "##  Frequentist interpretation of probability\n",
    "\n",
    "The law of large numbers is what makes the **frequentist** interpretation of probability possible to use in practise. \n",
    "\n",
    "We saw above from the LOTUS that if we consider any event $A$ from a probability distribution $F$ with random variable X, and consider the indicator function $I_A$ such that:\n",
    "\n",
    "$$\\begin{eqnarray}\n",
    "I_A(x) = 1 \\,&& if \\, x \\in A\\\\\n",
    "I_A(x) = 0 \\,&&  otherwise\n",
    "\\end{eqnarray}$$\n",
    "\n",
    "we have that:\n",
    "\n",
    "$$E_{F}[I_A (X)] = p(X \\in A)$$\n",
    "\n",
    "One can think of variable $Z=I_A(X)$ as Bernoulli random variable with parameter and thus p = P(A).  The question then arises: how do we estimate this expectation value and thus the probability?\n",
    "\n",
    "Now if we take a long sequence from $X$ and thus $Z$, then the frequency of successes (where success means being in A) will converge by the law of large numbers to the true probability p.\n"
   ]
  }
 ],
 "metadata": {
  "anaconda-cloud": {},
  "celltoolbar": "Raw Cell Format",
  "kernelspec": {
   "display_name": "Python 3",
   "language": "python",
   "name": "python3"
  },
  "language_info": {
   "codemirror_mode": {
    "name": "ipython",
    "version": 3
   },
   "file_extension": ".py",
   "mimetype": "text/x-python",
   "name": "python",
   "nbconvert_exporter": "python",
   "pygments_lexer": "ipython3",
   "version": "3.7.3"
  }
 },
 "nbformat": 4,
 "nbformat_minor": 1
}
