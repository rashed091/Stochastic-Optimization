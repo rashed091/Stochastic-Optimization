{
 "cells": [
  {
   "cell_type": "markdown",
   "metadata": {},
   "source": [
    "# Entropy\n",
    "\n",
    "##### Keywords: entropy,  maxent, binomial, normal distribution, statistical mechanics"
   ]
  },
  {
   "cell_type": "code",
   "execution_count": 1,
   "metadata": {
    "hide": true
   },
   "outputs": [],
   "source": [
    "%matplotlib inline\n",
    "import numpy as np\n",
    "import scipy as sp\n",
    "import matplotlib.pyplot as plt\n",
    "import pandas as pd\n",
    "pd.set_option('display.width', 500)\n",
    "pd.set_option('display.max_columns', 100)\n",
    "pd.set_option('display.notebook_repr_html', True)\n",
    "import seaborn as sns\n",
    "sns.set_style(\"whitegrid\")\n",
    "sns.set_context(\"poster\")"
   ]
  },
  {
   "cell_type": "markdown",
   "metadata": {},
   "source": [
    "##  Information and Entropy\n",
    "\n",
    "Imagine tossing a coin. If I knew the exact physics of the coin, the initial conditions of the tossing, I could predict deterministically how the coin would land. But usually, without knowing anything, I say by symmetry or by \"long-run\" experince that the odds of getting heads are 50%.\n",
    "\n",
    "This reflects my minimal knowledge about this system. Without knowing anything else about the universe...the physics, the humidity, the weighting of the coin, etc..assuming a probability of 0.5 of getting heads is the most conservative thing I could do. \n",
    "\n",
    "You can think of this as a situation with minimal information content.\n",
    "\n",
    "It is a very interesting situation, however, when you think about this from the perspective of the multiple ways you could get half the coin tosses in a long run of coin tosses come up heads. There is only one way in which you can get all coin tosses come up heads. There are $n \\choose n/2$ ways  on the other hand in which you can get half heads! You can think of this situation being one of more states or events being consistent with a probability of heads of 0.5 than with a probability of 1.\n",
    "\n",
    "By the same token, an election with a win probability of 0.99 isnt that interesting. A lot of information went into getting this probability presumably: polls, economic modelling, etc. But to get such certainty implies a greater determinism-to-randomness ratio in the process.\n",
    "\n",
    "One can think of **information as the reduction in uncertainty from learning an outcome**\n",
    "\n",
    "Clearly we need a measure of uncertainty so that we can quantify how much it has decreased.\n",
    "\n",
    "### Desiderata for a measure of uncertainty\n",
    "\n",
    "- must be continuous so that there are no jumps\n",
    "- must be additive across events or states, and must increase as the number of events/states increases"
   ]
  },
  {
   "cell_type": "markdown",
   "metadata": {},
   "source": [
    "## Entropy measures uncertainty\n",
    "\n",
    "A function that satisfies these desiderata is the information entropy:\n",
    "\n",
    "$$H(p) = - E_p[log(p)] = - \\int p(x) log(p(x))dx \\,\\,\\,OR\\, - \\sum_i p_i log(p_i) $$\n",
    "\n",
    "Thus the entropy is the average log probability of an event..."
   ]
  },
  {
   "cell_type": "markdown",
   "metadata": {},
   "source": [
    "### Example of the coin toss or Bernoulli variable\n",
    "\n",
    "$$H(p) = - E_p[log(p)] = - p*log(p) - (1-p)*log(1-p)$$\n",
    "\n",
    "For  $p=0$ or $p=1$ we must use L'Hospital's rule: if we have the division of two limits as $0/0$ or $\\infty/\\infty$ then differentiate both the numerator and denominator and try again:\n",
    "\n",
    "$$\\lim_{p \\to 0}  \\frac{log(p)}{1/p} =  \\lim_{p \\to 0}  \\frac{1/p}{-1/p^2} = 0$$"
   ]
  },
  {
   "cell_type": "code",
   "execution_count": 4,
   "metadata": {},
   "outputs": [
    {
     "data": {
      "text/plain": [
       "<matplotlib.lines.Line2D at 0x7fdc74be9a90>"
      ]
     },
     "execution_count": 4,
     "metadata": {},
     "output_type": "execute_result"
    },
    {
     "data": {
      "image/png": "[encoded data removed]",
      "text/plain": [
       "<Figure size 432x288 with 1 Axes>"
      ]
     },
     "metadata": {
      "needs_background": "light"
     },
     "output_type": "display_data"
    }
   ],
   "source": [
    "import math\n",
    "p = np.linspace(0,1,100)\n",
    "def h(p):\n",
    "    if p==1.:\n",
    "        ent = 0\n",
    "    elif p==0.:\n",
    "        ent = 0\n",
    "    else:\n",
    "        ent = - (p*math.log(p) + (1-p)* math.log(1-p))\n",
    "    return ent\n",
    "plt.plot(p, [h(pr) for pr in p]);\n",
    "plt.axvline(0.5, 0, 1)"
   ]
  },
  {
   "cell_type": "markdown",
   "metadata": {},
   "source": [
    "Thus you can see there is maximal uncertainty at 0.5."
   ]
  },
  {
   "cell_type": "markdown",
   "metadata": {},
   "source": [
    "## Thermodynamic notion of Entropy\n",
    "\n",
    "Imagine dividing $N$ objects amongst $M$ bins. One can think of this as stone tossing, where we toss N stones and see in which bin they land up. There is a distribution for this, $\\{p_i\\}$, of-course, so lets see what it is.\n",
    "\n",
    "There are $N$ ways to fill the first bin, $N-1$ ways to fill the second, $N-2$ ways to fill the third, and so on...thus $N!$ ways. Since we dont distinguish the arrangement of objects in each bin we must divide bu the factorial of the bin amounts. If we then assume a uniform chance of landing in each bucket, then we just get the nultinomial distribution:\n",
    "\n",
    "$$P(n_1, n_2, ..., n_M) = \\frac{N!}{\\prod_{i} n_i!} \\prod_i (\\frac{1}{M})^{n_i} = \\frac{N!}{\\prod_{i} n_i!} \\left(\\frac{1}{M}\\right)^N$$\n",
    "\n",
    "$$ W =  \\frac{N!}{\\prod_{i} n_i!} $$\n",
    "\n",
    "is called the multiplicity and the entropy is then defined as:\n",
    "\n",
    "$$H = \\frac{1}{N} log(W)$$ which is:\n",
    "\n",
    "$$\\frac{1}{N}log(P(n_i, n_2, ...,n_M))$$\n",
    "\n",
    "with a constant term removed.\n",
    "\n",
    "\n",
    "$$H = \\frac{1}{N} log(N!) - \\frac{1}{N} \\sum_i log(n_i!)$$.\n",
    "\n",
    "Using Stirling's approximation $log(N!) \\sim Nlog(N) -N$ as $N \\to \\infty$ and where the fractions $n_i/N$ are held fixed:\n",
    "\n",
    "$$ H =  \\frac{1}{N}\\left( N log(N) - N - \\sum_i (n_i log(n_i) - n_i)\\right)$$\n",
    "\n",
    "$$ = log(N) -1 -\\frac{1}{N} \\sum_i (Np_i log(Np_i) - Np_i) = log(N) -1 - \\sum_i \\left(p_i(log(N) + log(p_i)) - p_i\\right)$$\n",
    "\n",
    "Thus\n",
    "\n",
    "$$H = -\\sum_i p_i log(p_i)$$\n",
    "\n",
    "If the probabilities of landing in each bucket are not equal, ie not uniform, then we can show:\n",
    "\n",
    "$$\\frac{1}{N}log(P(n_i, n_2, ...,n_M)) = -\\sum_i p_i log(\\frac{p_i}{q_i})$$"
   ]
  },
  {
   "cell_type": "markdown",
   "metadata": {},
   "source": [
    "This definition has origins in statistical mechanics. Entropy was first introduced in thermodynamics and then later interpreted as a measure of disorder: how many events or states can a system constrained to have a given enrgy have. A physicist calls  a particular arrangement $\\{n_i\\} = (m_1, n_2, n_3,...,n_M)$ a microstate and the overall distribution of $\\{p_i\\}$, here the multinomial , a macrostate, with $W$ calledthe weight."
   ]
  },
  {
   "cell_type": "markdown",
   "metadata": {},
   "source": [
    "## Maximum Entropy (maxent)\n",
    "\n",
    "Maximum entropy is the notion of finding distributions consistent with constraints and the current state of our knowledge . In other words, what would be the least surprising distribution? The one with the least additional assumptions?\n",
    "\n",
    "We can maximize\n",
    "\n",
    "$$H = -\\sum_i p_i log(p_i)$$\n",
    "\n",
    "in the case of the ball and bin model above, by considering the langrange-multiplier enhanced, constraint enforcing entropy\n",
    "\n",
    "$$H = -\\sum_i p_i log(p_i) + \\lambda \\left( \\sum_i p(x_i) - 1 \\right)$$\n",
    "\n",
    "$$\\frac{\\partial H}{\\partial p_j} = 0 \\implies -(1+log(p_j)) + \\lambda = 0$$\n",
    "\n",
    "This means that the $p_j$'s are all equal and thus must be $\\frac{1}{M}$: thus the  distribution with all $p$s equal maximizes entropy.\n",
    "\n",
    "The distribution that can happen in the most ways is the one with the highest entropy, as we can see above."
   ]
  },
  {
   "cell_type": "markdown",
   "metadata": {},
   "source": [
    "### Normal as maxent"
   ]
  },
  {
   "cell_type": "markdown",
   "metadata": {},
   "source": [
    "The origin story of the gaussian itself is that  many small effects add up to produce them. It is exactly the \"many\" aspect os these that makes the gaussian a maxent distribution. For every sequence that produces an unbalanced outcome(like a long string of heads), there are many more ways of producing a balanced outcome. In otherwords, there are so many microstates of the system that can produce the \"peak\" macrostates.\n",
    "\n",
    "This is a plot from McElreath of a bunch of generalized normal distributions. with same mean and variance. The Gaussuan has the highest entropy, as we shall prove below.\n",
    "\n",
    "![](../images/gen_norm.png)\n",
    "\n",
    "If you think about entropy increasing as we make a distribution flatter, you realize that the shape must come about because finite and equal variance puts a limit on how wide the distribution can be."
   ]
  },
  {
   "cell_type": "markdown",
   "metadata": {},
   "source": [
    "$$\\renewcommand{kld}{D_{KL}}$$\n",
    "\n",
    "For a gaussian\n",
    "\n",
    "$$p(x) = \\frac{1}{\\sigma \\sqrt{2\\pi}} e^{-(x - \\mu)^2/2\\sigma^2}$$\n",
    "\n",
    "$$H(p) = E_p[log(p)] = E_p[-\\frac{1}{2}log(2\\pi\\sigma^2) - (x - \\mu)^2/2\\sigma^2]$$\n",
    "\n",
    "$$ =  -\\frac{1}{2}log(2\\pi\\sigma^2) - \\frac{1}{2\\sigma^2}E_p[(x - \\mu)^2] = -\\frac{1}{2}log(2\\pi\\sigma^2) - \\frac{1}{2} = \\frac{1}{2}log(2\\pi e \\sigma^2)$$\n",
    "\n",
    "No other distribution $q$ can have higher entropy than this, provided they share the same variance and mean.\n",
    "\n",
    "To see this consider (note change in order, we are considering $\\kld(q, p)$:\n",
    "\n",
    "$$\\kld(q, p) = E_q[log(q/p)] = H(q,p) - H(q)$$"
   ]
  },
  {
   "cell_type": "markdown",
   "metadata": {},
   "source": [
    "$$H(q,p) = E_q[log(p)] = E_q[-\\frac{1}{2}log(2\\pi\\sigma^2) - (x - \\mu)^2/2\\sigma^2] \\\\= -\\frac{1}{2}log(2\\pi\\sigma^2) - \\frac{1}{2\\sigma^2}E_q[(x - \\mu)^2]$$\n",
    "\n",
    "The second expectation here is the variance $\\s\n",
    "igma^2$ on the assumption that $E_q[x] = \\mu$.\n",
    "\n",
    "Thus\n",
    "\n",
    "$$H(q,p) =  -\\frac{1}{2}log(2\\pi\\sigma^2) - \\frac{1}{2} =  -\\frac{1}{2}log(2\\pi e \\sigma^2) = H(p)$$"
   ]
  },
  {
   "cell_type": "markdown",
   "metadata": {},
   "source": [
    "Now as we have shown $\\kld(q,p) >=0$. This means that  $H(q,p) - H(q) >= 0$. Which then means that $H(p) - H(q) >= 0$ or $H(p) >= H(q)$. This means that the Gaussian has the highest entropy of any distribution with the same mean and variance."
   ]
  },
  {
   "cell_type": "markdown",
   "metadata": {},
   "source": [
    "See http://www.math.uconn.edu/~kconrad/blurbs/analysis/entropypost.pdf for details on maxent for distributions."
   ]
  },
  {
   "cell_type": "markdown",
   "metadata": {},
   "source": [
    "### Binomial as Maxent\n",
    "\n",
    "Information entropy increases as a probability distribution becomes more even. We saw that with the thermodynamic idea of entropy and the multinomial distribution.\n",
    "\n",
    "Consider the situation when:\n",
    "\n",
    "- only two outcomes (unordered) are possible.\n",
    "- the process generating the outcomes is invariant in time, ie  the expected value remains constant (over temporal or other subsequences)\n",
    "\n",
    "Then it turns out that  for these constraints, the maximum entropy distribution is the binomial.  The binomial basically spreads probability out as evenly and conservatively as possible, making sure that outcomes that have many more ways they can happen have more probability mass. Basically the binomial figures the number of ways any possible sequence of data can be realized, which is what entropy does. Thus it turns out that likelihoods derived by such counting turn out to be maximum entropy likelihoods.\n",
    "\n",
    "$$H(q,p) >= H(q) \\implies -E_q[log(p)] >= -E_q[log(q)]$$\n",
    "\n",
    "For binomial parameter $\\lambda/n$:\n",
    "\n",
    "$$ H(q, p) = - \\sum_i q_i log(p_i) = -\\sum_i q_i \\left(log \\left(\\frac{\\lambda}{n}\\right)^{x_i}  + log \\left(\\frac{n-\\lambda}{n}\\right)^{n - x_i} \\right)$$\n",
    "\n",
    "$$ =  - \\sum_i q_i \\left( x_i log\\left(\\frac{\\lambda}{n}\\right) + (n - x_i) log \\left(\\frac{n-\\lambda}{n}\\right)\\right)$$\n",
    "\n",
    "$$ =  - \\sum_i q_i  \\left( x_i log \\left(\\frac{\\lambda}{n-\\lambda}\\right)  + n log \\left(\\frac{n-\\lambda}{\\lambda}\\right) \\right)$$"
   ]
  },
  {
   "cell_type": "markdown",
   "metadata": {},
   "source": [
    "$$ H (q, p) =  - n log \\left(\\frac{n-\\lambda}{\\lambda}\\right) -  log\\left(\\frac{\\lambda}{n-\\lambda}\\right)E_q[x]$$"
   ]
  },
  {
   "cell_type": "markdown",
   "metadata": {},
   "source": [
    "Now, if $E_q[x] = \\lambda$, our invariant expectation, we have $H(q,p) = H(p)$ as we get the same formula if we substitute $q=p$ to get the entropy of the binomial. In other words, $H(p) >= H(q)$ and we have shown the binomial has maximum entropy amongst discrete distributions with two outcomes and fixed expectations."
   ]
  },
  {
   "cell_type": "markdown",
   "metadata": {},
   "source": [
    "## The importance of maxent\n",
    "\n",
    "The most common distributions used as likelihoods (and priors) in modeling are those in the exponential family. The exponential family can be defined  as having pmf or pdf:\n",
    "\n",
    "$$p(x|\\theta) =  \\frac{1}{Z(\\theta)} h(x) e^{\\theta^T\\phi(x)}$$\n",
    "\n",
    "Where $Z(\\theta)$, also called the partition function, is the normalization.\n",
    "\n",
    "For example, the univariate Gaussian Distribution can be obtained with:\n",
    "\n",
    "$$\n",
    "\\begin{eqnarray}\n",
    "\\theta &=& \\begin{pmatrix}\\mu/\\sigma^2 \\\\-1/2\\sigma^2\\end{pmatrix}\\\\\n",
    "\\phi(x) &=&  \\begin{pmatrix}x \\\\x^2\\end{pmatrix}\\\\\n",
    "Z(\\mu, \\sigma^2) &=& \\sigma\\sqrt{2\\pi} e^{\\mu^2/2\\sigma^2}\\\\\n",
    "h(x) &=& 1\n",
    "\\end{eqnarray}\n",
    "$$\n",
    "\n",
    "Each member of the exponential family turns out to be a maximum entropy distribution subject to different constraints. These distributions are then used as likelihoods. \n",
    "\n",
    "![](../images/expofamily.png)\n"
   ]
  },
  {
   "cell_type": "markdown",
   "metadata": {},
   "source": [
    "For example, the gamma distribution, which we shall see later, is maximum entropy amongst all distributions with the same mean and same average logarithm. The poisson distribution, used for low event rates,  is maxent under similar conditions as the binomial as it is  a special case of the binomial. The exponential distribution is maxent among all non-negative continuous distributions with the same average inter-event displacement. (In our births example, the inter-birth time).\n",
    "\n",
    "We'll talk more about these distributions when we encounter them, and when we talk about generalized linear models.\n",
    "\n",
    "But here is the critical point. We will often choose a maximum entropy distribution as a likelihood . Information entropy ennumerates the number of ways a distribution can arise, after having fixed some assumptions. Thus, in choosing a MAXENT distribution as a likelihood, we choose a distribution that once the constraints has been met, does not contain any additional assumptions. It is thus the most conservative distribution we could choose consistent with our constraints.\n"
   ]
  }
 ],
 "metadata": {
  "anaconda-cloud": {},
  "celltoolbar": "Raw Cell Format",
  "kernelspec": {
   "display_name": "Python 3",
   "language": "python",
   "name": "python3"
  },
  "language_info": {
   "codemirror_mode": {
    "name": "ipython",
    "version": 3
   },
   "file_extension": ".py",
   "mimetype": "text/x-python",
   "name": "python",
   "nbconvert_exporter": "python",
   "pygments_lexer": "ipython3",
   "version": "3.7.2"
  }
 },
 "nbformat": 4,
 "nbformat_minor": 1
}
