{
 "cells": [
  {
   "cell_type": "markdown",
   "metadata": {
    "slideshow": {
     "slide_type": "slide"
    }
   },
   "source": [
    "# Basic Monte Carlo \n",
    "\n",
    "##### Keywords: sampling, rejection sampling, integration, lotus, law of large numbers, monte-carlo, expectations"
   ]
  },
  {
   "cell_type": "code",
   "execution_count": 1,
   "metadata": {
    "hide": true,
    "slideshow": {
     "slide_type": "slide"
    }
   },
   "outputs": [],
   "source": [
    "%matplotlib inline\n",
    "import numpy as np\n",
    "from scipy import stats\n",
    "from scipy.stats import norm\n",
    "import matplotlib.pyplot as plt\n",
    "import seaborn as sns\n",
    "sns.set_style('white')\n",
    "sns.set_context('talk')"
   ]
  },
  {
   "cell_type": "markdown",
   "metadata": {},
   "source": [
    "## Monte Carlo\n",
    "\n",
    "The basic idea of a Monte Carlo Algorithm is to use randomness to solve what is often a deterministic problem. In this course, we'll study their application in 3 different places: optimization, integration, and obtaining draws from a probability distribution. These uses are often intertwined: optimization is needed to find modes of distributions and integration to find expectations.\n",
    "\n",
    "Wikipedia has a facinating bit of [history](https://en.wikipedia.org/wiki/Monte_Carlo_method) on the subject, from which I quote:\n",
    "\n",
    ">The first thoughts and attempts I made to practice [the Monte Carlo Method] were suggested by a question which occurred to me in 1946 as I was convalescing from an illness and playing solitaires. The question was what are the chances that a Canfield solitaire laid out with 52 cards will come out successfully? After spending a lot of time trying to estimate them by pure combinatorial calculations, I wondered whether a more practical method than \"abstract thinking\" might not be to lay it out say one hundred times and simply observe and count the number of successful plays. This was already possible to envisage with the beginning of the new era of fast computers, and I immediately thought of problems of neutron diffusion and other questions of mathematical physics, and more generally how to change processes described by certain differential equations into an equivalent form interpretable as a succession of random operations. Later [in 1946], I described the idea to John von Neumann, and we began to plan actual calculations.\n",
    "–Stanislaw Ulam\n",
    "\n",
    ">Being secret, the work of von Neumann and Ulam required a code name.[citation needed] A colleague of von Neumann and Ulam, Nicholas Metropolis, suggested using the name Monte Carlo, which refers to the Monte Carlo Casino in Monaco where Ulam's uncle would borrow money from relatives to gamble."
   ]
  },
  {
   "cell_type": "markdown",
   "metadata": {
    "slideshow": {
     "slide_type": "slide"
    }
   },
   "source": [
    "## Estimate the area of a unit circle\n",
    "\n",
    "To understand how randomness can be brought to bear upon solving deterministic problems, consider a very simple example: the value of $\\pi$. If you could uniformly generate random numbers on a square, you could ask, how many of these numbers would fall inside a unit circle embedded in and touching the midpoints of the sides of the square. This ratio would be\n",
    "\n",
    "$$\\frac{\\pi \\times 1^2}{2^2} = \\frac{\\pi}{4}.$$"
   ]
  },
  {
   "cell_type": "code",
   "execution_count": 2,
   "metadata": {},
   "outputs": [
    {
     "ename": "TypeError",
     "evalue": "'float' object cannot be interpreted as an integer",
     "output_type": "error",
     "traceback": [
      "\u001b[0;31m---------------------------------------------------------------------------\u001b[0m",
      "\u001b[0;31mTypeError\u001b[0m                                 Traceback (most recent call last)",
      "\u001b[0;32m<ipython-input-2-2f8c32d3bbf4>\u001b[0m in \u001b[0;36m<module>\u001b[0;34m\u001b[0m\n\u001b[1;32m      6\u001b[0m \u001b[0;34m\u001b[0m\u001b[0m\n\u001b[1;32m      7\u001b[0m \u001b[0;31m#drawing random points uniform between -1 and 1\u001b[0m\u001b[0;34m\u001b[0m\u001b[0;34m\u001b[0m\u001b[0;34m\u001b[0m\u001b[0m\n\u001b[0;32m----> 8\u001b[0;31m \u001b[0mX\u001b[0m \u001b[0;34m=\u001b[0m \u001b[0mnp\u001b[0m\u001b[0;34m.\u001b[0m\u001b[0mrandom\u001b[0m\u001b[0;34m.\u001b[0m\u001b[0muniform\u001b[0m\u001b[0;34m(\u001b[0m\u001b[0mlow\u001b[0m\u001b[0;34m=\u001b[0m\u001b[0;34m-\u001b[0m\u001b[0;36m1\u001b[0m\u001b[0;34m,\u001b[0m \u001b[0mhigh\u001b[0m\u001b[0;34m=\u001b[0m\u001b[0;36m1\u001b[0m\u001b[0;34m,\u001b[0m \u001b[0msize\u001b[0m\u001b[0;34m=\u001b[0m\u001b[0mN_total\u001b[0m\u001b[0;34m)\u001b[0m\u001b[0;34m\u001b[0m\u001b[0;34m\u001b[0m\u001b[0m\n\u001b[0m\u001b[1;32m      9\u001b[0m \u001b[0mY\u001b[0m \u001b[0;34m=\u001b[0m \u001b[0mnp\u001b[0m\u001b[0;34m.\u001b[0m\u001b[0mrandom\u001b[0m\u001b[0;34m.\u001b[0m\u001b[0muniform\u001b[0m\u001b[0;34m(\u001b[0m\u001b[0mlow\u001b[0m\u001b[0;34m=\u001b[0m\u001b[0;34m-\u001b[0m\u001b[0;36m1\u001b[0m\u001b[0;34m,\u001b[0m \u001b[0mhigh\u001b[0m\u001b[0;34m=\u001b[0m\u001b[0;36m1\u001b[0m\u001b[0;34m,\u001b[0m \u001b[0msize\u001b[0m\u001b[0;34m=\u001b[0m\u001b[0mN_total\u001b[0m\u001b[0;34m)\u001b[0m\u001b[0;34m\u001b[0m\u001b[0;34m\u001b[0m\u001b[0m\n\u001b[1;32m     10\u001b[0m \u001b[0;34m\u001b[0m\u001b[0m\n",
      "\u001b[0;32mmtrand.pyx\u001b[0m in \u001b[0;36mmtrand.RandomState.uniform\u001b[0;34m()\u001b[0m\n",
      "\u001b[0;32mmtrand.pyx\u001b[0m in \u001b[0;36mmtrand.cont2_array_sc\u001b[0;34m()\u001b[0m\n",
      "\u001b[0;31mTypeError\u001b[0m: 'float' object cannot be interpreted as an integer"
     ]
    }
   ],
   "source": [
    "#area of the bounding box\n",
    "box_area = 4.0    \n",
    "\n",
    "#number of samples\n",
    "N_total = 10000.0 \n",
    "\n",
    "#drawing random points uniform between -1 and 1\n",
    "X = np.random.uniform(low=-1, high=1, size=N_total)  \n",
    "Y = np.random.uniform(low=-1, high=1, size=N_total)   \n",
    "\n",
    "# calculate the distance of the points from the center \n",
    "distance = np.sqrt(X**2+Y**2);  \n",
    " \n",
    "# check if point is inside the circle    \n",
    "is_point_inside = distance<1.0\n",
    "\n",
    "# sum up the hits inside the circle\n",
    "N_inside=np.sum(is_point_inside)\n",
    "\n",
    "# estimate the circle area\n",
    "circle_area = box_area * N_inside/N_total\n",
    "\n",
    "# some nice visualization\n",
    "plt.scatter(X,Y, c=is_point_inside, s=5.0, edgecolors='none', cmap=plt.cm.Paired)  \n",
    "plt.axis('equal')\n",
    "plt.xlabel('x')\n",
    "plt.ylabel('y')\n",
    "\n",
    "# text output\n",
    "print(\"Area of the circle = \", circle_area)\n",
    "print(\"pi = \", np.pi)"
   ]
  },
  {
   "cell_type": "markdown",
   "metadata": {},
   "source": [
    "Intuitively, one might expect our estimate of $\\pi$ to get better as we draw more and more samples: we are covering the areas with samples much better when we do that.\n",
    "\n",
    "Lets try to think about the mathematics in the intuition which tells us that we can calculate $\\pi$ in this way. \n",
    "\n",
    "The area of the circle C can be obtained by computing a double integral like so:\n",
    "\n",
    "$$A = \\int_x \\int_y I_{\\in C}(x, y) dx dy = \\int \\int_{\\in C} dx dy $$\n",
    "\n",
    "where $I_{\\in C} (x, y) = 1$ if\n",
    "$x,y \\in C$ and $I_{\\in C}(x) = 0$ if $x,y \\notin C$.\n",
    "\n",
    "This is basically adding up all the small area elements inside the circle.\n",
    "\n",
    "Remember from the LOTUS:\n",
    "\n",
    "$$E_f[I_{\\in C} (X,Y)] = \\int I_{\\in C} (X,Y) dF(X,Y) = \\int_{\\in C} dF(X,Y) = \\int \\int_{\\in C} f_{X,Y} (x,y) dx dy = p(X,Y \\in C)$$\n",
    "\n",
    "and then we can use the law of large numbers to calculate this expectation and thus this probability.\n",
    "\n",
    "The relationship of the expression all the way on the left to that all the way on the right is simply the law of large numbers we saw before. This is a distribution independent statement.\n",
    "\n",
    "But the critical thing to notice is that:\n",
    "\n",
    "$$\\int \\int_{\\in C} f_{X,Y} (x,y) dx dy  =  \\frac{1}{V} \\int \\int_{\\in C}  dx dy = E_f[I_{\\in C} (X,Y)]$$ \n",
    "\n",
    "once we choose a uniform distribution. Here $V$ is the support, the normalizing factor..here 4. The expectation from the law of large numbers comes from a sequence of identically distributed bernoullis (independent of $f$ which here is uniform). All we have to do, is just like before in the law, count the frequency of samples inside.\n",
    "\n",
    "\n"
   ]
  },
  {
   "cell_type": "markdown",
   "metadata": {},
   "source": [
    "## Hit or miss method\n",
    "\n",
    "This simple scenario of inside-or-outside can be used as a general (but poor, as missing increases exponentially with dimension)  way to use the generation of samples to carry out integration\n",
    "\n",
    "![](images/hitormiss.png)\n",
    "\n",
    "You basically generate samples from a uniform distribution with support on the rectangle and see how many fall below $y(x)$ at a specific x.\n",
    "\n",
    "This is the basic idea behind rejection sampling"
   ]
  }
 ],
 "metadata": {
  "anaconda-cloud": {},
  "celltoolbar": "Raw Cell Format",
  "kernelspec": {
   "display_name": "Python 3",
   "language": "python",
   "name": "python3"
  },
  "language_info": {
   "codemirror_mode": {
    "name": "ipython",
    "version": 3
   },
   "file_extension": ".py",
   "mimetype": "text/x-python",
   "name": "python",
   "nbconvert_exporter": "python",
   "pygments_lexer": "ipython3",
   "version": "3.7.2"
  }
 },
 "nbformat": 4,
 "nbformat_minor": 1
}
