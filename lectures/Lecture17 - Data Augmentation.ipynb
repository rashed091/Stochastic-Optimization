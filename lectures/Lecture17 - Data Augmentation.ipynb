{
 "cells": [
  {
   "cell_type": "markdown",
   "metadata": {},
   "source": [
    "# Data Augmentation\n",
    "\n",
    "##### Keywords: data augmentation, gibbs sampler, MCMC"
   ]
  },
  {
   "cell_type": "markdown",
   "metadata": {},
   "source": [
    "The idea is to construct iterative algorithms for sampling based on the introduction of unobserved data or **hidden** variables. Does the iterative part sound familiar? We did that in Gibbs sampling.\n",
    "\n",
    "We'll soon see s deterministic version of this idea when we talk about the Expectation Maximization Algorithm (Dempster, Laird, and Rubin (1977)). Here we'll see a stochastic version from Tanner and Wong's (1987) *Data Augmentation algorithm for posterior sampling*. This was also explored in the physics by Swendsen and Wang's (1987) algorithm for sampling from Ising and Potts models. (Look it up, it relates to your homework!)\n",
    "\n",
    "Indeed the general idea of introducing a hidden variable will also be exploited to introduce slice sampling and Hamiltonian Monte Carlo. Thus we shall see that the method is useful not only in \"theory\" to understand the decomposition of outcomes through hidden factors, but also in a practical way to construct sampling algorithms"
   ]
  },
  {
   "cell_type": "markdown",
   "metadata": {},
   "source": [
    "The difference from Gibbs Sampling here is that we are thinking of a 1 (or lower) dimensional distribution or posterior we want to sample from, say $x$, and the other variable, say $y$, is to be treated as latent.\n",
    "\n",
    "The game is, like in Gibbs, to construct a joint $p(x,y)$ such that we can sample from $p(x \\vert y)$ and $p(y \\vert x)$, and then find the marginal\n",
    "\n",
    "$$p(x) = \\int dy\\,p(x,y).$$"
   ]
  },
  {
   "cell_type": "markdown",
   "metadata": {},
   "source": [
    "The simplest form of a Data aumentation algorithm looks like this:\n",
    "\n",
    "1. Draw $Y\\sim p_{Y \\vert X}(. \\vert x)$ and call the observed value y\n",
    "2. Draw $X_{n+1} \\sim p_{X \\vert Y}(. \\vert y)$  \n",
    "\n",
    "\n",
    "Here is an example"
   ]
  },
  {
   "cell_type": "code",
   "execution_count": 1,
   "metadata": {},
   "outputs": [],
   "source": [
    "%matplotlib inline\n",
    "import numpy as np\n",
    "import scipy as sp\n",
    "import matplotlib.pyplot as plt\n",
    "import pandas as pd\n",
    "pd.set_option('display.width', 500)\n",
    "pd.set_option('display.max_columns', 100)\n",
    "import seaborn as sns"
   ]
  },
  {
   "cell_type": "markdown",
   "metadata": {},
   "source": [
    "## Example\n",
    "\n",
    "\n",
    "Suppose that $p_X$ is the standard normal density, i.e., \n",
    "\n",
    "$$p(x) = e^{-x^2/2}/\\sqrt{2\\pi}$$.\n",
    "\n",
    "We'll pretend we dont know how to sample from it.\n",
    "\n",
    "Take \n",
    "\n",
    "$$p(x, y) = 1/(\\sqrt{2\\pi}) \\exp{\\left\\{-(x^2 - \\sqrt{2} xy + y^2) \\right\\} } $$\n",
    "\n",
    "which is a bivariate normal density with means equal to zero, variances equal\n",
    "to one, and correlation equal to $1/\\sqrt{2}$. The two conditionals are  normal, as we can see by completing the square and neglecting the part of the function that only depends on the variable not being conditioned upon ($e^{-y^2 }$ and $e^{-x^2 }$ respectively for the conditionals below).\n",
    "\n",
    "$$ \n",
    "Y \\vert X = x \\, \\, \\sim N(x/\\sqrt{2}, 1/2) \\,\\,\\,  \\rm{and} \\,\\,\\, X \\vert Y= y \\,\\,\\sim N(y/\\sqrt{2}, 1/2) $$\n",
    "\n",
    "The x-marginal is \n",
    "\n",
    "$$\\propto e^{-x^{2}/2} \\int e^{-(y-x/\\sqrt{2})^2 }dy $$ \n",
    "\n",
    "and clearly thus gets back the old normal we want to draw from."
   ]
  },
  {
   "cell_type": "code",
   "execution_count": 2,
   "metadata": {},
   "outputs": [],
   "source": [
    "N=100000\n",
    "x=np.zeros(N)\n",
    "x[0] = np.random.rand() # INITIALIZE\n",
    "for i in np.arange(1,N):\n",
    "    Y=sp.stats.norm.rvs(x[i-1]/np.sqrt(2), 0.5)\n",
    "    x[i]=sp.stats.norm.rvs(Y/np.sqrt(2), 0.5)"
   ]
  },
  {
   "cell_type": "code",
   "execution_count": 4,
   "metadata": {},
   "outputs": [
    {
     "data": {
      "text/plain": [
       "Text(0.5, 0, 'x')"
      ]
     },
     "execution_count": 4,
     "metadata": {},
     "output_type": "execute_result"
    },
    {
     "data": {
      "image/png": "[encoded data removed]",
      "text/plain": [
       "<Figure size 432x288 with 1 Axes>"
      ]
     },
     "metadata": {
      "needs_background": "light"
     },
     "output_type": "display_data"
    }
   ],
   "source": [
    "plt.hist(x, bins=30, alpha=0.3, density=True);\n",
    "sns.kdeplot(x)\n",
    "plt.xlabel('x')"
   ]
  },
  {
   "cell_type": "markdown",
   "metadata": {},
   "source": [
    "## Data Augmentation is a Markov Chain Monte Carlo\n",
    "\n",
    "Lets start from the \"transition kernel\" that we identified when we learnt about gibbs sampling\n",
    "\n",
    "$$ h(x', x) = h(x' \\vert x) = \\int_Y p(x' \\vert y) \\, p(y \\vert x)\\, dy $$\n",
    "\n",
    "where we have:\n",
    "\n",
    "$$ p(x') = \\int h(x' \\vert x ) p(x)\\,dx,$$\n",
    "\n",
    "the stationarity condition.\n",
    "\n",
    "Since we are dealing with probability densities, $h$ is always positive.\n",
    "\n",
    "Also note \n",
    "\n",
    "$$\n",
    "\\begin{eqnarray}\n",
    "  \\int h(x' \\vert x) dx' = \\int_{X} \\int_Y p(x' \\vert y) \\, p(y \\vert x) \\, dy \\, dx' = \\int_Y p(y \\vert x) \\left[ \\int_X p(x' \\vert y) dx' \\right] dy  = \\int_Y p(y \\vert x) dy  = 1\n",
    "\\end{eqnarray}\n",
    "$$"
   ]
  },
  {
   "cell_type": "markdown",
   "metadata": {},
   "source": [
    "  \n",
    "Therefore for each fixed $x$, $h(x' \\vert x)$ is non-negative and integrates to 1. The function $h$ therefore\n",
    "could be a Markov Chain transition density and if the current state is $x_n$ then the density of the next state \n",
    "would be $h(. \\vert x_n)$. "
   ]
  },
  {
   "cell_type": "markdown",
   "metadata": {},
   "source": [
    "Also  note that the $h(x' \\vert x)\\, p(x)$ is symmetric \n",
    "in $(x,x')$. \n",
    " \n",
    "$$ h(x' \\vert x)\\, p(x) = p(x) \\int_Y p(x' \\vert y) \\, p(y \\vert x) \\, dy = \\int_Y \\frac{p(x',y)\\, p(x,y) }{p(y)} \\, dy. $$\n",
    "\n",
    "The rhs is symmetric in  $(x,x')$ and so is $ h(x' \\vert x) p(x)$. \n",
    "\n",
    "The Markov chain generated with transition probability $h(x' \\vert x)$ is **REVERSIBLE** and thus supports detailed balance.  \n"
   ]
  },
  {
   "cell_type": "markdown",
   "metadata": {},
   "source": [
    "## Sequential Simulation\n",
    "\n",
    "Now consider the practical issue of simulating the Markov chain $X$. Given that the current\n",
    "state of the chain is $X_n = x$, how do we draw $X_{n+1}$ from the $h(. \\vert x)$? The answer is\n",
    "based on a sequential simulation technique that we now describe. \n",
    "\n",
    "Suppose we would like\n",
    "to simulate a random vector from some pdf, $p_U(u)$, but we cannot do this directly. Suppose\n",
    "further that $p_U$ is the u-marginal of the joint pdf $p_{U,V} (u, v)$ and that we have the ability to\n",
    "make draws from $p_V(v)$ and from $p_{U,V} (u,v)$ for fixed $v$. If we draw $V\\sim p_V(.)$, and then,\n",
    "conditional on $V = v$, we draw $U \\sim p_{U,V}(. \\vert v)$, then the observed pair, $(u, v)$, is a draw from\n",
    "$p_{U,V}$, which means that $u$ is a draw from $p_U$. We now can \n",
    "explain how it is used to simulate from $h(. \\vert x)$.\n",
    "\n",
    "Define \n",
    "\n",
    "$$ H(x',y \\vert  x) = p(x' \\vert y) p(y \\vert x) $$\n",
    "\n",
    "We apply the procedure above with $h(. \\vert x)$ and $H(.,. \\vert x)$ playing the roles of \n",
    "$p_U(.)$ and $p_{U,V}(.,.)$ respectively. We of course need the marginal of\n",
    "$H(x', y \\vert x)$ which is $p(y \\vert x)$ and the conditional density of $X'$ given $Y=y$  which is\n",
    "\n",
    "$$ \\frac{ H(x',y \\vert x) }{p(y \\vert x)} = p(x' \\vert y) $$\n",
    "\n",
    "which gives us the procedure above:\n",
    "\n",
    "1. Draw $Y\\sim p_{Y \\vert X}(. \\vert x)$ and call the observed value y\n",
    "2. Draw $X_{n+1} \\sim p_{X \\vert Y}(. \\vert y)$  "
   ]
  },
  {
   "cell_type": "code",
   "execution_count": null,
   "metadata": {},
   "outputs": [],
   "source": []
  }
 ],
 "metadata": {
  "anaconda-cloud": {},
  "kernelspec": {
   "display_name": "Python 3",
   "language": "python",
   "name": "python3"
  },
  "language_info": {
   "codemirror_mode": {
    "name": "ipython",
    "version": 3
   },
   "file_extension": ".py",
   "mimetype": "text/x-python",
   "name": "python",
   "nbconvert_exporter": "python",
   "pygments_lexer": "ipython3",
   "version": "3.7.2"
  }
 },
 "nbformat": 4,
 "nbformat_minor": 1
}
